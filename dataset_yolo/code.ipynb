{
 "cells": [
  {
   "cell_type": "code",
   "execution_count": 5,
   "metadata": {},
   "outputs": [
    {
     "name": "stdout",
     "output_type": "stream",
     "text": [
      "📁 Copied 337 images for split: train\n",
      "📁 Copied 38 images for split: val\n",
      "📁 Copied 706 images for split: test\n",
      "✅ COCO folder structure created at dataset_coco\n",
      "🎯 Folder structure set up for DINO!\n"
     ]
    }
   ],
   "source": [
    "import os\n",
    "import shutil\n",
    "from pathlib import Path\n",
    "\n",
    "def copy_yolo_to_coco_structure(yolo_root, coco_root):\n",
    "    yolo_root = Path(yolo_root)\n",
    "    coco_root = Path(coco_root)\n",
    "    splits = [\"train\", \"val\", \"test\"]\n",
    "\n",
    "    image_extensions = [\"*.jpg\", \"*.jpeg\", \"*.JPG\", \"*.JPEG\"]\n",
    "\n",
    "    for split in splits:\n",
    "        dst_images = coco_root / split / \"images\"\n",
    "        dst_images.mkdir(parents=True, exist_ok=True)\n",
    "\n",
    "        possible_sources = [yolo_root / split / \"images\", yolo_root / split]\n",
    "\n",
    "        copied = 0\n",
    "        for src in possible_sources:\n",
    "            if src.exists():\n",
    "                for ext in image_extensions:\n",
    "                    for img_file in src.glob(ext):\n",
    "                        shutil.copy(str(img_file), str(dst_images / img_file.name))\n",
    "                        copied += 1\n",
    "\n",
    "        print(f\"📁 Copied {copied} images for split: {split}\")\n",
    "\n",
    "    (coco_root / \"annotations\").mkdir(exist_ok=True)\n",
    "    print(f\"✅ COCO folder structure created at {coco_root}\")\n",
    "\n",
    "if __name__ == \"__main__\":\n",
    "    YOLO_DATASET_ROOT = \"/home/rshah133/bcd/dataset\"\n",
    "    COCO_DATASET_ROOT = \"dataset_coco\"\n",
    "\n",
    "    copy_yolo_to_coco_structure(YOLO_DATASET_ROOT, COCO_DATASET_ROOT)\n",
    "    print(\"🎯 Folder structure set up for DINO!\")"
   ]
  },
  {
   "cell_type": "code",
   "execution_count": 2,
   "metadata": {},
   "outputs": [
    {
     "name": "stdout",
     "output_type": "stream",
     "text": [
      "Saved /home/rshah133/bcd/dataset_coco/annotations/instances_train.json\n",
      "Saved /home/rshah133/bcd/dataset_coco/annotations/instances_val.json\n",
      "Saved /home/rshah133/bcd/dataset_coco/annotations/instances_test.json\n"
     ]
    }
   ],
   "source": [
    "import json\n",
    "from pathlib import Path\n",
    "from PIL import Image\n",
    "\n",
    "def convert_yolo_to_coco(images_dir, labels_dir, class_names):\n",
    "    images = []\n",
    "    annotations = []\n",
    "    ann_id = 1\n",
    "    img_id = 1\n",
    "    for img_path in sorted(images_dir.glob(\"*.jpg\")):\n",
    "        label_path = labels_dir / img_path.with_suffix(\".txt\").name\n",
    "        with Image.open(img_path) as im:\n",
    "            width, height = im.size\n",
    "        images.append({\n",
    "            \"file_name\": img_path.name,\n",
    "            \"height\": height,\n",
    "            \"width\": width,\n",
    "            \"id\": img_id\n",
    "        })\n",
    "        if label_path.exists():\n",
    "            with open(label_path, 'r') as f:\n",
    "                for line in f:\n",
    "                    cls, x, y, w, h = map(float, line.strip().split())\n",
    "                    x_min = (x - w / 2) * width\n",
    "                    y_min = (y - h / 2) * height\n",
    "                    annotations.append({\n",
    "                        \"id\": ann_id,\n",
    "                        \"image_id\": img_id,\n",
    "                        \"category_id\": int(cls),\n",
    "                        \"bbox\": [x_min, y_min, w * width, h * height],\n",
    "                        \"area\": w * width * h * height,\n",
    "                        \"iscrowd\": 0\n",
    "                    })\n",
    "                    ann_id += 1\n",
    "        img_id += 1\n",
    "    categories = [{\"id\": i, \"name\": name, \"supercategory\": \"none\"} for i, name in enumerate(class_names)]\n",
    "    return {\n",
    "        \"images\": images,\n",
    "        \"annotations\": annotations,\n",
    "        \"categories\": categories\n",
    "    }\n",
    "\n",
    "def convert_splits_to_coco_annotations(dataset_root, output_dir, class_names):\n",
    "    for split in [\"train\", \"val\", \"test\"]:\n",
    "        images_dir = Path(dataset_root) / split / \"images\"\n",
    "        labels_dir = Path(dataset_root) / split / \"labels\"\n",
    "        output_path = Path(output_dir) / f\"instances_{split}.json\"\n",
    "        coco_data = convert_yolo_to_coco(images_dir, labels_dir, class_names)\n",
    "        with open(output_path, \"w\") as f:\n",
    "            json.dump(coco_data, f, indent=4)\n",
    "        print(f\"Saved {output_path}\")\n",
    "\n",
    "# Example usage:\n",
    "dataset_root = \"/home/rshah133/bcd/dataset_yolo\"\n",
    "output_dir = \"/home/rshah133/bcd/dataset_coco/annotations\"\n",
    "class_names = [\"Mass\", \"Spiculation\", \"Suspicious Calcification\", \"Architectural Distortion\",\n",
    "               \"Asymmetry\", \"Focal Asymmetry\", \"Skin Thickening\", \"Global Asymmetry\",\n",
    "               \"Suspicious Lymph Node\", \"Skin Retraction\", \"Nipple Retraction\"]\n",
    "\n",
    "convert_splits_to_coco_annotations(dataset_root, output_dir, class_names)\n"
   ]
  },
  {
   "cell_type": "code",
   "execution_count": null,
   "metadata": {},
   "outputs": [],
   "source": []
  }
 ],
 "metadata": {
  "kernelspec": {
   "display_name": "pytorch-gpu-2.1.0-cuda-12.1",
   "language": "python",
   "name": "pytorch-gpu-2.1.0-cuda-12.1"
  },
  "language_info": {
   "codemirror_mode": {
    "name": "ipython",
    "version": 3
   },
   "file_extension": ".py",
   "mimetype": "text/x-python",
   "name": "python",
   "nbconvert_exporter": "python",
   "pygments_lexer": "ipython3",
   "version": "3.11.6"
  }
 },
 "nbformat": 4,
 "nbformat_minor": 2
}
