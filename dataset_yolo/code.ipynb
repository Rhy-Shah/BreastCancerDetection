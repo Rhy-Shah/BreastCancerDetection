{
 "cells": [
  {
   "cell_type": "code",
   "execution_count": 5,
   "metadata": {},
   "outputs": [
    {
     "name": "stdout",
     "output_type": "stream",
     "text": [
      "📁 Copied 337 images for split: train\n",
      "📁 Copied 38 images for split: val\n",
      "📁 Copied 706 images for split: test\n",
      "✅ COCO folder structure created at dataset_coco\n",
      "🎯 Folder structure set up for DINO!\n"
     ]
    }
   ],
   "source": [
    "import os\n",
    "import shutil\n",
    "from pathlib import Path\n",
    "\n",
    "def copy_yolo_to_coco_structure(yolo_root, coco_root):\n",
    "    yolo_root = Path(yolo_root)\n",
    "    coco_root = Path(coco_root)\n",
    "    splits = [\"train\", \"val\", \"test\"]\n",
    "\n",
    "    image_extensions = [\"*.jpg\", \"*.jpeg\", \"*.JPG\", \"*.JPEG\"]\n",
    "\n",
    "    for split in splits:\n",
    "        dst_images = coco_root / split / \"images\"\n",
    "        dst_images.mkdir(parents=True, exist_ok=True)\n",
    "\n",
    "        possible_sources = [yolo_root / split / \"images\", yolo_root / split]\n",
    "\n",
    "        copied = 0\n",
    "        for src in possible_sources:\n",
    "            if src.exists():\n",
    "                for ext in image_extensions:\n",
    "                    for img_file in src.glob(ext):\n",
    "                        shutil.copy(str(img_file), str(dst_images / img_file.name))\n",
    "                        copied += 1\n",
    "\n",
    "        print(f\"📁 Copied {copied} images for split: {split}\")\n",
    "\n",
    "    (coco_root / \"annotations\").mkdir(exist_ok=True)\n",
    "    print(f\"✅ COCO folder structure created at {coco_root}\")\n",
    "\n",
    "if __name__ == \"__main__\":\n",
    "    YOLO_DATASET_ROOT = \"/home/rshah133/bcd/dataset\"\n",
    "    COCO_DATASET_ROOT = \"dataset_coco\"\n",
    "\n",
    "    copy_yolo_to_coco_structure(YOLO_DATASET_ROOT, COCO_DATASET_ROOT)\n",
    "    print(\"🎯 Folder structure set up for DINO!\")"
   ]
  },
  {
   "cell_type": "code",
   "execution_count": null,
   "metadata": {},
   "outputs": [],
   "source": []
  }
 ],
 "metadata": {
  "kernelspec": {
   "display_name": "pytorch-gpu-2.1.0-cuda-12.1",
   "language": "python",
   "name": "pytorch-gpu-2.1.0-cuda-12.1"
  },
  "language_info": {
   "codemirror_mode": {
    "name": "ipython",
    "version": 3
   },
   "file_extension": ".py",
   "mimetype": "text/x-python",
   "name": "python",
   "nbconvert_exporter": "python",
   "pygments_lexer": "ipython3",
   "version": "3.11.6"
  }
 },
 "nbformat": 4,
 "nbformat_minor": 2
}
