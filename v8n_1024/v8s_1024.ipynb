{
 "cells": [
  {
   "cell_type": "markdown",
   "id": "5947e30b",
   "metadata": {},
   "source": [
    "Please install the necessary libraries using your terminal/shell in your env before running the code. You can check all the libraries mentioned in the next code block. To install any library you can use either one of the code mentioned below\n",
    "\n",
    "pip install library_name\n",
    "\n",
    "pip3 install library_name"
   ]
  },
  {
   "cell_type": "code",
   "execution_count": 2,
   "id": "fa3063b6",
   "metadata": {},
   "outputs": [],
   "source": [
    "import os\n",
    "import glob\n",
    "import yaml\n",
    "from ultralytics import YOLO\n",
    "import cv2\n",
    "import matplotlib.pyplot as plt\n",
    "import json\n",
    "from matplotlib.backends.backend_pdf import PdfPages\n",
    "import warnings\n",
    "\n",
    "warnings.filterwarnings('ignore')\n",
    "\n",
    "class_name = { 0: 'Mass',\n",
    "1: 'Spiculation',\n",
    "2: 'Suspicious Calcification',\n",
    "3: 'Architectural Distortion',\n",
    "4: 'Asymmetry',\n",
    "5: 'Focal Asymmetry',\n",
    "6: 'Skin Thickening',\n",
    "7: 'Global Asymmetry',\n",
    "8: 'Suspicious Lymph Node',\n",
    "9: 'Skin Retraction',\n",
    "10: 'Nipple Retraction'\n",
    "}\n",
    "\n",
    "color_dict = {\n",
    "    0: (255, 0, 0),      # Red\n",
    "    1: (0, 255, 0),      # Green\n",
    "    2: (0, 0, 255),      # Blue\n",
    "    3: (255, 255, 0),    # Yellow\n",
    "    4: (255, 165, 0),    # Orange\n",
    "    5: (128, 0, 128),    # Purple\n",
    "    6: (0, 255, 255),    # Cyan\n",
    "    7: (255, 192, 203),  # Pink\n",
    "    8: (128, 128, 0),    # Olive\n",
    "    9: (0, 0, 0),        # Black\n",
    "    10: (169, 169, 169)  # Dark Grey\n",
    "}"
   ]
  },
  {
   "cell_type": "markdown",
   "id": "8aedd37b",
   "metadata": {},
   "source": [
    "Mention dataset.yaml file path and run"
   ]
  },
  {
   "cell_type": "code",
   "execution_count": 3,
   "id": "41a4ebcd",
   "metadata": {},
   "outputs": [
    {
     "name": "stdout",
     "output_type": "stream",
     "text": [
      "Removed: /home/rshah133/bcd/dataset/split_1/train/labels.cache\n",
      "Removed: /home/rshah133/bcd/dataset/split_1/val/labels.cache\n"
     ]
    }
   ],
   "source": [
    "path = \"dataset.yaml\"\n",
    "\n",
    "def remove_cache_files(directory):\n",
    "    cache_files = glob.glob(os.path.join(directory, \"*.cache\"))\n",
    "    for cache_file in cache_files:\n",
    "        os.remove(cache_file)\n",
    "        print(f\"Removed: {cache_file}\")\n",
    "        \n",
    "with open(path, 'r') as stream:\n",
    "    data_loaded = yaml.safe_load(stream)\n",
    "\n",
    "remove_cache_files(os.path.dirname(data_loaded['train']))\n",
    "remove_cache_files(os.path.dirname(data_loaded['val']))"
   ]
  },
  {
   "cell_type": "markdown",
   "id": "b7c41e18",
   "metadata": {},
   "source": [
    "Change the model and hyperparameters.\n",
    "\n",
    "* Epochs = keep minimum 200\n",
    "* imgsz = change acc to your model assigned\n",
    "* patience = number of epochs model will check for accuracy improvement and then stop if accuracy is not improving\n",
    "* set device = [0,1] if you have 2 GPUs requested and device = 0 if only 1 GPU/CPU\n",
    "* save = True, this will help you save the model checkpoints on its own \n",
    "* save_period = 10, this is the number of epochs after which model will save the checkpoints\n",
    "* resume = True, if kernel crashes, model will continue training from the previous checkpoint\n",
    "* iou = keep iou between 0.5-0.7 and check for best metrics (hyperparameter to play with)\n",
    "* optimzer  = AdamW is the best for our model from what I have noticed. you can experiment if you want\n",
    "* learning rate, momentum, and weight decay are few more hyperparamerts you can play with"
   ]
  },
  {
   "cell_type": "code",
   "execution_count": 4,
   "id": "cf44d1cf",
   "metadata": {},
   "outputs": [
    {
     "name": "stdout",
     "output_type": "stream",
     "text": [
      "New https://pypi.org/project/ultralytics/8.3.69 available 😃 Update with 'pip install -U ultralytics'\n",
      "Ultralytics 8.3.68 🚀 Python-3.11.6 torch-2.5.1+cu124 CUDA:0 (NVIDIA A100-SXM4-80GB, 81156MiB)\n",
      "                                                      CUDA:1 (NVIDIA A100-SXM4-80GB, 81156MiB)\n",
      "\u001b[34m\u001b[1mengine/trainer: \u001b[0mtask=detect, mode=train, model=yolov8s.yaml, data=dataset.yaml, epochs=200, time=None, patience=25, batch=10, imgsz=1024, save=True, save_period=10, cache=False, device=[0, 1], workers=8, project=None, name=checkpoint, exist_ok=True, pretrained=True, optimizer=AdamW, verbose=True, seed=0, deterministic=True, single_cls=False, rect=False, cos_lr=False, close_mosaic=10, resume=None, amp=True, fraction=1.0, profile=False, freeze=None, multi_scale=False, overlap_mask=True, mask_ratio=4, dropout=0.0, val=True, split=val, save_json=False, save_hybrid=False, conf=None, iou=0.5, max_det=300, half=False, dnn=False, plots=True, source=None, vid_stride=1, stream_buffer=False, visualize=False, augment=False, agnostic_nms=False, classes=None, retina_masks=False, embed=None, show=False, save_frames=False, save_txt=False, save_conf=False, save_crop=False, show_labels=True, show_conf=True, show_boxes=True, line_width=None, format=torchscript, keras=False, optimize=False, int8=False, dynamic=False, simplify=True, opset=None, workspace=None, nms=False, lr0=0.01, lrf=0.01, momentum=0.937, weight_decay=0.0005, warmup_epochs=3.0, warmup_momentum=0.8, warmup_bias_lr=0.1, box=7.5, cls=0.5, dfl=1.5, pose=12.0, kobj=1.0, nbs=64, hsv_h=0.015, hsv_s=0.7, hsv_v=0.4, degrees=0.0, translate=0.1, scale=0.5, shear=0.0, perspective=0.0, flipud=0.0, fliplr=0.5, bgr=0.0, mosaic=1.0, mixup=0.0, copy_paste=0.0, copy_paste_mode=flip, auto_augment=randaugment, erasing=0.4, crop_fraction=1.0, cfg=None, tracker=botsort.yaml, save_dir=runs/detect/checkpoint\n"
     ]
    },
    {
     "name": "stderr",
     "output_type": "stream",
     "text": [
      "WARNING: All log messages before absl::InitializeLog() is called are written to STDERR\n",
      "E0000 00:00:1738121681.150214  923098 cuda_dnn.cc:8310] Unable to register cuDNN factory: Attempting to register factory for plugin cuDNN when one has already been registered\n",
      "E0000 00:00:1738121681.153136  923098 cuda_blas.cc:1418] Unable to register cuBLAS factory: Attempting to register factory for plugin cuBLAS when one has already been registered\n"
     ]
    },
    {
     "name": "stdout",
     "output_type": "stream",
     "text": [
      "Overriding model.yaml nc=80 with nc=11\n",
      "\n",
      "                   from  n    params  module                                       arguments                     \n",
      "  0                  -1  1       928  ultralytics.nn.modules.conv.Conv             [3, 32, 3, 2]                 \n",
      "  1                  -1  1     18560  ultralytics.nn.modules.conv.Conv             [32, 64, 3, 2]                \n",
      "  2                  -1  1     29056  ultralytics.nn.modules.block.C2f             [64, 64, 1, True]             \n",
      "  3                  -1  1     73984  ultralytics.nn.modules.conv.Conv             [64, 128, 3, 2]               \n",
      "  4                  -1  2    197632  ultralytics.nn.modules.block.C2f             [128, 128, 2, True]           \n",
      "  5                  -1  1    295424  ultralytics.nn.modules.conv.Conv             [128, 256, 3, 2]              \n",
      "  6                  -1  2    788480  ultralytics.nn.modules.block.C2f             [256, 256, 2, True]           \n",
      "  7                  -1  1   1180672  ultralytics.nn.modules.conv.Conv             [256, 512, 3, 2]              \n",
      "  8                  -1  1   1838080  ultralytics.nn.modules.block.C2f             [512, 512, 1, True]           \n",
      "  9                  -1  1    656896  ultralytics.nn.modules.block.SPPF            [512, 512, 5]                 \n",
      " 10                  -1  1         0  torch.nn.modules.upsampling.Upsample         [None, 2, 'nearest']          \n",
      " 11             [-1, 6]  1         0  ultralytics.nn.modules.conv.Concat           [1]                           \n",
      " 12                  -1  1    591360  ultralytics.nn.modules.block.C2f             [768, 256, 1]                 \n",
      " 13                  -1  1         0  torch.nn.modules.upsampling.Upsample         [None, 2, 'nearest']          \n",
      " 14             [-1, 4]  1         0  ultralytics.nn.modules.conv.Concat           [1]                           \n",
      " 15                  -1  1    148224  ultralytics.nn.modules.block.C2f             [384, 128, 1]                 \n",
      " 16                  -1  1    147712  ultralytics.nn.modules.conv.Conv             [128, 128, 3, 2]              \n",
      " 17            [-1, 12]  1         0  ultralytics.nn.modules.conv.Concat           [1]                           \n",
      " 18                  -1  1    493056  ultralytics.nn.modules.block.C2f             [384, 256, 1]                 \n",
      " 19                  -1  1    590336  ultralytics.nn.modules.conv.Conv             [256, 256, 3, 2]              \n",
      " 20             [-1, 9]  1         0  ultralytics.nn.modules.conv.Concat           [1]                           \n",
      " 21                  -1  1   1969152  ultralytics.nn.modules.block.C2f             [768, 512, 1]                 \n",
      " 22        [15, 18, 21]  1   2120305  ultralytics.nn.modules.head.Detect           [11, [128, 256, 512]]         \n",
      "YOLOv8s summary: 225 layers, 11,139,857 parameters, 11,139,841 gradients, 28.7 GFLOPs\n",
      "\n",
      "\u001b[34m\u001b[1mDDP:\u001b[0m debug command /packages/apps/jupyter/2023-10-09/bin/python -m torch.distributed.run --nproc_per_node 2 --master_port 57889 /home/rshah133/.config/Ultralytics/DDP/_temp_hmyg8n9s23452076857168.py\n",
      "Ultralytics 8.3.68 🚀 Python-3.11.6 torch-2.5.1+cu124 CUDA:0 (NVIDIA A100-SXM4-80GB, 81156MiB)\n",
      "                                                      CUDA:1 (NVIDIA A100-SXM4-80GB, 81156MiB)\n"
     ]
    },
    {
     "name": "stderr",
     "output_type": "stream",
     "text": [
      "WARNING: All log messages before absl::InitializeLog() is called are written to STDERR\n",
      "E0000 00:00:1738121772.290063  923677 cuda_dnn.cc:8310] Unable to register cuDNN factory: Attempting to register factory for plugin cuDNN when one has already been registered\n",
      "E0000 00:00:1738121772.294071  923677 cuda_blas.cc:1418] Unable to register cuBLAS factory: Attempting to register factory for plugin cuBLAS when one has already been registered\n"
     ]
    },
    {
     "name": "stdout",
     "output_type": "stream",
     "text": [
      "\u001b[34m\u001b[1mTensorBoard: \u001b[0mStart with 'tensorboard --logdir runs/detect/checkpoint', view at http://localhost:6006/\n",
      "Overriding model.yaml nc=80 with nc=11\n",
      "Freezing layer 'model.22.dfl.conv.weight'\n",
      "\u001b[34m\u001b[1mAMP: \u001b[0mrunning Automatic Mixed Precision (AMP) checks...\n",
      "\u001b[34m\u001b[1mAMP: \u001b[0mchecks passed ✅\n"
     ]
    },
    {
     "name": "stderr",
     "output_type": "stream",
     "text": [
      "\u001b[34m\u001b[1mtrain: \u001b[0mScanning /home/rshah133/bcd/dataset/split_1/train/labels... 200 images, 0 backgrounds, 0 corrupt: 100%|██████████| 200/200 [00:00<00:00, 788.11it/s]\n"
     ]
    },
    {
     "name": "stdout",
     "output_type": "stream",
     "text": [
      "\u001b[34m\u001b[1mtrain: \u001b[0mNew cache created: /home/rshah133/bcd/dataset/split_1/train/labels.cache\n"
     ]
    },
    {
     "name": "stderr",
     "output_type": "stream",
     "text": [
      "/home/rshah133/.local/lib/python3.11/site-packages/torch/utils/data/dataloader.py:617: UserWarning: This DataLoader will create 8 worker processes in total. Our suggested max number of worker in current system is 4, which is smaller than what this DataLoader is going to create. Please be aware that excessive worker creation might get DataLoader running slow or even freeze, lower the worker number to avoid potential slowness/freeze if necessary.\n",
      "  warnings.warn(\n",
      "/home/rshah133/.local/lib/python3.11/site-packages/torch/utils/data/dataloader.py:617: UserWarning: This DataLoader will create 8 worker processes in total. Our suggested max number of worker in current system is 4, which is smaller than what this DataLoader is going to create. Please be aware that excessive worker creation might get DataLoader running slow or even freeze, lower the worker number to avoid potential slowness/freeze if necessary.\n",
      "  warnings.warn(\n",
      "\u001b[34m\u001b[1mval: \u001b[0mScanning /home/rshah133/bcd/dataset/split_1/val/labels... 25 images, 0 backgrounds, 0 corrupt: 100%|██████████| 25/25 [00:00<00:00, 313.57it/s]\n",
      "/home/rshah133/.local/lib/python3.11/site-packages/torch/utils/data/dataloader.py:617: UserWarning: This DataLoader will create 16 worker processes in total. Our suggested max number of worker in current system is 4, which is smaller than what this DataLoader is going to create. Please be aware that excessive worker creation might get DataLoader running slow or even freeze, lower the worker number to avoid potential slowness/freeze if necessary.\n",
      "  warnings.warn(\n"
     ]
    },
    {
     "name": "stdout",
     "output_type": "stream",
     "text": [
      "\u001b[34m\u001b[1mval: \u001b[0mNew cache created: /home/rshah133/bcd/dataset/split_1/val/labels.cache\n",
      "Plotting labels to runs/detect/checkpoint/labels.jpg... \n",
      "\u001b[34m\u001b[1moptimizer:\u001b[0m AdamW(lr=0.01, momentum=0.937) with parameter groups 57 weight(decay=0.0), 64 weight(decay=0.00046875), 63 bias(decay=0.0)\n",
      "\u001b[34m\u001b[1mTensorBoard: \u001b[0mmodel graph visualization added ✅\n",
      "Image sizes 1024 train, 1024 val\n",
      "Using 16 dataloader workers\n",
      "Logging results to \u001b[1mruns/detect/checkpoint\u001b[0m\n",
      "Starting training for 200 epochs...\n",
      "\n",
      "      Epoch    GPU_mem   box_loss   cls_loss   dfl_loss  Instances       Size\n"
     ]
    },
    {
     "name": "stderr",
     "output_type": "stream",
     "text": [
      "      1/200      3.59G      3.843      5.381      3.806         39       1024: 100%|██████████| 20/20 [00:03<00:00,  6.07it/s]\n",
      "                 Class     Images  Instances      Box(P          R      mAP50  mAP50-95): 100%|██████████| 3/3 [00:00<00:00, 12.76it/s]\n"
     ]
    },
    {
     "name": "stdout",
     "output_type": "stream",
     "text": [
      "                   all         25        125          0          0          0          0\n",
      "\n",
      "      Epoch    GPU_mem   box_loss   cls_loss   dfl_loss  Instances       Size\n"
     ]
    },
    {
     "name": "stderr",
     "output_type": "stream",
     "text": [
      "      2/200      3.44G      3.717      4.346      3.215         45       1024: 100%|██████████| 20/20 [00:02<00:00,  8.37it/s]\n",
      "                 Class     Images  Instances      Box(P          R      mAP50  mAP50-95): 100%|██████████| 3/3 [00:00<00:00, 17.19it/s]\n"
     ]
    },
    {
     "name": "stdout",
     "output_type": "stream",
     "text": [
      "                   all         25        125   0.000427     0.0258   0.000251    5.1e-05\n"
     ]
    },
    {
     "name": "stderr",
     "output_type": "stream",
     "text": [
      "      3/200      3.41G      3.533      4.026      2.987         58       1024:   5%|▌         | 1/20 [00:00<00:03,  5.51it/s]"
     ]
    },
    {
     "name": "stdout",
     "output_type": "stream",
     "text": [
      "\n",
      "      Epoch    GPU_mem   box_loss   cls_loss   dfl_loss  Instances       Size\n"
     ]
    },
    {
     "name": "stderr",
     "output_type": "stream",
     "text": [
      "      3/200      3.42G      3.653      4.207      3.073         40       1024: 100%|██████████| 20/20 [00:02<00:00,  8.04it/s]\n",
      "                 Class     Images  Instances      Box(P          R      mAP50  mAP50-95): 100%|██████████| 3/3 [00:00<00:00, 18.38it/s]\n"
     ]
    },
    {
     "name": "stdout",
     "output_type": "stream",
     "text": [
      "                   all         25        125       0.25    0.00309   0.000152   4.74e-05\n",
      "\n",
      "      Epoch    GPU_mem   box_loss   cls_loss   dfl_loss  Instances       Size\n"
     ]
    },
    {
     "name": "stderr",
     "output_type": "stream",
     "text": [
      "      4/200      3.33G      3.607      4.061      2.968         50       1024: 100%|██████████| 20/20 [00:02<00:00,  8.53it/s]\n",
      "                 Class     Images  Instances      Box(P          R      mAP50  mAP50-95): 100%|██████████| 3/3 [00:01<00:00,  2.28it/s]\n"
     ]
    },
    {
     "name": "stdout",
     "output_type": "stream",
     "text": [
      "                   all         25        125    0.00012    0.00893   6.71e-05   6.71e-06\n",
      "\n",
      "      Epoch    GPU_mem   box_loss   cls_loss   dfl_loss  Instances       Size\n"
     ]
    },
    {
     "name": "stderr",
     "output_type": "stream",
     "text": [
      "      5/200       3.3G      3.559      4.138      2.966         47       1024: 100%|██████████| 20/20 [00:02<00:00,  8.03it/s]\n",
      "                 Class     Images  Instances      Box(P          R      mAP50  mAP50-95): 100%|██████████| 3/3 [00:01<00:00,  2.71it/s]\n"
     ]
    },
    {
     "name": "stdout",
     "output_type": "stream",
     "text": [
      "                   all         25        125     0.0013     0.0529   0.000868   0.000176\n",
      "\n",
      "      Epoch    GPU_mem   box_loss   cls_loss   dfl_loss  Instances       Size\n"
     ]
    },
    {
     "name": "stderr",
     "output_type": "stream",
     "text": [
      "      6/200      3.39G      3.607      4.092      2.998         45       1024: 100%|██████████| 20/20 [00:02<00:00,  8.61it/s]\n",
      "                 Class     Images  Instances      Box(P          R      mAP50  mAP50-95): 100%|██████████| 3/3 [00:01<00:00,  2.67it/s]\n"
     ]
    },
    {
     "name": "stdout",
     "output_type": "stream",
     "text": [
      "                   all         25        125    0.00025     0.0185   0.000137   4.25e-05\n",
      "\n",
      "      Epoch    GPU_mem   box_loss   cls_loss   dfl_loss  Instances       Size\n"
     ]
    },
    {
     "name": "stderr",
     "output_type": "stream",
     "text": [
      "      7/200      3.36G       3.61      4.149      2.991         43       1024: 100%|██████████| 20/20 [00:02<00:00,  8.10it/s]\n",
      "                 Class     Images  Instances      Box(P          R      mAP50  mAP50-95): 100%|██████████| 3/3 [00:00<00:00,  4.37it/s]\n"
     ]
    },
    {
     "name": "stdout",
     "output_type": "stream",
     "text": [
      "                   all         25        125      0.125     0.0216    0.00028   5.42e-05\n"
     ]
    },
    {
     "name": "stderr",
     "output_type": "stream",
     "text": [
      "      8/200      3.32G       3.58      3.893      3.118         18       1024:   5%|▌         | 1/20 [00:00<00:03,  5.65it/s]"
     ]
    },
    {
     "name": "stdout",
     "output_type": "stream",
     "text": [
      "\n",
      "      Epoch    GPU_mem   box_loss   cls_loss   dfl_loss  Instances       Size\n"
     ]
    },
    {
     "name": "stderr",
     "output_type": "stream",
     "text": [
      "      8/200      3.32G      3.685      4.055      3.005         57       1024: 100%|██████████| 20/20 [00:02<00:00,  8.28it/s]\n",
      "                 Class     Images  Instances      Box(P          R      mAP50  mAP50-95): 100%|██████████| 3/3 [00:01<00:00,  2.69it/s]\n"
     ]
    },
    {
     "name": "stdout",
     "output_type": "stream",
     "text": [
      "                   all         25        125   0.000223    0.00309   7.69e-05   2.25e-05\n",
      "\n",
      "      Epoch    GPU_mem   box_loss   cls_loss   dfl_loss  Instances       Size\n"
     ]
    },
    {
     "name": "stderr",
     "output_type": "stream",
     "text": [
      "      9/200      3.43G      3.545      3.954      2.947         28       1024: 100%|██████████| 20/20 [00:02<00:00,  8.37it/s]\n",
      "                 Class     Images  Instances      Box(P          R      mAP50  mAP50-95): 100%|██████████| 3/3 [00:01<00:00,  2.51it/s]\n"
     ]
    },
    {
     "name": "stdout",
     "output_type": "stream",
     "text": [
      "                   all         25        125    0.00214    0.00154   0.000172   3.35e-05\n",
      "\n",
      "      Epoch    GPU_mem   box_loss   cls_loss   dfl_loss  Instances       Size\n"
     ]
    },
    {
     "name": "stderr",
     "output_type": "stream",
     "text": [
      "     10/200      3.33G       3.59      3.921      2.933         31       1024: 100%|██████████| 20/20 [00:02<00:00,  8.37it/s]\n",
      "                 Class     Images  Instances      Box(P          R      mAP50  mAP50-95): 100%|██████████| 3/3 [00:00<00:00,  5.34it/s]\n"
     ]
    },
    {
     "name": "stdout",
     "output_type": "stream",
     "text": [
      "                   all         25        125    0.00073     0.0558   0.000454   0.000132\n",
      "\n",
      "      Epoch    GPU_mem   box_loss   cls_loss   dfl_loss  Instances       Size\n"
     ]
    },
    {
     "name": "stderr",
     "output_type": "stream",
     "text": [
      "     11/200      3.36G      3.615      4.102      2.931         28       1024: 100%|██████████| 20/20 [00:02<00:00,  8.69it/s]\n",
      "                 Class     Images  Instances      Box(P          R      mAP50  mAP50-95): 100%|██████████| 3/3 [00:00<00:00,  4.56it/s]\n"
     ]
    },
    {
     "name": "stdout",
     "output_type": "stream",
     "text": [
      "                   all         25        125      0.128      0.012    0.00189   0.000557\n"
     ]
    },
    {
     "name": "stderr",
     "output_type": "stream",
     "text": [
      "     12/200      3.38G      3.615      3.536       2.96         42       1024:   5%|▌         | 1/20 [00:00<00:02,  6.49it/s]"
     ]
    },
    {
     "name": "stdout",
     "output_type": "stream",
     "text": [
      "\n",
      "      Epoch    GPU_mem   box_loss   cls_loss   dfl_loss  Instances       Size\n"
     ]
    },
    {
     "name": "stderr",
     "output_type": "stream",
     "text": [
      "     12/200       3.4G      3.599      3.971      2.923         42       1024: 100%|██████████| 20/20 [00:02<00:00,  8.24it/s]\n",
      "                 Class     Images  Instances      Box(P          R      mAP50  mAP50-95): 100%|██████████| 3/3 [00:00<00:00,  5.25it/s]\n"
     ]
    },
    {
     "name": "stdout",
     "output_type": "stream",
     "text": [
      "                   all         25        125    0.00182     0.0321    0.00107     0.0003\n",
      "\n",
      "      Epoch    GPU_mem   box_loss   cls_loss   dfl_loss  Instances       Size\n"
     ]
    },
    {
     "name": "stderr",
     "output_type": "stream",
     "text": [
      "     13/200      3.43G      3.563      4.001      2.925         58       1024: 100%|██████████| 20/20 [00:02<00:00,  8.73it/s]\n",
      "                 Class     Images  Instances      Box(P          R      mAP50  mAP50-95): 100%|██████████| 3/3 [00:00<00:00,  9.15it/s]\n"
     ]
    },
    {
     "name": "stdout",
     "output_type": "stream",
     "text": [
      "                   all         25        125      0.258     0.0239    0.00145   0.000344\n",
      "\n",
      "      Epoch    GPU_mem   box_loss   cls_loss   dfl_loss  Instances       Size\n"
     ]
    },
    {
     "name": "stderr",
     "output_type": "stream",
     "text": [
      "     14/200      3.29G      3.523      3.932      3.002         30       1024: 100%|██████████| 20/20 [00:02<00:00,  8.20it/s]\n",
      "                 Class     Images  Instances      Box(P          R      mAP50  mAP50-95): 100%|██████████| 3/3 [00:00<00:00,  3.94it/s]\n"
     ]
    },
    {
     "name": "stdout",
     "output_type": "stream",
     "text": [
      "                   all         25        125      0.127     0.0321    0.00118   0.000255\n",
      "\n",
      "      Epoch    GPU_mem   box_loss   cls_loss   dfl_loss  Instances       Size\n"
     ]
    },
    {
     "name": "stderr",
     "output_type": "stream",
     "text": [
      "     15/200      3.43G      3.658      3.863      2.918         56       1024: 100%|██████████| 20/20 [00:02<00:00,  8.04it/s]\n",
      "                 Class     Images  Instances      Box(P          R      mAP50  mAP50-95):  67%|██████▋   | 2/3 [00:00<00:00,  3.89it/s]"
     ]
    },
    {
     "name": "stdout",
     "output_type": "stream",
     "text": [
      "                   all         25        125    0.00154     0.0524    0.00104    0.00044\n"
     ]
    },
    {
     "name": "stderr",
     "output_type": "stream",
     "text": [
      "                 Class     Images  Instances      Box(P          R      mAP50  mAP50-95): 100%|██████████| 3/3 [00:00<00:00,  4.03it/s]\n"
     ]
    },
    {
     "name": "stdout",
     "output_type": "stream",
     "text": [
      "\n",
      "      Epoch    GPU_mem   box_loss   cls_loss   dfl_loss  Instances       Size\n"
     ]
    },
    {
     "name": "stderr",
     "output_type": "stream",
     "text": [
      "     16/200      3.42G      3.598      3.791      2.881         27       1024: 100%|██████████| 20/20 [00:02<00:00,  8.45it/s]\n",
      "                 Class     Images  Instances      Box(P          R      mAP50  mAP50-95): 100%|██████████| 3/3 [00:00<00:00,  4.51it/s]\n"
     ]
    },
    {
     "name": "stdout",
     "output_type": "stream",
     "text": [
      "                   all         25        125      0.127    0.00723     0.0011   0.000376\n",
      "\n",
      "      Epoch    GPU_mem   box_loss   cls_loss   dfl_loss  Instances       Size\n"
     ]
    },
    {
     "name": "stderr",
     "output_type": "stream",
     "text": [
      "     17/200      3.36G      3.549      3.782      2.896         51       1024: 100%|██████████| 20/20 [00:02<00:00,  7.96it/s]\n",
      "                 Class     Images  Instances      Box(P          R      mAP50  mAP50-95):  67%|██████▋   | 2/3 [00:00<00:00,  2.43it/s]"
     ]
    },
    {
     "name": "stdout",
     "output_type": "stream",
     "text": [
      "                   all         25        125    0.00155     0.0347   0.000939   0.000323\n"
     ]
    },
    {
     "name": "stderr",
     "output_type": "stream",
     "text": [
      "                 Class     Images  Instances      Box(P          R      mAP50  mAP50-95): 100%|██████████| 3/3 [00:01<00:00,  2.56it/s]\n"
     ]
    },
    {
     "name": "stdout",
     "output_type": "stream",
     "text": [
      "\n",
      "      Epoch    GPU_mem   box_loss   cls_loss   dfl_loss  Instances       Size\n"
     ]
    },
    {
     "name": "stderr",
     "output_type": "stream",
     "text": [
      "     18/200      3.59G      3.634      3.961      2.924         82       1024: 100%|██████████| 20/20 [00:02<00:00,  8.47it/s]\n",
      "                 Class     Images  Instances      Box(P          R      mAP50  mAP50-95): 100%|██████████| 3/3 [00:00<00:00,  4.31it/s]\n"
     ]
    },
    {
     "name": "stdout",
     "output_type": "stream",
     "text": [
      "                   all         25        125    0.00138     0.0529    0.00098   0.000242\n",
      "\n",
      "      Epoch    GPU_mem   box_loss   cls_loss   dfl_loss  Instances       Size\n"
     ]
    },
    {
     "name": "stderr",
     "output_type": "stream",
     "text": [
      "     19/200      3.33G       3.51      3.756      2.872         50       1024: 100%|██████████| 20/20 [00:02<00:00,  8.28it/s]\n",
      "                 Class     Images  Instances      Box(P          R      mAP50  mAP50-95): 100%|██████████| 3/3 [00:00<00:00,  5.05it/s]\n"
     ]
    },
    {
     "name": "stdout",
     "output_type": "stream",
     "text": [
      "                   all         25        125    0.00132     0.0761   0.000964   0.000252\n",
      "\n",
      "      Epoch    GPU_mem   box_loss   cls_loss   dfl_loss  Instances       Size\n"
     ]
    },
    {
     "name": "stderr",
     "output_type": "stream",
     "text": [
      "     20/200      3.31G      3.545      3.817      2.836         23       1024: 100%|██████████| 20/20 [00:02<00:00,  8.12it/s]\n",
      "                 Class     Images  Instances      Box(P          R      mAP50  mAP50-95): 100%|██████████| 3/3 [00:00<00:00,  5.15it/s]\n"
     ]
    },
    {
     "name": "stdout",
     "output_type": "stream",
     "text": [
      "                   all         25        125      0.256     0.0108    0.00454   0.000743\n",
      "\n",
      "      Epoch    GPU_mem   box_loss   cls_loss   dfl_loss  Instances       Size\n"
     ]
    },
    {
     "name": "stderr",
     "output_type": "stream",
     "text": [
      "     21/200      3.44G      3.576      3.869      2.884         38       1024: 100%|██████████| 20/20 [00:02<00:00,  8.40it/s]\n",
      "                 Class     Images  Instances      Box(P          R      mAP50  mAP50-95): 100%|██████████| 3/3 [00:00<00:00,  5.09it/s]\n"
     ]
    },
    {
     "name": "stdout",
     "output_type": "stream",
     "text": [
      "                   all         25        125    0.00223     0.0743    0.00229   0.000451\n"
     ]
    },
    {
     "name": "stderr",
     "output_type": "stream",
     "text": [
      "     22/200       3.3G      3.491      4.075      2.944         32       1024:   5%|▌         | 1/20 [00:00<00:02,  8.44it/s]"
     ]
    },
    {
     "name": "stdout",
     "output_type": "stream",
     "text": [
      "\n",
      "      Epoch    GPU_mem   box_loss   cls_loss   dfl_loss  Instances       Size\n"
     ]
    },
    {
     "name": "stderr",
     "output_type": "stream",
     "text": [
      "     22/200       3.3G      3.566      4.097      2.885         22       1024: 100%|██████████| 20/20 [00:02<00:00,  8.19it/s]\n",
      "                 Class     Images  Instances      Box(P          R      mAP50  mAP50-95): 100%|██████████| 3/3 [00:00<00:00, 14.07it/s]\n"
     ]
    },
    {
     "name": "stdout",
     "output_type": "stream",
     "text": [
      "                   all         25        125    0.00155      0.111    0.00223   0.000507\n",
      "\n",
      "      Epoch    GPU_mem   box_loss   cls_loss   dfl_loss  Instances       Size\n"
     ]
    },
    {
     "name": "stderr",
     "output_type": "stream",
     "text": [
      "     23/200       3.3G      3.533      3.804      2.861         48       1024: 100%|██████████| 20/20 [00:02<00:00,  8.42it/s]\n",
      "                 Class     Images  Instances      Box(P          R      mAP50  mAP50-95): 100%|██████████| 3/3 [00:00<00:00,  4.78it/s]\n"
     ]
    },
    {
     "name": "stdout",
     "output_type": "stream",
     "text": [
      "                   all         25        125   0.000965     0.0844    0.00129    0.00025\n",
      "\n",
      "      Epoch    GPU_mem   box_loss   cls_loss   dfl_loss  Instances       Size\n"
     ]
    },
    {
     "name": "stderr",
     "output_type": "stream",
     "text": [
      "     24/200      3.41G      3.524      3.738      2.934         32       1024: 100%|██████████| 20/20 [00:02<00:00,  8.23it/s]\n",
      "                 Class     Images  Instances      Box(P          R      mAP50  mAP50-95):  67%|██████▋   | 2/3 [00:00<00:00,  6.38it/s]"
     ]
    },
    {
     "name": "stdout",
     "output_type": "stream",
     "text": [
      "                   all         25        125     0.0011     0.0881    0.00203   0.000416\n"
     ]
    },
    {
     "name": "stderr",
     "output_type": "stream",
     "text": [
      "                 Class     Images  Instances      Box(P          R      mAP50  mAP50-95): 100%|██████████| 3/3 [00:00<00:00,  5.82it/s]\n"
     ]
    },
    {
     "name": "stdout",
     "output_type": "stream",
     "text": [
      "\n",
      "      Epoch    GPU_mem   box_loss   cls_loss   dfl_loss  Instances       Size\n"
     ]
    },
    {
     "name": "stderr",
     "output_type": "stream",
     "text": [
      "     25/200      3.42G      3.552      3.605      2.954         41       1024: 100%|██████████| 20/20 [00:02<00:00,  7.91it/s]\n",
      "                 Class     Images  Instances      Box(P          R      mAP50  mAP50-95): 100%|██████████| 3/3 [00:00<00:00,  4.68it/s]\n"
     ]
    },
    {
     "name": "stdout",
     "output_type": "stream",
     "text": [
      "                   all         25        125    0.00155      0.118    0.00214   0.000406\n",
      "\n",
      "      Epoch    GPU_mem   box_loss   cls_loss   dfl_loss  Instances       Size\n"
     ]
    },
    {
     "name": "stderr",
     "output_type": "stream",
     "text": [
      "     26/200      3.31G       3.54      3.636      2.929         35       1024: 100%|██████████| 20/20 [00:02<00:00,  8.70it/s]\n",
      "                 Class     Images  Instances      Box(P          R      mAP50  mAP50-95): 100%|██████████| 3/3 [00:00<00:00,  3.77it/s]\n"
     ]
    },
    {
     "name": "stdout",
     "output_type": "stream",
     "text": [
      "                   all         25        125      0.001      0.053   0.000641   9.28e-05\n",
      "\n",
      "      Epoch    GPU_mem   box_loss   cls_loss   dfl_loss  Instances       Size\n"
     ]
    },
    {
     "name": "stderr",
     "output_type": "stream",
     "text": [
      "     27/200       3.4G      3.587      3.745      2.883         45       1024: 100%|██████████| 20/20 [00:02<00:00,  8.60it/s]\n",
      "                 Class     Images  Instances      Box(P          R      mAP50  mAP50-95): 100%|██████████| 3/3 [00:00<00:00,  3.61it/s]\n"
     ]
    },
    {
     "name": "stdout",
     "output_type": "stream",
     "text": [
      "                   all         25        125      0.127      0.036    0.00112   0.000181\n",
      "\n",
      "      Epoch    GPU_mem   box_loss   cls_loss   dfl_loss  Instances       Size\n"
     ]
    },
    {
     "name": "stderr",
     "output_type": "stream",
     "text": [
      "     28/200       3.3G       3.54      3.804      2.889         22       1024: 100%|██████████| 20/20 [00:02<00:00,  8.20it/s]\n",
      "                 Class     Images  Instances      Box(P          R      mAP50  mAP50-95): 100%|██████████| 3/3 [00:00<00:00,  4.57it/s]\n"
     ]
    },
    {
     "name": "stdout",
     "output_type": "stream",
     "text": [
      "                   all         25        125      0.128     0.0299    0.00151   0.000476\n",
      "\n",
      "      Epoch    GPU_mem   box_loss   cls_loss   dfl_loss  Instances       Size\n"
     ]
    },
    {
     "name": "stderr",
     "output_type": "stream",
     "text": [
      "     29/200      3.37G      3.533      3.765      2.875         47       1024: 100%|██████████| 20/20 [00:02<00:00,  8.27it/s]\n",
      "                 Class     Images  Instances      Box(P          R      mAP50  mAP50-95):  67%|██████▋   | 2/3 [00:00<00:00,  7.17it/s]"
     ]
    },
    {
     "name": "stdout",
     "output_type": "stream",
     "text": [
      "                   all         25        125      0.128     0.0357    0.00134   0.000259\n"
     ]
    },
    {
     "name": "stderr",
     "output_type": "stream",
     "text": [
      "                 Class     Images  Instances      Box(P          R      mAP50  mAP50-95): 100%|██████████| 3/3 [00:00<00:00,  4.88it/s]\n"
     ]
    },
    {
     "name": "stdout",
     "output_type": "stream",
     "text": [
      "\n",
      "      Epoch    GPU_mem   box_loss   cls_loss   dfl_loss  Instances       Size\n"
     ]
    },
    {
     "name": "stderr",
     "output_type": "stream",
     "text": [
      "     30/200       3.4G      3.551          4      2.875         51       1024: 100%|██████████| 20/20 [00:02<00:00,  8.42it/s]\n",
      "                 Class     Images  Instances      Box(P          R      mAP50  mAP50-95): 100%|██████████| 3/3 [00:00<00:00,  4.96it/s]\n"
     ]
    },
    {
     "name": "stdout",
     "output_type": "stream",
     "text": [
      "                   all         25        125    0.00225     0.0388    0.00138   0.000343\n",
      "\n",
      "      Epoch    GPU_mem   box_loss   cls_loss   dfl_loss  Instances       Size\n"
     ]
    },
    {
     "name": "stderr",
     "output_type": "stream",
     "text": [
      "     31/200       3.3G       3.52       3.66      2.828         56       1024: 100%|██████████| 20/20 [00:02<00:00,  8.19it/s]\n",
      "                 Class     Images  Instances      Box(P          R      mAP50  mAP50-95): 100%|██████████| 3/3 [00:00<00:00, 14.94it/s]\n"
     ]
    },
    {
     "name": "stdout",
     "output_type": "stream",
     "text": [
      "                   all         25        125    0.00304      0.161     0.0038   0.000862\n",
      "\n",
      "      Epoch    GPU_mem   box_loss   cls_loss   dfl_loss  Instances       Size\n"
     ]
    },
    {
     "name": "stderr",
     "output_type": "stream",
     "text": [
      "     32/200       3.3G       3.52      3.725      2.842         28       1024: 100%|██████████| 20/20 [00:02<00:00,  7.47it/s]\n",
      "                 Class     Images  Instances      Box(P          R      mAP50  mAP50-95): 100%|██████████| 3/3 [00:00<00:00, 18.67it/s]\n"
     ]
    },
    {
     "name": "stdout",
     "output_type": "stream",
     "text": [
      "                   all         25        125    0.00244      0.155     0.0085    0.00218\n",
      "\n",
      "      Epoch    GPU_mem   box_loss   cls_loss   dfl_loss  Instances       Size\n"
     ]
    },
    {
     "name": "stderr",
     "output_type": "stream",
     "text": [
      "     33/200      3.39G      3.516      3.768      2.861         32       1024: 100%|██████████| 20/20 [00:02<00:00,  8.76it/s]\n",
      "                 Class     Images  Instances      Box(P          R      mAP50  mAP50-95): 100%|██████████| 3/3 [00:00<00:00,  4.64it/s]\n"
     ]
    },
    {
     "name": "stdout",
     "output_type": "stream",
     "text": [
      "                   all         25        125    0.00155      0.125    0.00215   0.000555\n",
      "\n",
      "      Epoch    GPU_mem   box_loss   cls_loss   dfl_loss  Instances       Size\n"
     ]
    },
    {
     "name": "stderr",
     "output_type": "stream",
     "text": [
      "     34/200      3.29G      3.538      3.843      2.855         63       1024: 100%|██████████| 20/20 [00:02<00:00,  8.15it/s]\n",
      "                 Class     Images  Instances      Box(P          R      mAP50  mAP50-95):  67%|██████▋   | 2/3 [00:00<00:00, 12.16it/s]"
     ]
    },
    {
     "name": "stdout",
     "output_type": "stream",
     "text": [
      "                   all         25        125    0.00308       0.13    0.00537    0.00152\n"
     ]
    },
    {
     "name": "stderr",
     "output_type": "stream",
     "text": [
      "                 Class     Images  Instances      Box(P          R      mAP50  mAP50-95): 100%|██████████| 3/3 [00:00<00:00, 14.06it/s]\n"
     ]
    },
    {
     "name": "stdout",
     "output_type": "stream",
     "text": [
      "\n",
      "      Epoch    GPU_mem   box_loss   cls_loss   dfl_loss  Instances       Size\n"
     ]
    },
    {
     "name": "stderr",
     "output_type": "stream",
     "text": [
      "     35/200       3.3G      3.456      3.605      2.852         33       1024: 100%|██████████| 20/20 [00:02<00:00,  7.93it/s]\n",
      "                 Class     Images  Instances      Box(P          R      mAP50  mAP50-95): 100%|██████████| 3/3 [00:00<00:00,  4.77it/s]\n"
     ]
    },
    {
     "name": "stdout",
     "output_type": "stream",
     "text": [
      "                   all         25        125    0.00208     0.0898    0.00299   0.000647\n",
      "\n",
      "      Epoch    GPU_mem   box_loss   cls_loss   dfl_loss  Instances       Size\n"
     ]
    },
    {
     "name": "stderr",
     "output_type": "stream",
     "text": [
      "     36/200      3.44G      3.442      3.796      2.887         39       1024: 100%|██████████| 20/20 [00:02<00:00,  8.62it/s]\n",
      "                 Class     Images  Instances      Box(P          R      mAP50  mAP50-95): 100%|██████████| 3/3 [00:00<00:00, 15.61it/s]\n"
     ]
    },
    {
     "name": "stdout",
     "output_type": "stream",
     "text": [
      "                   all         25        125      0.194    0.00723    0.00846    0.00262\n",
      "\n",
      "      Epoch    GPU_mem   box_loss   cls_loss   dfl_loss  Instances       Size\n"
     ]
    },
    {
     "name": "stderr",
     "output_type": "stream",
     "text": [
      "     37/200      3.42G        3.5      3.626      2.924         56       1024: 100%|██████████| 20/20 [00:02<00:00,  8.04it/s]\n",
      "                 Class     Images  Instances      Box(P          R      mAP50  mAP50-95): 100%|██████████| 3/3 [00:00<00:00,  4.42it/s]\n"
     ]
    },
    {
     "name": "stdout",
     "output_type": "stream",
     "text": [
      "                   all         25        125    0.00181      0.129    0.00148   0.000409\n",
      "\n",
      "      Epoch    GPU_mem   box_loss   cls_loss   dfl_loss  Instances       Size\n"
     ]
    },
    {
     "name": "stderr",
     "output_type": "stream",
     "text": [
      "     38/200      3.31G      3.453      3.568      2.859         37       1024: 100%|██████████| 20/20 [00:02<00:00,  8.27it/s]\n",
      "                 Class     Images  Instances      Box(P          R      mAP50  mAP50-95): 100%|██████████| 3/3 [00:00<00:00,  4.68it/s]\n"
     ]
    },
    {
     "name": "stdout",
     "output_type": "stream",
     "text": [
      "                   all         25        125    0.00303       0.17     0.0104    0.00284\n",
      "\n",
      "      Epoch    GPU_mem   box_loss   cls_loss   dfl_loss  Instances       Size\n"
     ]
    },
    {
     "name": "stderr",
     "output_type": "stream",
     "text": [
      "     39/200      3.42G       3.43      3.574      2.866         66       1024: 100%|██████████| 20/20 [00:02<00:00,  8.19it/s]\n",
      "                 Class     Images  Instances      Box(P          R      mAP50  mAP50-95): 100%|██████████| 3/3 [00:00<00:00, 11.94it/s]\n"
     ]
    },
    {
     "name": "stdout",
     "output_type": "stream",
     "text": [
      "                   all         25        125    0.00265      0.178    0.00969    0.00227\n",
      "\n",
      "      Epoch    GPU_mem   box_loss   cls_loss   dfl_loss  Instances       Size\n"
     ]
    },
    {
     "name": "stderr",
     "output_type": "stream",
     "text": [
      "     40/200      3.33G      3.442      3.654       2.88         32       1024: 100%|██████████| 20/20 [00:02<00:00,  8.22it/s]\n",
      "                 Class     Images  Instances      Box(P          R      mAP50  mAP50-95):   0%|          | 0/3 [00:00<?, ?it/s]"
     ]
    },
    {
     "name": "stdout",
     "output_type": "stream",
     "text": [
      "                   all         25        125     0.0022     0.0304    0.00565    0.00204\n"
     ]
    },
    {
     "name": "stderr",
     "output_type": "stream",
     "text": [
      "                 Class     Images  Instances      Box(P          R      mAP50  mAP50-95): 100%|██████████| 3/3 [00:00<00:00, 18.52it/s]\n"
     ]
    },
    {
     "name": "stdout",
     "output_type": "stream",
     "text": [
      "\n",
      "      Epoch    GPU_mem   box_loss   cls_loss   dfl_loss  Instances       Size\n"
     ]
    },
    {
     "name": "stderr",
     "output_type": "stream",
     "text": [
      "     41/200      3.32G      3.431      3.696      2.904         48       1024: 100%|██████████| 20/20 [00:02<00:00,  8.43it/s]\n",
      "                 Class     Images  Instances      Box(P          R      mAP50  mAP50-95):  67%|██████▋   | 2/3 [00:00<00:00, 11.78it/s]"
     ]
    },
    {
     "name": "stdout",
     "output_type": "stream",
     "text": [
      "                   all         25        125      0.172     0.0103     0.0136    0.00368\n"
     ]
    },
    {
     "name": "stderr",
     "output_type": "stream",
     "text": [
      "                 Class     Images  Instances      Box(P          R      mAP50  mAP50-95): 100%|██████████| 3/3 [00:00<00:00, 11.31it/s]\n"
     ]
    },
    {
     "name": "stdout",
     "output_type": "stream",
     "text": [
      "\n",
      "      Epoch    GPU_mem   box_loss   cls_loss   dfl_loss  Instances       Size\n"
     ]
    },
    {
     "name": "stderr",
     "output_type": "stream",
     "text": [
      "     42/200      3.42G      3.424      3.648      2.873         17       1024: 100%|██████████| 20/20 [00:02<00:00,  8.69it/s]\n",
      "                 Class     Images  Instances      Box(P          R      mAP50  mAP50-95): 100%|██████████| 3/3 [00:00<00:00,  5.04it/s]\n"
     ]
    },
    {
     "name": "stdout",
     "output_type": "stream",
     "text": [
      "                   all         25        125      0.289    0.00568    0.00739    0.00209\n",
      "\n",
      "      Epoch    GPU_mem   box_loss   cls_loss   dfl_loss  Instances       Size\n"
     ]
    },
    {
     "name": "stderr",
     "output_type": "stream",
     "text": [
      "     43/200      3.34G      3.385      3.699      2.831         48       1024: 100%|██████████| 20/20 [00:02<00:00,  8.27it/s]\n",
      "                 Class     Images  Instances      Box(P          R      mAP50  mAP50-95): 100%|██████████| 3/3 [00:00<00:00, 15.34it/s]\n"
     ]
    },
    {
     "name": "stdout",
     "output_type": "stream",
     "text": [
      "                   all         25        125      0.463    0.00723    0.00997    0.00325\n",
      "\n",
      "      Epoch    GPU_mem   box_loss   cls_loss   dfl_loss  Instances       Size\n"
     ]
    },
    {
     "name": "stderr",
     "output_type": "stream",
     "text": [
      "     44/200      3.33G      3.438      3.557      2.856         44       1024: 100%|██████████| 20/20 [00:02<00:00,  8.59it/s]\n",
      "                 Class     Images  Instances      Box(P          R      mAP50  mAP50-95): 100%|██████████| 3/3 [00:00<00:00, 16.35it/s]\n"
     ]
    },
    {
     "name": "stdout",
     "output_type": "stream",
     "text": [
      "                   all         25        125    0.00295      0.099     0.0067    0.00262\n",
      "\n",
      "      Epoch    GPU_mem   box_loss   cls_loss   dfl_loss  Instances       Size\n"
     ]
    },
    {
     "name": "stderr",
     "output_type": "stream",
     "text": [
      "     45/200      3.45G      3.341       3.57      2.827         36       1024: 100%|██████████| 20/20 [00:02<00:00,  8.50it/s]\n",
      "                 Class     Images  Instances      Box(P          R      mAP50  mAP50-95): 100%|██████████| 3/3 [00:00<00:00, 19.45it/s]\n"
     ]
    },
    {
     "name": "stdout",
     "output_type": "stream",
     "text": [
      "                   all         25        125    0.00299     0.0974    0.00597    0.00185\n",
      "\n",
      "      Epoch    GPU_mem   box_loss   cls_loss   dfl_loss  Instances       Size\n"
     ]
    },
    {
     "name": "stderr",
     "output_type": "stream",
     "text": [
      "     46/200      3.46G      3.429      3.689      2.868         42       1024: 100%|██████████| 20/20 [00:02<00:00,  8.04it/s]\n",
      "                 Class     Images  Instances      Box(P          R      mAP50  mAP50-95): 100%|██████████| 3/3 [00:00<00:00, 14.90it/s]\n"
     ]
    },
    {
     "name": "stdout",
     "output_type": "stream",
     "text": [
      "                   all         25        125    0.00358     0.0922    0.00956    0.00355\n",
      "\n",
      "      Epoch    GPU_mem   box_loss   cls_loss   dfl_loss  Instances       Size\n"
     ]
    },
    {
     "name": "stderr",
     "output_type": "stream",
     "text": [
      "     47/200      3.42G      3.393      3.621      2.837         36       1024: 100%|██████████| 20/20 [00:02<00:00,  8.45it/s]\n",
      "                 Class     Images  Instances      Box(P          R      mAP50  mAP50-95): 100%|██████████| 3/3 [00:00<00:00, 12.17it/s]\n"
     ]
    },
    {
     "name": "stdout",
     "output_type": "stream",
     "text": [
      "                   all         25        125    0.00473     0.0275     0.0027   0.000914\n",
      "\n",
      "      Epoch    GPU_mem   box_loss   cls_loss   dfl_loss  Instances       Size\n"
     ]
    },
    {
     "name": "stderr",
     "output_type": "stream",
     "text": [
      "     48/200      3.39G      3.333      3.559      2.882         41       1024: 100%|██████████| 20/20 [00:02<00:00,  8.58it/s]\n",
      "                 Class     Images  Instances      Box(P          R      mAP50  mAP50-95): 100%|██████████| 3/3 [00:00<00:00, 15.91it/s]\n"
     ]
    },
    {
     "name": "stdout",
     "output_type": "stream",
     "text": [
      "                   all         25        125     0.0243      0.026    0.00762    0.00384\n",
      "\n",
      "      Epoch    GPU_mem   box_loss   cls_loss   dfl_loss  Instances       Size\n"
     ]
    },
    {
     "name": "stderr",
     "output_type": "stream",
     "text": [
      "     49/200      3.31G      3.332      3.554      2.841         43       1024: 100%|██████████| 20/20 [00:02<00:00,  8.05it/s]\n",
      "                 Class     Images  Instances      Box(P          R      mAP50  mAP50-95): 100%|██████████| 3/3 [00:00<00:00,  9.68it/s]\n"
     ]
    },
    {
     "name": "stdout",
     "output_type": "stream",
     "text": [
      "                   all         25        125       0.19    0.00568     0.0114     0.0041\n",
      "\n",
      "      Epoch    GPU_mem   box_loss   cls_loss   dfl_loss  Instances       Size\n"
     ]
    },
    {
     "name": "stderr",
     "output_type": "stream",
     "text": [
      "     50/200      3.45G       3.26      3.563      2.784         54       1024: 100%|██████████| 20/20 [00:02<00:00,  8.58it/s]\n",
      "                 Class     Images  Instances      Box(P          R      mAP50  mAP50-95): 100%|██████████| 3/3 [00:00<00:00, 10.60it/s]\n"
     ]
    },
    {
     "name": "stdout",
     "output_type": "stream",
     "text": [
      "                   all         25        125    0.00168      0.125    0.00264   0.000497\n"
     ]
    },
    {
     "name": "stderr",
     "output_type": "stream",
     "text": [
      "     51/200      3.52G       3.29      3.736       2.77         63       1024:   5%|▌         | 1/20 [00:00<00:02,  8.37it/s]"
     ]
    },
    {
     "name": "stdout",
     "output_type": "stream",
     "text": [
      "\n",
      "      Epoch    GPU_mem   box_loss   cls_loss   dfl_loss  Instances       Size\n"
     ]
    },
    {
     "name": "stderr",
     "output_type": "stream",
     "text": [
      "     51/200      3.53G      3.157      3.531      2.764         49       1024: 100%|██████████| 20/20 [00:02<00:00,  8.46it/s]\n",
      "                 Class     Images  Instances      Box(P          R      mAP50  mAP50-95): 100%|██████████| 3/3 [00:00<00:00,  9.90it/s]\n"
     ]
    },
    {
     "name": "stdout",
     "output_type": "stream",
     "text": [
      "                   all         25        125      0.273    0.00568    0.00569    0.00127\n",
      "\n",
      "      Epoch    GPU_mem   box_loss   cls_loss   dfl_loss  Instances       Size\n"
     ]
    },
    {
     "name": "stderr",
     "output_type": "stream",
     "text": [
      "     52/200      3.31G      3.259      3.758      2.747         63       1024: 100%|██████████| 20/20 [00:02<00:00,  7.69it/s]\n",
      "                 Class     Images  Instances      Box(P          R      mAP50  mAP50-95): 100%|██████████| 3/3 [00:00<00:00, 17.95it/s]\n"
     ]
    },
    {
     "name": "stdout",
     "output_type": "stream",
     "text": [
      "                   all         25        125    0.00195     0.0882    0.00229   0.000841\n",
      "\n",
      "      Epoch    GPU_mem   box_loss   cls_loss   dfl_loss  Instances       Size\n"
     ]
    },
    {
     "name": "stderr",
     "output_type": "stream",
     "text": [
      "     53/200      3.42G      3.221      3.584      2.769         48       1024: 100%|██████████| 20/20 [00:02<00:00,  8.39it/s]\n",
      "                 Class     Images  Instances      Box(P          R      mAP50  mAP50-95):  67%|██████▋   | 2/3 [00:00<00:00, 13.12it/s]"
     ]
    },
    {
     "name": "stdout",
     "output_type": "stream",
     "text": [
      "                   all         25        125    0.00234      0.073    0.00488    0.00201\n"
     ]
    },
    {
     "name": "stderr",
     "output_type": "stream",
     "text": [
      "                 Class     Images  Instances      Box(P          R      mAP50  mAP50-95): 100%|██████████| 3/3 [00:00<00:00, 11.71it/s]\n"
     ]
    },
    {
     "name": "stdout",
     "output_type": "stream",
     "text": [
      "\n",
      "      Epoch    GPU_mem   box_loss   cls_loss   dfl_loss  Instances       Size\n"
     ]
    },
    {
     "name": "stderr",
     "output_type": "stream",
     "text": [
      "     54/200      3.56G      3.248      3.534      2.794         45       1024: 100%|██████████| 20/20 [00:02<00:00,  8.29it/s]\n",
      "                 Class     Images  Instances      Box(P          R      mAP50  mAP50-95): 100%|██████████| 3/3 [00:00<00:00, 16.46it/s]\n"
     ]
    },
    {
     "name": "stdout",
     "output_type": "stream",
     "text": [
      "                   all         25        125    0.00226      0.079     0.0051    0.00178\n",
      "\n",
      "      Epoch    GPU_mem   box_loss   cls_loss   dfl_loss  Instances       Size\n"
     ]
    },
    {
     "name": "stderr",
     "output_type": "stream",
     "text": [
      "     55/200      3.46G      3.181      3.556      2.769          9       1024: 100%|██████████| 20/20 [00:02<00:00,  8.09it/s]\n",
      "                 Class     Images  Instances      Box(P          R      mAP50  mAP50-95): 100%|██████████| 3/3 [00:00<00:00, 12.37it/s]\n"
     ]
    },
    {
     "name": "stdout",
     "output_type": "stream",
     "text": [
      "                   all         25        125    0.00235      0.124    0.00499    0.00116\n",
      "\n",
      "      Epoch    GPU_mem   box_loss   cls_loss   dfl_loss  Instances       Size\n"
     ]
    },
    {
     "name": "stderr",
     "output_type": "stream",
     "text": [
      "     56/200       3.3G      3.234      3.625      2.758         48       1024: 100%|██████████| 20/20 [00:02<00:00,  8.54it/s]\n",
      "                 Class     Images  Instances      Box(P          R      mAP50  mAP50-95): 100%|██████████| 3/3 [00:00<00:00, 22.68it/s]\n"
     ]
    },
    {
     "name": "stdout",
     "output_type": "stream",
     "text": [
      "                   all         25        125      0.172    0.00723     0.0156    0.00473\n"
     ]
    },
    {
     "name": "stderr",
     "output_type": "stream",
     "text": [
      "     57/200      3.39G      3.257      3.568      2.789         37       1024:   5%|▌         | 1/20 [00:00<00:03,  6.14it/s]"
     ]
    },
    {
     "name": "stdout",
     "output_type": "stream",
     "text": [
      "\n",
      "      Epoch    GPU_mem   box_loss   cls_loss   dfl_loss  Instances       Size\n"
     ]
    },
    {
     "name": "stderr",
     "output_type": "stream",
     "text": [
      "     57/200      3.41G      3.236      3.603      2.738         24       1024: 100%|██████████| 20/20 [00:02<00:00,  8.33it/s]\n",
      "                 Class     Images  Instances      Box(P          R      mAP50  mAP50-95): 100%|██████████| 3/3 [00:00<00:00, 13.43it/s]\n"
     ]
    },
    {
     "name": "stdout",
     "output_type": "stream",
     "text": [
      "                   all         25        125    0.00239      0.101    0.00381   0.000926\n"
     ]
    },
    {
     "ename": "KeyboardInterrupt",
     "evalue": "",
     "output_type": "error",
     "traceback": [
      "\u001b[0;31m---------------------------------------------------------------------------\u001b[0m",
      "\u001b[0;31mKeyboardInterrupt\u001b[0m                         Traceback (most recent call last)",
      "Cell \u001b[0;32mIn[4], line 2\u001b[0m\n\u001b[1;32m      1\u001b[0m model \u001b[38;5;241m=\u001b[39m YOLO(\u001b[38;5;124m'\u001b[39m\u001b[38;5;124myolov8s.yaml\u001b[39m\u001b[38;5;124m'\u001b[39m)\n\u001b[0;32m----> 2\u001b[0m results \u001b[38;5;241m=\u001b[39m \u001b[43mmodel\u001b[49m\u001b[38;5;241;43m.\u001b[39;49m\u001b[43mtrain\u001b[49m\u001b[43m(\u001b[49m\u001b[43mdata\u001b[49m\u001b[43m \u001b[49m\u001b[38;5;241;43m=\u001b[39;49m\u001b[43m \u001b[49m\u001b[43mpath\u001b[49m\u001b[43m,\u001b[49m\u001b[43m \u001b[49m\u001b[43mepochs\u001b[49m\u001b[43m \u001b[49m\u001b[38;5;241;43m=\u001b[39;49m\u001b[43m \u001b[49m\u001b[38;5;241;43m200\u001b[39;49m\u001b[43m,\u001b[49m\u001b[43m \u001b[49m\u001b[43mimgsz\u001b[49m\u001b[43m \u001b[49m\u001b[38;5;241;43m=\u001b[39;49m\u001b[43m \u001b[49m\u001b[38;5;241;43m1024\u001b[39;49m\u001b[43m,\u001b[49m\u001b[43m \u001b[49m\u001b[43mbatch\u001b[49m\u001b[43m \u001b[49m\u001b[38;5;241;43m=\u001b[39;49m\u001b[43m \u001b[49m\u001b[38;5;241;43m10\u001b[39;49m\u001b[43m,\u001b[49m\u001b[43m \u001b[49m\u001b[43mname\u001b[49m\u001b[43m \u001b[49m\u001b[38;5;241;43m=\u001b[39;49m\u001b[43m \u001b[49m\u001b[38;5;124;43m'\u001b[39;49m\u001b[38;5;124;43mcheckpoint\u001b[39;49m\u001b[38;5;124;43m'\u001b[39;49m\u001b[43m,\u001b[49m\u001b[43m \u001b[49m\u001b[43mdevice\u001b[49m\u001b[43m \u001b[49m\u001b[38;5;241;43m=\u001b[39;49m\u001b[43m \u001b[49m\u001b[43m[\u001b[49m\u001b[38;5;241;43m0\u001b[39;49m\u001b[43m,\u001b[49m\u001b[38;5;241;43m1\u001b[39;49m\u001b[43m]\u001b[49m\u001b[43m,\u001b[49m\u001b[43m \u001b[49m\u001b[43mpatience\u001b[49m\u001b[43m \u001b[49m\u001b[38;5;241;43m=\u001b[39;49m\u001b[43m \u001b[49m\u001b[38;5;241;43m25\u001b[39;49m\u001b[43m,\u001b[49m\u001b[43m \u001b[49m\u001b[43msave\u001b[49m\u001b[43m \u001b[49m\u001b[38;5;241;43m=\u001b[39;49m\u001b[43m \u001b[49m\u001b[38;5;28;43;01mTrue\u001b[39;49;00m\u001b[43m,\u001b[49m\u001b[43m \u001b[49m\u001b[43msave_period\u001b[49m\u001b[43m \u001b[49m\u001b[38;5;241;43m=\u001b[39;49m\u001b[43m \u001b[49m\u001b[38;5;241;43m10\u001b[39;49m\u001b[43m,\u001b[49m\u001b[43m \u001b[49m\u001b[43mexist_ok\u001b[49m\u001b[43m \u001b[49m\u001b[38;5;241;43m=\u001b[39;49m\u001b[43m \u001b[49m\u001b[38;5;28;43;01mTrue\u001b[39;49;00m\u001b[43m,\u001b[49m\u001b[43m \u001b[49m\u001b[43mresume\u001b[49m\u001b[43m \u001b[49m\u001b[38;5;241;43m=\u001b[39;49m\u001b[43m \u001b[49m\u001b[38;5;28;43;01mTrue\u001b[39;49;00m\u001b[43m,\u001b[49m\u001b[43m \u001b[49m\u001b[43miou\u001b[49m\u001b[43m \u001b[49m\u001b[38;5;241;43m=\u001b[39;49m\u001b[43m \u001b[49m\u001b[38;5;241;43m0.5\u001b[39;49m\u001b[43m,\u001b[49m\u001b[43m \u001b[49m\u001b[43moptimizer\u001b[49m\u001b[43m \u001b[49m\u001b[38;5;241;43m=\u001b[39;49m\u001b[43m \u001b[49m\u001b[38;5;124;43m'\u001b[39;49m\u001b[38;5;124;43mAdamW\u001b[39;49m\u001b[38;5;124;43m'\u001b[39;49m\u001b[43m)\u001b[49m\n",
      "File \u001b[0;32m~/.local/lib/python3.11/site-packages/ultralytics/engine/model.py:806\u001b[0m, in \u001b[0;36mModel.train\u001b[0;34m(self, trainer, **kwargs)\u001b[0m\n\u001b[1;32m    803\u001b[0m     \u001b[38;5;28mself\u001b[39m\u001b[38;5;241m.\u001b[39mmodel \u001b[38;5;241m=\u001b[39m \u001b[38;5;28mself\u001b[39m\u001b[38;5;241m.\u001b[39mtrainer\u001b[38;5;241m.\u001b[39mmodel\n\u001b[1;32m    805\u001b[0m \u001b[38;5;28mself\u001b[39m\u001b[38;5;241m.\u001b[39mtrainer\u001b[38;5;241m.\u001b[39mhub_session \u001b[38;5;241m=\u001b[39m \u001b[38;5;28mself\u001b[39m\u001b[38;5;241m.\u001b[39msession  \u001b[38;5;66;03m# attach optional HUB session\u001b[39;00m\n\u001b[0;32m--> 806\u001b[0m \u001b[38;5;28;43mself\u001b[39;49m\u001b[38;5;241;43m.\u001b[39;49m\u001b[43mtrainer\u001b[49m\u001b[38;5;241;43m.\u001b[39;49m\u001b[43mtrain\u001b[49m\u001b[43m(\u001b[49m\u001b[43m)\u001b[49m\n\u001b[1;32m    807\u001b[0m \u001b[38;5;66;03m# Update model and cfg after training\u001b[39;00m\n\u001b[1;32m    808\u001b[0m \u001b[38;5;28;01mif\u001b[39;00m RANK \u001b[38;5;129;01min\u001b[39;00m {\u001b[38;5;241m-\u001b[39m\u001b[38;5;241m1\u001b[39m, \u001b[38;5;241m0\u001b[39m}:\n",
      "File \u001b[0;32m~/.local/lib/python3.11/site-packages/ultralytics/engine/trainer.py:200\u001b[0m, in \u001b[0;36mBaseTrainer.train\u001b[0;34m(self)\u001b[0m\n\u001b[1;32m    198\u001b[0m \u001b[38;5;28;01mtry\u001b[39;00m:\n\u001b[1;32m    199\u001b[0m     LOGGER\u001b[38;5;241m.\u001b[39minfo(\u001b[38;5;124mf\u001b[39m\u001b[38;5;124m\"\u001b[39m\u001b[38;5;132;01m{\u001b[39;00mcolorstr(\u001b[38;5;124m'\u001b[39m\u001b[38;5;124mDDP:\u001b[39m\u001b[38;5;124m'\u001b[39m)\u001b[38;5;132;01m}\u001b[39;00m\u001b[38;5;124m debug command \u001b[39m\u001b[38;5;132;01m{\u001b[39;00m\u001b[38;5;124m'\u001b[39m\u001b[38;5;124m \u001b[39m\u001b[38;5;124m'\u001b[39m\u001b[38;5;241m.\u001b[39mjoin(cmd)\u001b[38;5;132;01m}\u001b[39;00m\u001b[38;5;124m\"\u001b[39m)\n\u001b[0;32m--> 200\u001b[0m     \u001b[43msubprocess\u001b[49m\u001b[38;5;241;43m.\u001b[39;49m\u001b[43mrun\u001b[49m\u001b[43m(\u001b[49m\u001b[43mcmd\u001b[49m\u001b[43m,\u001b[49m\u001b[43m \u001b[49m\u001b[43mcheck\u001b[49m\u001b[38;5;241;43m=\u001b[39;49m\u001b[38;5;28;43;01mTrue\u001b[39;49;00m\u001b[43m)\u001b[49m\n\u001b[1;32m    201\u001b[0m \u001b[38;5;28;01mexcept\u001b[39;00m \u001b[38;5;167;01mException\u001b[39;00m \u001b[38;5;28;01mas\u001b[39;00m e:\n\u001b[1;32m    202\u001b[0m     \u001b[38;5;28;01mraise\u001b[39;00m e\n",
      "File \u001b[0;32m/packages/apps/jupyter/2023-10-09/lib/python3.11/subprocess.py:550\u001b[0m, in \u001b[0;36mrun\u001b[0;34m(input, capture_output, timeout, check, *popenargs, **kwargs)\u001b[0m\n\u001b[1;32m    548\u001b[0m \u001b[38;5;28;01mwith\u001b[39;00m Popen(\u001b[38;5;241m*\u001b[39mpopenargs, \u001b[38;5;241m*\u001b[39m\u001b[38;5;241m*\u001b[39mkwargs) \u001b[38;5;28;01mas\u001b[39;00m process:\n\u001b[1;32m    549\u001b[0m     \u001b[38;5;28;01mtry\u001b[39;00m:\n\u001b[0;32m--> 550\u001b[0m         stdout, stderr \u001b[38;5;241m=\u001b[39m \u001b[43mprocess\u001b[49m\u001b[38;5;241;43m.\u001b[39;49m\u001b[43mcommunicate\u001b[49m\u001b[43m(\u001b[49m\u001b[38;5;28;43minput\u001b[39;49m\u001b[43m,\u001b[49m\u001b[43m \u001b[49m\u001b[43mtimeout\u001b[49m\u001b[38;5;241;43m=\u001b[39;49m\u001b[43mtimeout\u001b[49m\u001b[43m)\u001b[49m\n\u001b[1;32m    551\u001b[0m     \u001b[38;5;28;01mexcept\u001b[39;00m TimeoutExpired \u001b[38;5;28;01mas\u001b[39;00m exc:\n\u001b[1;32m    552\u001b[0m         process\u001b[38;5;241m.\u001b[39mkill()\n",
      "File \u001b[0;32m/packages/apps/jupyter/2023-10-09/lib/python3.11/subprocess.py:1201\u001b[0m, in \u001b[0;36mPopen.communicate\u001b[0;34m(self, input, timeout)\u001b[0m\n\u001b[1;32m   1199\u001b[0m         stderr \u001b[38;5;241m=\u001b[39m \u001b[38;5;28mself\u001b[39m\u001b[38;5;241m.\u001b[39mstderr\u001b[38;5;241m.\u001b[39mread()\n\u001b[1;32m   1200\u001b[0m         \u001b[38;5;28mself\u001b[39m\u001b[38;5;241m.\u001b[39mstderr\u001b[38;5;241m.\u001b[39mclose()\n\u001b[0;32m-> 1201\u001b[0m     \u001b[38;5;28;43mself\u001b[39;49m\u001b[38;5;241;43m.\u001b[39;49m\u001b[43mwait\u001b[49m\u001b[43m(\u001b[49m\u001b[43m)\u001b[49m\n\u001b[1;32m   1202\u001b[0m \u001b[38;5;28;01melse\u001b[39;00m:\n\u001b[1;32m   1203\u001b[0m     \u001b[38;5;28;01mif\u001b[39;00m timeout \u001b[38;5;129;01mis\u001b[39;00m \u001b[38;5;129;01mnot\u001b[39;00m \u001b[38;5;28;01mNone\u001b[39;00m:\n",
      "File \u001b[0;32m/packages/apps/jupyter/2023-10-09/lib/python3.11/subprocess.py:1264\u001b[0m, in \u001b[0;36mPopen.wait\u001b[0;34m(self, timeout)\u001b[0m\n\u001b[1;32m   1262\u001b[0m     endtime \u001b[38;5;241m=\u001b[39m _time() \u001b[38;5;241m+\u001b[39m timeout\n\u001b[1;32m   1263\u001b[0m \u001b[38;5;28;01mtry\u001b[39;00m:\n\u001b[0;32m-> 1264\u001b[0m     \u001b[38;5;28;01mreturn\u001b[39;00m \u001b[38;5;28;43mself\u001b[39;49m\u001b[38;5;241;43m.\u001b[39;49m\u001b[43m_wait\u001b[49m\u001b[43m(\u001b[49m\u001b[43mtimeout\u001b[49m\u001b[38;5;241;43m=\u001b[39;49m\u001b[43mtimeout\u001b[49m\u001b[43m)\u001b[49m\n\u001b[1;32m   1265\u001b[0m \u001b[38;5;28;01mexcept\u001b[39;00m \u001b[38;5;167;01mKeyboardInterrupt\u001b[39;00m:\n\u001b[1;32m   1266\u001b[0m     \u001b[38;5;66;03m# https://bugs.python.org/issue25942\u001b[39;00m\n\u001b[1;32m   1267\u001b[0m     \u001b[38;5;66;03m# The first keyboard interrupt waits briefly for the child to\u001b[39;00m\n\u001b[1;32m   1268\u001b[0m     \u001b[38;5;66;03m# exit under the common assumption that it also received the ^C\u001b[39;00m\n\u001b[1;32m   1269\u001b[0m     \u001b[38;5;66;03m# generated SIGINT and will exit rapidly.\u001b[39;00m\n\u001b[1;32m   1270\u001b[0m     \u001b[38;5;28;01mif\u001b[39;00m timeout \u001b[38;5;129;01mis\u001b[39;00m \u001b[38;5;129;01mnot\u001b[39;00m \u001b[38;5;28;01mNone\u001b[39;00m:\n",
      "File \u001b[0;32m/packages/apps/jupyter/2023-10-09/lib/python3.11/subprocess.py:2046\u001b[0m, in \u001b[0;36mPopen._wait\u001b[0;34m(self, timeout)\u001b[0m\n\u001b[1;32m   2044\u001b[0m \u001b[38;5;28;01mif\u001b[39;00m \u001b[38;5;28mself\u001b[39m\u001b[38;5;241m.\u001b[39mreturncode \u001b[38;5;129;01mis\u001b[39;00m \u001b[38;5;129;01mnot\u001b[39;00m \u001b[38;5;28;01mNone\u001b[39;00m:\n\u001b[1;32m   2045\u001b[0m     \u001b[38;5;28;01mbreak\u001b[39;00m  \u001b[38;5;66;03m# Another thread waited.\u001b[39;00m\n\u001b[0;32m-> 2046\u001b[0m (pid, sts) \u001b[38;5;241m=\u001b[39m \u001b[38;5;28;43mself\u001b[39;49m\u001b[38;5;241;43m.\u001b[39;49m\u001b[43m_try_wait\u001b[49m\u001b[43m(\u001b[49m\u001b[38;5;241;43m0\u001b[39;49m\u001b[43m)\u001b[49m\n\u001b[1;32m   2047\u001b[0m \u001b[38;5;66;03m# Check the pid and loop as waitpid has been known to\u001b[39;00m\n\u001b[1;32m   2048\u001b[0m \u001b[38;5;66;03m# return 0 even without WNOHANG in odd situations.\u001b[39;00m\n\u001b[1;32m   2049\u001b[0m \u001b[38;5;66;03m# http://bugs.python.org/issue14396.\u001b[39;00m\n\u001b[1;32m   2050\u001b[0m \u001b[38;5;28;01mif\u001b[39;00m pid \u001b[38;5;241m==\u001b[39m \u001b[38;5;28mself\u001b[39m\u001b[38;5;241m.\u001b[39mpid:\n",
      "File \u001b[0;32m/packages/apps/jupyter/2023-10-09/lib/python3.11/subprocess.py:2004\u001b[0m, in \u001b[0;36mPopen._try_wait\u001b[0;34m(self, wait_flags)\u001b[0m\n\u001b[1;32m   2002\u001b[0m \u001b[38;5;250m\u001b[39m\u001b[38;5;124;03m\"\"\"All callers to this function MUST hold self._waitpid_lock.\"\"\"\u001b[39;00m\n\u001b[1;32m   2003\u001b[0m \u001b[38;5;28;01mtry\u001b[39;00m:\n\u001b[0;32m-> 2004\u001b[0m     (pid, sts) \u001b[38;5;241m=\u001b[39m \u001b[43mos\u001b[49m\u001b[38;5;241;43m.\u001b[39;49m\u001b[43mwaitpid\u001b[49m\u001b[43m(\u001b[49m\u001b[38;5;28;43mself\u001b[39;49m\u001b[38;5;241;43m.\u001b[39;49m\u001b[43mpid\u001b[49m\u001b[43m,\u001b[49m\u001b[43m \u001b[49m\u001b[43mwait_flags\u001b[49m\u001b[43m)\u001b[49m\n\u001b[1;32m   2005\u001b[0m \u001b[38;5;28;01mexcept\u001b[39;00m \u001b[38;5;167;01mChildProcessError\u001b[39;00m:\n\u001b[1;32m   2006\u001b[0m     \u001b[38;5;66;03m# This happens if SIGCLD is set to be ignored or waiting\u001b[39;00m\n\u001b[1;32m   2007\u001b[0m     \u001b[38;5;66;03m# for child processes has otherwise been disabled for our\u001b[39;00m\n\u001b[1;32m   2008\u001b[0m     \u001b[38;5;66;03m# process.  This child is dead, we can't get the status.\u001b[39;00m\n\u001b[1;32m   2009\u001b[0m     pid \u001b[38;5;241m=\u001b[39m \u001b[38;5;28mself\u001b[39m\u001b[38;5;241m.\u001b[39mpid\n",
      "\u001b[0;31mKeyboardInterrupt\u001b[0m: "
     ]
    },
    {
     "name": "stdout",
     "output_type": "stream",
     "text": [
      "\n",
      "      Epoch    GPU_mem   box_loss   cls_loss   dfl_loss  Instances       Size\n"
     ]
    },
    {
     "name": "stderr",
     "output_type": "stream",
     "text": [
      "     58/200      3.37G      3.212      3.464      2.825         25       1024: 100%|██████████| 20/20 [00:02<00:00,  8.32it/s]\n",
      "                 Class     Images  Instances      Box(P          R      mAP50  mAP50-95): 100%|██████████| 3/3 [00:00<00:00, 10.94it/s]\n"
     ]
    },
    {
     "name": "stdout",
     "output_type": "stream",
     "text": [
      "                   all         25        125      0.402    0.00877     0.0118    0.00445\n",
      "\n",
      "      Epoch    GPU_mem   box_loss   cls_loss   dfl_loss  Instances       Size\n"
     ]
    },
    {
     "name": "stderr",
     "output_type": "stream",
     "text": [
      "     59/200      3.34G        3.2      3.521      2.762         40       1024: 100%|██████████| 20/20 [00:02<00:00,  8.11it/s]\n",
      "                 Class     Images  Instances      Box(P          R      mAP50  mAP50-95): 100%|██████████| 3/3 [00:00<00:00, 10.11it/s]\n"
     ]
    },
    {
     "name": "stdout",
     "output_type": "stream",
     "text": [
      "                   all         25        125     0.0212      0.016     0.0128    0.00384\n",
      "\n",
      "      Epoch    GPU_mem   box_loss   cls_loss   dfl_loss  Instances       Size\n"
     ]
    },
    {
     "name": "stderr",
     "output_type": "stream",
     "text": [
      "     60/200       3.4G      3.168      3.505      2.766         47       1024: 100%|██████████| 20/20 [00:02<00:00,  8.83it/s]\n",
      "                 Class     Images  Instances      Box(P          R      mAP50  mAP50-95): 100%|██████████| 3/3 [00:00<00:00,  3.55it/s]\n"
     ]
    },
    {
     "name": "stdout",
     "output_type": "stream",
     "text": [
      "                   all         25        125    0.00111     0.0765     0.0012   0.000343\n",
      "\n",
      "      Epoch    GPU_mem   box_loss   cls_loss   dfl_loss  Instances       Size\n"
     ]
    },
    {
     "name": "stderr",
     "output_type": "stream",
     "text": [
      "     61/200       3.3G      3.103      3.505      2.709         58       1024: 100%|██████████| 20/20 [00:02<00:00,  8.09it/s]\n",
      "                 Class     Images  Instances      Box(P          R      mAP50  mAP50-95): 100%|██████████| 3/3 [00:00<00:00,  4.43it/s]\n"
     ]
    },
    {
     "name": "stdout",
     "output_type": "stream",
     "text": [
      "                   all         25        125      0.348    0.00568    0.00914    0.00383\n",
      "\n",
      "      Epoch    GPU_mem   box_loss   cls_loss   dfl_loss  Instances       Size\n"
     ]
    },
    {
     "name": "stderr",
     "output_type": "stream",
     "text": [
      "     62/200      3.31G      3.066      3.346      2.703         22       1024: 100%|██████████| 20/20 [00:02<00:00,  8.54it/s]\n",
      "                 Class     Images  Instances      Box(P          R      mAP50  mAP50-95): 100%|██████████| 3/3 [00:00<00:00, 20.14it/s]\n"
     ]
    },
    {
     "name": "stdout",
     "output_type": "stream",
     "text": [
      "                   all         25        125       0.15    0.00723    0.00977    0.00411\n",
      "\n",
      "      Epoch    GPU_mem   box_loss   cls_loss   dfl_loss  Instances       Size\n"
     ]
    },
    {
     "name": "stderr",
     "output_type": "stream",
     "text": [
      "     63/200       3.4G      3.129      3.527      2.673         36       1024: 100%|██████████| 20/20 [00:02<00:00,  8.07it/s]\n",
      "                 Class     Images  Instances      Box(P          R      mAP50  mAP50-95): 100%|██████████| 3/3 [00:00<00:00, 17.78it/s]\n"
     ]
    },
    {
     "name": "stdout",
     "output_type": "stream",
     "text": [
      "                   all         25        125      0.281     0.0145     0.0135    0.00406\n",
      "\n",
      "      Epoch    GPU_mem   box_loss   cls_loss   dfl_loss  Instances       Size\n"
     ]
    },
    {
     "name": "stderr",
     "output_type": "stream",
     "text": [
      "     64/200      3.45G      3.056      3.465      2.731         48       1024: 100%|██████████| 20/20 [00:02<00:00,  8.67it/s]\n",
      "                 Class     Images  Instances      Box(P          R      mAP50  mAP50-95): 100%|██████████| 3/3 [00:00<00:00,  8.97it/s]\n"
     ]
    },
    {
     "name": "stdout",
     "output_type": "stream",
     "text": [
      "                   all         25        125      0.308    0.00568    0.00564    0.00169\n",
      "\n",
      "      Epoch    GPU_mem   box_loss   cls_loss   dfl_loss  Instances       Size\n"
     ]
    },
    {
     "name": "stderr",
     "output_type": "stream",
     "text": [
      "     65/200      3.46G      3.086      3.475      2.629         54       1024: 100%|██████████| 20/20 [00:02<00:00,  8.86it/s]\n",
      "                 Class     Images  Instances      Box(P          R      mAP50  mAP50-95): 100%|██████████| 3/3 [00:00<00:00, 10.51it/s]\n"
     ]
    },
    {
     "name": "stdout",
     "output_type": "stream",
     "text": [
      "                   all         25        125    0.00164      0.106    0.00699    0.00369\n"
     ]
    },
    {
     "name": "stderr",
     "output_type": "stream",
     "text": [
      "     66/200      3.38G       3.03      3.879      2.644         22       1024:   5%|▌         | 1/20 [00:00<00:03,  6.26it/s]"
     ]
    },
    {
     "name": "stdout",
     "output_type": "stream",
     "text": [
      "\n",
      "      Epoch    GPU_mem   box_loss   cls_loss   dfl_loss  Instances       Size\n"
     ]
    },
    {
     "name": "stderr",
     "output_type": "stream",
     "text": [
      "     66/200       3.4G      3.082      3.508      2.582         44       1024: 100%|██████████| 20/20 [00:02<00:00,  8.06it/s]\n",
      "                 Class     Images  Instances      Box(P          R      mAP50  mAP50-95): 100%|██████████| 3/3 [00:00<00:00,  4.99it/s]\n"
     ]
    },
    {
     "name": "stdout",
     "output_type": "stream",
     "text": [
      "                   all         25        125    0.00189      0.129    0.00183   0.000394\n",
      "\n",
      "      Epoch    GPU_mem   box_loss   cls_loss   dfl_loss  Instances       Size\n"
     ]
    },
    {
     "name": "stderr",
     "output_type": "stream",
     "text": [
      "     67/200      3.34G      3.022      3.459      2.622         39       1024: 100%|██████████| 20/20 [00:02<00:00,  7.62it/s]\n",
      "                 Class     Images  Instances      Box(P          R      mAP50  mAP50-95): 100%|██████████| 3/3 [00:00<00:00,  7.64it/s]\n"
     ]
    },
    {
     "name": "stdout",
     "output_type": "stream",
     "text": [
      "                   all         25        125    0.00205     0.0711    0.00174   0.000505\n",
      "\n",
      "      Epoch    GPU_mem   box_loss   cls_loss   dfl_loss  Instances       Size\n"
     ]
    },
    {
     "name": "stderr",
     "output_type": "stream",
     "text": [
      "     68/200       3.3G      3.161        3.5      2.678         57       1024: 100%|██████████| 20/20 [00:02<00:00,  8.37it/s]\n",
      "                 Class     Images  Instances      Box(P          R      mAP50  mAP50-95): 100%|██████████| 3/3 [00:00<00:00,  6.31it/s]\n"
     ]
    },
    {
     "name": "stdout",
     "output_type": "stream",
     "text": [
      "                   all         25        125     0.0419     0.0274    0.00871    0.00249\n",
      "\n",
      "      Epoch    GPU_mem   box_loss   cls_loss   dfl_loss  Instances       Size\n"
     ]
    },
    {
     "name": "stderr",
     "output_type": "stream",
     "text": [
      "     69/200       3.4G        3.1      3.674      2.677         38       1024: 100%|██████████| 20/20 [00:02<00:00,  8.66it/s]\n",
      "                 Class     Images  Instances      Box(P          R      mAP50  mAP50-95):  67%|██████▋   | 2/3 [00:00<00:00, 12.49it/s]"
     ]
    },
    {
     "name": "stdout",
     "output_type": "stream",
     "text": [
      "                   all         25        125     0.0142      0.017     0.0107    0.00356\n"
     ]
    },
    {
     "name": "stderr",
     "output_type": "stream",
     "text": [
      "                 Class     Images  Instances      Box(P          R      mAP50  mAP50-95): 100%|██████████| 3/3 [00:00<00:00, 11.66it/s]\n"
     ]
    },
    {
     "name": "stdout",
     "output_type": "stream",
     "text": [
      "\n",
      "      Epoch    GPU_mem   box_loss   cls_loss   dfl_loss  Instances       Size\n"
     ]
    },
    {
     "name": "stderr",
     "output_type": "stream",
     "text": [
      "     70/200      3.42G      3.013      3.534      2.591         51       1024: 100%|██████████| 20/20 [00:02<00:00,  7.73it/s]\n",
      "                 Class     Images  Instances      Box(P          R      mAP50  mAP50-95): 100%|██████████| 3/3 [00:00<00:00, 14.56it/s]\n"
     ]
    },
    {
     "name": "stdout",
     "output_type": "stream",
     "text": [
      "                   all         25        125      0.346    0.00568    0.00918    0.00268\n",
      "\n",
      "      Epoch    GPU_mem   box_loss   cls_loss   dfl_loss  Instances       Size\n"
     ]
    },
    {
     "name": "stderr",
     "output_type": "stream",
     "text": [
      "     71/200      3.44G      3.017      3.562      2.587         59       1024: 100%|██████████| 20/20 [00:02<00:00,  8.33it/s]\n",
      "                 Class     Images  Instances      Box(P          R      mAP50  mAP50-95): 100%|██████████| 3/3 [00:00<00:00, 14.85it/s]\n"
     ]
    },
    {
     "name": "stdout",
     "output_type": "stream",
     "text": [
      "                   all         25        125      0.328    0.00568    0.00835    0.00303\n",
      "\n",
      "      Epoch    GPU_mem   box_loss   cls_loss   dfl_loss  Instances       Size\n"
     ]
    },
    {
     "name": "stderr",
     "output_type": "stream",
     "text": [
      "     72/200      3.44G      3.029      3.386      2.594         39       1024: 100%|██████████| 20/20 [00:02<00:00,  8.05it/s]\n",
      "                 Class     Images  Instances      Box(P          R      mAP50  mAP50-95): 100%|██████████| 3/3 [00:00<00:00, 22.25it/s]\n"
     ]
    },
    {
     "name": "stdout",
     "output_type": "stream",
     "text": [
      "                   all         25        125      0.268     0.0723     0.0163    0.00436\n"
     ]
    },
    {
     "name": "stderr",
     "output_type": "stream",
     "text": [
      "     73/200      3.29G      3.039       3.31      2.653         30       1024:   5%|▌         | 1/20 [00:00<00:02,  6.67it/s]"
     ]
    },
    {
     "name": "stdout",
     "output_type": "stream",
     "text": [
      "\n",
      "      Epoch    GPU_mem   box_loss   cls_loss   dfl_loss  Instances       Size\n"
     ]
    },
    {
     "name": "stderr",
     "output_type": "stream",
     "text": [
      "     73/200      3.29G      2.958        3.5      2.539         54       1024: 100%|██████████| 20/20 [00:02<00:00,  8.37it/s]\n",
      "                 Class     Images  Instances      Box(P          R      mAP50  mAP50-95): 100%|██████████| 3/3 [00:00<00:00, 12.99it/s]\n"
     ]
    },
    {
     "name": "stdout",
     "output_type": "stream",
     "text": [
      "                   all         25        125     0.0647    0.00723    0.00928     0.0026\n",
      "\n",
      "      Epoch    GPU_mem   box_loss   cls_loss   dfl_loss  Instances       Size\n"
     ]
    },
    {
     "name": "stderr",
     "output_type": "stream",
     "text": [
      "     74/200      3.29G      2.972      3.393      2.563         24       1024: 100%|██████████| 20/20 [00:02<00:00,  8.47it/s]\n",
      "                 Class     Images  Instances      Box(P          R      mAP50  mAP50-95): 100%|██████████| 3/3 [00:00<00:00,  5.37it/s]\n"
     ]
    },
    {
     "name": "stdout",
     "output_type": "stream",
     "text": [
      "                   all         25        125      0.154    0.00568    0.00765    0.00391\n",
      "\n",
      "      Epoch    GPU_mem   box_loss   cls_loss   dfl_loss  Instances       Size\n"
     ]
    },
    {
     "name": "stderr",
     "output_type": "stream",
     "text": [
      "     75/200      3.39G      2.935      3.276       2.53         46       1024: 100%|██████████| 20/20 [00:02<00:00,  8.50it/s]\n",
      "                 Class     Images  Instances      Box(P          R      mAP50  mAP50-95): 100%|██████████| 3/3 [00:00<00:00, 24.04it/s]\n"
     ]
    },
    {
     "name": "stdout",
     "output_type": "stream",
     "text": [
      "                   all         25        125     0.0133      0.178     0.0209    0.00855\n"
     ]
    },
    {
     "name": "stderr",
     "output_type": "stream",
     "text": [
      "  0%|          | 0/20 [00:00<?, ?it/s]"
     ]
    },
    {
     "name": "stdout",
     "output_type": "stream",
     "text": [
      "\n",
      "      Epoch    GPU_mem   box_loss   cls_loss   dfl_loss  Instances       Size\n"
     ]
    },
    {
     "name": "stderr",
     "output_type": "stream",
     "text": [
      "     76/200      3.45G      2.968      3.379      2.584         48       1024: 100%|██████████| 20/20 [00:02<00:00,  7.81it/s]\n",
      "                 Class     Images  Instances      Box(P          R      mAP50  mAP50-95): 100%|██████████| 3/3 [00:00<00:00, 20.49it/s]\n"
     ]
    },
    {
     "name": "stdout",
     "output_type": "stream",
     "text": [
      "                   all         25        125    0.00963      0.243      0.035     0.0124\n",
      "\n",
      "      Epoch    GPU_mem   box_loss   cls_loss   dfl_loss  Instances       Size\n"
     ]
    },
    {
     "name": "stderr",
     "output_type": "stream",
     "text": [
      "     77/200      3.34G      2.901      3.406      2.521         50       1024: 100%|██████████| 20/20 [00:02<00:00,  7.45it/s]\n",
      "                 Class     Images  Instances      Box(P          R      mAP50  mAP50-95): 100%|██████████| 3/3 [00:00<00:00, 17.06it/s]\n"
     ]
    },
    {
     "name": "stdout",
     "output_type": "stream",
     "text": [
      "                   all         25        125    0.00289      0.141    0.00872    0.00248\n",
      "\n",
      "      Epoch    GPU_mem   box_loss   cls_loss   dfl_loss  Instances       Size\n"
     ]
    },
    {
     "name": "stderr",
     "output_type": "stream",
     "text": [
      "     78/200      3.46G      2.962      3.487       2.55         48       1024: 100%|██████████| 20/20 [00:02<00:00,  8.51it/s]\n",
      "                 Class     Images  Instances      Box(P          R      mAP50  mAP50-95): 100%|██████████| 3/3 [00:00<00:00, 18.77it/s]\n"
     ]
    },
    {
     "name": "stdout",
     "output_type": "stream",
     "text": [
      "                   all         25        125     0.0041      0.123    0.00683    0.00211\n"
     ]
    },
    {
     "name": "stderr",
     "output_type": "stream",
     "text": [
      "     79/200      3.29G      2.771      2.886      2.378         69       1024:   5%|▌         | 1/20 [00:00<00:02,  6.88it/s]"
     ]
    },
    {
     "name": "stdout",
     "output_type": "stream",
     "text": [
      "\n",
      "      Epoch    GPU_mem   box_loss   cls_loss   dfl_loss  Instances       Size\n"
     ]
    },
    {
     "name": "stderr",
     "output_type": "stream",
     "text": [
      "     79/200      3.29G      2.925       3.22      2.531         52       1024: 100%|██████████| 20/20 [00:02<00:00,  8.14it/s]\n",
      "                 Class     Images  Instances      Box(P          R      mAP50  mAP50-95): 100%|██████████| 3/3 [00:00<00:00, 20.28it/s]\n"
     ]
    },
    {
     "name": "stdout",
     "output_type": "stream",
     "text": [
      "                   all         25        125    0.00349     0.0687    0.00921    0.00245\n"
     ]
    },
    {
     "name": "stderr",
     "output_type": "stream",
     "text": [
      "     80/200      3.33G      2.927       3.37      2.611         47       1024:   5%|▌         | 1/20 [00:00<00:02,  7.43it/s]"
     ]
    },
    {
     "name": "stdout",
     "output_type": "stream",
     "text": [
      "\n",
      "      Epoch    GPU_mem   box_loss   cls_loss   dfl_loss  Instances       Size\n"
     ]
    },
    {
     "name": "stderr",
     "output_type": "stream",
     "text": [
      "     80/200      3.33G      2.905      3.275      2.535         33       1024: 100%|██████████| 20/20 [00:02<00:00,  8.27it/s]\n",
      "                 Class     Images  Instances      Box(P          R      mAP50  mAP50-95): 100%|██████████| 3/3 [00:00<00:00,  9.75it/s]\n"
     ]
    },
    {
     "name": "stdout",
     "output_type": "stream",
     "text": [
      "                   all         25        125    0.00194     0.0833    0.00133   0.000378\n",
      "\n",
      "      Epoch    GPU_mem   box_loss   cls_loss   dfl_loss  Instances       Size\n"
     ]
    },
    {
     "name": "stderr",
     "output_type": "stream",
     "text": [
      "     81/200       3.4G      3.052      3.334      2.588         42       1024: 100%|██████████| 20/20 [00:02<00:00,  7.60it/s]\n",
      "                 Class     Images  Instances      Box(P          R      mAP50  mAP50-95): 100%|██████████| 3/3 [00:00<00:00, 17.80it/s]\n"
     ]
    },
    {
     "name": "stdout",
     "output_type": "stream",
     "text": [
      "                   all         25        125    0.00535     0.0428    0.00483    0.00173\n",
      "\n",
      "      Epoch    GPU_mem   box_loss   cls_loss   dfl_loss  Instances       Size\n"
     ]
    },
    {
     "name": "stderr",
     "output_type": "stream",
     "text": [
      "     82/200       3.3G      2.873      3.361      2.515         61       1024: 100%|██████████| 20/20 [00:02<00:00,  8.57it/s]\n",
      "                 Class     Images  Instances      Box(P          R      mAP50  mAP50-95): 100%|██████████| 3/3 [00:00<00:00, 17.93it/s]\n"
     ]
    },
    {
     "name": "stdout",
     "output_type": "stream",
     "text": [
      "                   all         25        125    0.00497     0.0931      0.008    0.00198\n"
     ]
    },
    {
     "name": "stderr",
     "output_type": "stream",
     "text": [
      "     83/200      3.46G       3.02      3.364      2.704         29       1024:   5%|▌         | 1/20 [00:00<00:03,  6.17it/s]"
     ]
    },
    {
     "name": "stdout",
     "output_type": "stream",
     "text": [
      "\n",
      "      Epoch    GPU_mem   box_loss   cls_loss   dfl_loss  Instances       Size\n"
     ]
    },
    {
     "name": "stderr",
     "output_type": "stream",
     "text": [
      "     83/200      3.46G       2.92      3.283      2.628         26       1024: 100%|██████████| 20/20 [00:02<00:00,  8.00it/s]\n",
      "                 Class     Images  Instances      Box(P          R      mAP50  mAP50-95): 100%|██████████| 3/3 [00:00<00:00, 17.18it/s]\n"
     ]
    },
    {
     "name": "stdout",
     "output_type": "stream",
     "text": [
      "                   all         25        125      0.395     0.0423     0.0175    0.00547\n",
      "\n",
      "      Epoch    GPU_mem   box_loss   cls_loss   dfl_loss  Instances       Size\n"
     ]
    },
    {
     "name": "stderr",
     "output_type": "stream",
     "text": [
      "     84/200      3.44G       2.96      3.314      2.559         45       1024: 100%|██████████| 20/20 [00:02<00:00,  7.83it/s]\n",
      "                 Class     Images  Instances      Box(P          R      mAP50  mAP50-95): 100%|██████████| 3/3 [00:00<00:00, 22.82it/s]\n"
     ]
    },
    {
     "name": "stdout",
     "output_type": "stream",
     "text": [
      "                   all         25        125    0.00373      0.153      0.016    0.00488\n",
      "\n",
      "      Epoch    GPU_mem   box_loss   cls_loss   dfl_loss  Instances       Size\n"
     ]
    },
    {
     "name": "stderr",
     "output_type": "stream",
     "text": [
      "     85/200       3.3G      2.881      3.194      2.547         64       1024: 100%|██████████| 20/20 [00:02<00:00,  8.60it/s]\n",
      "                 Class     Images  Instances      Box(P          R      mAP50  mAP50-95): 100%|██████████| 3/3 [00:00<00:00, 21.53it/s]\n"
     ]
    },
    {
     "name": "stdout",
     "output_type": "stream",
     "text": [
      "                   all         25        125      0.424     0.0409     0.0246    0.00761\n",
      "\n",
      "      Epoch    GPU_mem   box_loss   cls_loss   dfl_loss  Instances       Size\n"
     ]
    },
    {
     "name": "stderr",
     "output_type": "stream",
     "text": [
      "     86/200      3.45G      2.834      3.211      2.508         40       1024: 100%|██████████| 20/20 [00:02<00:00,  8.13it/s]\n",
      "                 Class     Images  Instances      Box(P          R      mAP50  mAP50-95):  67%|██████▋   | 2/3 [00:00<00:00, 12.23it/s]"
     ]
    },
    {
     "name": "stdout",
     "output_type": "stream",
     "text": [
      "                   all         25        125      0.475      0.016     0.0235    0.00558\n"
     ]
    },
    {
     "name": "stderr",
     "output_type": "stream",
     "text": [
      "                 Class     Images  Instances      Box(P          R      mAP50  mAP50-95): 100%|██████████| 3/3 [00:00<00:00, 15.39it/s]\n",
      "     87/200       3.4G      2.722       2.95      2.375         34       1024:   5%|▌         | 1/20 [00:00<00:02,  6.64it/s]"
     ]
    },
    {
     "name": "stdout",
     "output_type": "stream",
     "text": [
      "\n",
      "      Epoch    GPU_mem   box_loss   cls_loss   dfl_loss  Instances       Size\n"
     ]
    },
    {
     "name": "stderr",
     "output_type": "stream",
     "text": [
      "     87/200      3.41G        2.9      3.217      2.504         30       1024: 100%|██████████| 20/20 [00:02<00:00,  7.65it/s]\n",
      "                 Class     Images  Instances      Box(P          R      mAP50  mAP50-95): 100%|██████████| 3/3 [00:00<00:00, 12.71it/s]\n"
     ]
    },
    {
     "name": "stdout",
     "output_type": "stream",
     "text": [
      "                   all         25        125      0.398     0.0145     0.0144    0.00434\n",
      "\n",
      "      Epoch    GPU_mem   box_loss   cls_loss   dfl_loss  Instances       Size\n"
     ]
    },
    {
     "name": "stderr",
     "output_type": "stream",
     "text": [
      "     88/200      3.36G      2.866      3.316      2.455         64       1024: 100%|██████████| 20/20 [00:02<00:00,  8.26it/s]\n",
      "                 Class     Images  Instances      Box(P          R      mAP50  mAP50-95): 100%|██████████| 3/3 [00:00<00:00, 23.09it/s]\n"
     ]
    },
    {
     "name": "stdout",
     "output_type": "stream",
     "text": [
      "                   all         25        125      0.458     0.0217     0.0309    0.00952\n",
      "\n",
      "      Epoch    GPU_mem   box_loss   cls_loss   dfl_loss  Instances       Size\n"
     ]
    },
    {
     "name": "stderr",
     "output_type": "stream",
     "text": [
      "     89/200      3.32G      2.836      3.125      2.471         48       1024: 100%|██████████| 20/20 [00:02<00:00,  8.02it/s]\n",
      "                 Class     Images  Instances      Box(P          R      mAP50  mAP50-95): 100%|██████████| 3/3 [00:00<00:00,  4.50it/s]\n"
     ]
    },
    {
     "name": "stdout",
     "output_type": "stream",
     "text": [
      "                   all         25        125      0.254     0.0275    0.00175   0.000382\n",
      "\n",
      "      Epoch    GPU_mem   box_loss   cls_loss   dfl_loss  Instances       Size\n"
     ]
    },
    {
     "name": "stderr",
     "output_type": "stream",
     "text": [
      "     90/200      3.44G      2.851      3.301      2.517         38       1024: 100%|██████████| 20/20 [00:02<00:00,  7.73it/s]\n",
      "                 Class     Images  Instances      Box(P          R      mAP50  mAP50-95): 100%|██████████| 3/3 [00:00<00:00,  4.14it/s]\n"
     ]
    },
    {
     "name": "stdout",
     "output_type": "stream",
     "text": [
      "                   all         25        125      0.251     0.0275   0.000624   0.000147\n",
      "\n",
      "      Epoch    GPU_mem   box_loss   cls_loss   dfl_loss  Instances       Size\n"
     ]
    },
    {
     "name": "stderr",
     "output_type": "stream",
     "text": [
      "     91/200      3.42G      2.871      3.447      2.519         41       1024: 100%|██████████| 20/20 [00:02<00:00,  8.41it/s]\n",
      "                 Class     Images  Instances      Box(P          R      mAP50  mAP50-95): 100%|██████████| 3/3 [00:00<00:00,  5.11it/s]\n"
     ]
    },
    {
     "name": "stdout",
     "output_type": "stream",
     "text": [
      "                   all         25        125      0.254     0.0175    0.00306   0.000598\n",
      "\n",
      "      Epoch    GPU_mem   box_loss   cls_loss   dfl_loss  Instances       Size\n"
     ]
    },
    {
     "name": "stderr",
     "output_type": "stream",
     "text": [
      "     92/200       3.3G      2.824      3.268      2.446         74       1024: 100%|██████████| 20/20 [00:02<00:00,  8.37it/s]\n",
      "                 Class     Images  Instances      Box(P          R      mAP50  mAP50-95):  67%|██████▋   | 2/3 [00:00<00:00, 16.53it/s]"
     ]
    },
    {
     "name": "stdout",
     "output_type": "stream",
     "text": [
      "                   all         25        125      0.401     0.0145     0.0218      0.006\n"
     ]
    },
    {
     "name": "stderr",
     "output_type": "stream",
     "text": [
      "                 Class     Images  Instances      Box(P          R      mAP50  mAP50-95): 100%|██████████| 3/3 [00:00<00:00, 13.64it/s]\n",
      "     93/200      3.42G      2.773      3.251      2.512         32       1024:   5%|▌         | 1/20 [00:00<00:02,  7.51it/s]"
     ]
    },
    {
     "name": "stdout",
     "output_type": "stream",
     "text": [
      "\n",
      "      Epoch    GPU_mem   box_loss   cls_loss   dfl_loss  Instances       Size\n"
     ]
    },
    {
     "name": "stderr",
     "output_type": "stream",
     "text": [
      "     93/200      3.44G      2.833      3.325      2.491         36       1024: 100%|██████████| 20/20 [00:02<00:00,  8.55it/s]\n",
      "                 Class     Images  Instances      Box(P          R      mAP50  mAP50-95): 100%|██████████| 3/3 [00:00<00:00, 17.11it/s]\n"
     ]
    },
    {
     "name": "stdout",
     "output_type": "stream",
     "text": [
      "                   all         25        125      0.579     0.0232     0.0317     0.0069\n",
      "\n",
      "      Epoch    GPU_mem   box_loss   cls_loss   dfl_loss  Instances       Size\n"
     ]
    },
    {
     "name": "stderr",
     "output_type": "stream",
     "text": [
      "     94/200       3.3G      2.825      3.202      2.502         25       1024: 100%|██████████| 20/20 [00:02<00:00,  8.50it/s]\n",
      "                 Class     Images  Instances      Box(P          R      mAP50  mAP50-95): 100%|██████████| 3/3 [00:00<00:00, 12.74it/s]\n"
     ]
    },
    {
     "name": "stdout",
     "output_type": "stream",
     "text": [
      "                   all         25        125       0.45     0.0247     0.0224    0.00504\n",
      "\n",
      "      Epoch    GPU_mem   box_loss   cls_loss   dfl_loss  Instances       Size\n"
     ]
    },
    {
     "name": "stderr",
     "output_type": "stream",
     "text": [
      "     95/200      3.31G      2.837      3.147      2.481         26       1024: 100%|██████████| 20/20 [00:02<00:00,  8.33it/s]\n",
      "                 Class     Images  Instances      Box(P          R      mAP50  mAP50-95): 100%|██████████| 3/3 [00:00<00:00, 22.83it/s]\n"
     ]
    },
    {
     "name": "stdout",
     "output_type": "stream",
     "text": [
      "                   all         25        125      0.439     0.0186     0.0149    0.00456\n",
      "\n",
      "      Epoch    GPU_mem   box_loss   cls_loss   dfl_loss  Instances       Size\n"
     ]
    },
    {
     "name": "stderr",
     "output_type": "stream",
     "text": [
      "     96/200      3.44G      2.772      3.185      2.462         48       1024: 100%|██████████| 20/20 [00:02<00:00,  8.69it/s]\n",
      "                 Class     Images  Instances      Box(P          R      mAP50  mAP50-95): 100%|██████████| 3/3 [00:00<00:00, 16.65it/s]\n"
     ]
    },
    {
     "name": "stdout",
     "output_type": "stream",
     "text": [
      "                   all         25        125      0.414    0.00877     0.0166    0.00486\n",
      "\n",
      "      Epoch    GPU_mem   box_loss   cls_loss   dfl_loss  Instances       Size\n"
     ]
    },
    {
     "name": "stderr",
     "output_type": "stream",
     "text": [
      "     97/200       3.3G      2.721      3.154      2.468         24       1024: 100%|██████████| 20/20 [00:02<00:00,  8.39it/s]\n",
      "                 Class     Images  Instances      Box(P          R      mAP50  mAP50-95): 100%|██████████| 3/3 [00:00<00:00, 22.94it/s]\n"
     ]
    },
    {
     "name": "stdout",
     "output_type": "stream",
     "text": [
      "                   all         25        125      0.443     0.0274     0.0304    0.00691\n",
      "\n",
      "      Epoch    GPU_mem   box_loss   cls_loss   dfl_loss  Instances       Size\n"
     ]
    },
    {
     "name": "stderr",
     "output_type": "stream",
     "text": [
      "     98/200      3.36G       2.86      3.259      2.472         25       1024: 100%|██████████| 20/20 [00:02<00:00,  8.56it/s]\n",
      "                 Class     Images  Instances      Box(P          R      mAP50  mAP50-95): 100%|██████████| 3/3 [00:00<00:00, 10.90it/s]\n"
     ]
    },
    {
     "name": "stdout",
     "output_type": "stream",
     "text": [
      "                   all         25        125      0.507    0.00723    0.00175   0.000333\n",
      "\n",
      "      Epoch    GPU_mem   box_loss   cls_loss   dfl_loss  Instances       Size\n"
     ]
    },
    {
     "name": "stderr",
     "output_type": "stream",
     "text": [
      "     99/200      3.39G       2.73       3.09      2.383         46       1024: 100%|██████████| 20/20 [00:02<00:00,  8.62it/s]\n",
      "                 Class     Images  Instances      Box(P          R      mAP50  mAP50-95): 100%|██████████| 3/3 [00:00<00:00, 24.73it/s]\n"
     ]
    },
    {
     "name": "stdout",
     "output_type": "stream",
     "text": [
      "                   all         25        125       0.61     0.0278     0.0358     0.0102\n",
      "\n",
      "      Epoch    GPU_mem   box_loss   cls_loss   dfl_loss  Instances       Size\n"
     ]
    },
    {
     "name": "stderr",
     "output_type": "stream",
     "text": [
      "    100/200      3.43G      2.744      3.104      2.413         25       1024: 100%|██████████| 20/20 [00:02<00:00,  8.43it/s]\n",
      "                 Class     Images  Instances      Box(P          R      mAP50  mAP50-95):   0%|          | 0/3 [00:00<?, ?it/s]"
     ]
    },
    {
     "name": "stdout",
     "output_type": "stream",
     "text": [
      "                   all         25        125       0.72     0.0148     0.0316    0.00903\n"
     ]
    },
    {
     "name": "stderr",
     "output_type": "stream",
     "text": [
      "                 Class     Images  Instances      Box(P          R      mAP50  mAP50-95): 100%|██████████| 3/3 [00:00<00:00, 24.03it/s]\n"
     ]
    },
    {
     "name": "stdout",
     "output_type": "stream",
     "text": [
      "\n",
      "      Epoch    GPU_mem   box_loss   cls_loss   dfl_loss  Instances       Size\n"
     ]
    },
    {
     "name": "stderr",
     "output_type": "stream",
     "text": [
      "    101/200       3.3G      2.748      3.185      2.455         46       1024: 100%|██████████| 20/20 [00:02<00:00,  7.83it/s]\n",
      "                 Class     Images  Instances      Box(P          R      mAP50  mAP50-95): 100%|██████████| 3/3 [00:00<00:00, 21.84it/s]\n"
     ]
    },
    {
     "name": "stdout",
     "output_type": "stream",
     "text": [
      "                   all         25        125      0.546      0.033     0.0365     0.0124\n",
      "\n",
      "      Epoch    GPU_mem   box_loss   cls_loss   dfl_loss  Instances       Size\n"
     ]
    },
    {
     "name": "stderr",
     "output_type": "stream",
     "text": [
      "    102/200      3.42G      2.726      2.998      2.425         48       1024: 100%|██████████| 20/20 [00:02<00:00,  8.26it/s]\n",
      "                 Class     Images  Instances      Box(P          R      mAP50  mAP50-95): 100%|██████████| 3/3 [00:00<00:00, 16.34it/s]\n"
     ]
    },
    {
     "name": "stdout",
     "output_type": "stream",
     "text": [
      "                   all         25        125      0.599     0.0451     0.0452     0.0142\n",
      "\n",
      "      Epoch    GPU_mem   box_loss   cls_loss   dfl_loss  Instances       Size\n"
     ]
    },
    {
     "name": "stderr",
     "output_type": "stream",
     "text": [
      "    103/200      3.36G      2.743      3.193      2.468         38       1024: 100%|██████████| 20/20 [00:02<00:00,  8.71it/s]\n",
      "                 Class     Images  Instances      Box(P          R      mAP50  mAP50-95): 100%|██████████| 3/3 [00:00<00:00, 21.22it/s]\n"
     ]
    },
    {
     "name": "stdout",
     "output_type": "stream",
     "text": [
      "                   all         25        125      0.606     0.0304     0.0349     0.0122\n",
      "\n",
      "      Epoch    GPU_mem   box_loss   cls_loss   dfl_loss  Instances       Size\n"
     ]
    },
    {
     "name": "stderr",
     "output_type": "stream",
     "text": [
      "    104/200      3.33G      2.755      3.178      2.429         31       1024: 100%|██████████| 20/20 [00:02<00:00,  8.51it/s]\n",
      "                 Class     Images  Instances      Box(P          R      mAP50  mAP50-95): 100%|██████████| 3/3 [00:00<00:00, 14.41it/s]\n"
     ]
    },
    {
     "name": "stdout",
     "output_type": "stream",
     "text": [
      "                   all         25        125      0.456      0.035     0.0282    0.00758\n",
      "\n",
      "      Epoch    GPU_mem   box_loss   cls_loss   dfl_loss  Instances       Size\n"
     ]
    },
    {
     "name": "stderr",
     "output_type": "stream",
     "text": [
      "    105/200      3.59G      2.732      3.002      2.391         43       1024: 100%|██████████| 20/20 [00:02<00:00,  8.71it/s]\n",
      "                 Class     Images  Instances      Box(P          R      mAP50  mAP50-95): 100%|██████████| 3/3 [00:00<00:00, 22.80it/s]\n"
     ]
    },
    {
     "name": "stdout",
     "output_type": "stream",
     "text": [
      "                   all         25        125      0.418      0.016     0.0156    0.00339\n"
     ]
    },
    {
     "name": "stderr",
     "output_type": "stream",
     "text": [
      "    106/200      3.34G      2.794      2.859      2.446         48       1024:   5%|▌         | 1/20 [00:00<00:02,  6.50it/s]"
     ]
    },
    {
     "name": "stdout",
     "output_type": "stream",
     "text": [
      "\n",
      "      Epoch    GPU_mem   box_loss   cls_loss   dfl_loss  Instances       Size\n"
     ]
    },
    {
     "name": "stderr",
     "output_type": "stream",
     "text": [
      "    106/200      3.34G      2.671      2.979       2.36         37       1024: 100%|██████████| 20/20 [00:02<00:00,  8.52it/s]\n",
      "                 Class     Images  Instances      Box(P          R      mAP50  mAP50-95): 100%|██████████| 3/3 [00:00<00:00, 17.95it/s]\n"
     ]
    },
    {
     "name": "stdout",
     "output_type": "stream",
     "text": [
      "                   all         25        125      0.429     0.0232     0.0207     0.0057\n",
      "\n",
      "      Epoch    GPU_mem   box_loss   cls_loss   dfl_loss  Instances       Size\n"
     ]
    },
    {
     "name": "stderr",
     "output_type": "stream",
     "text": [
      "    107/200      3.33G      2.706      3.101      2.383         35       1024: 100%|██████████| 20/20 [00:02<00:00,  8.34it/s]\n",
      "                 Class     Images  Instances      Box(P          R      mAP50  mAP50-95): 100%|██████████| 3/3 [00:00<00:00, 14.68it/s]\n"
     ]
    },
    {
     "name": "stdout",
     "output_type": "stream",
     "text": [
      "                   all         25        125      0.445    0.00723    0.00993    0.00319\n",
      "\n",
      "      Epoch    GPU_mem   box_loss   cls_loss   dfl_loss  Instances       Size\n"
     ]
    },
    {
     "name": "stderr",
     "output_type": "stream",
     "text": [
      "    108/200      3.52G       2.81      3.065      2.403         31       1024: 100%|██████████| 20/20 [00:02<00:00,  8.91it/s]\n",
      "                 Class     Images  Instances      Box(P          R      mAP50  mAP50-95): 100%|██████████| 3/3 [00:00<00:00,  3.84it/s]\n"
     ]
    },
    {
     "name": "stdout",
     "output_type": "stream",
     "text": [
      "                   all         25        125    0.00235     0.0991    0.00426   0.000972\n",
      "\n",
      "      Epoch    GPU_mem   box_loss   cls_loss   dfl_loss  Instances       Size\n"
     ]
    },
    {
     "name": "stderr",
     "output_type": "stream",
     "text": [
      "    109/200      3.29G      2.771      3.151      2.462         28       1024: 100%|██████████| 20/20 [00:02<00:00,  8.94it/s]\n",
      "                 Class     Images  Instances      Box(P          R      mAP50  mAP50-95): 100%|██████████| 3/3 [00:00<00:00, 21.84it/s]\n"
     ]
    },
    {
     "name": "stdout",
     "output_type": "stream",
     "text": [
      "                   all         25        125      0.392     0.0145    0.00546    0.00145\n",
      "\n",
      "      Epoch    GPU_mem   box_loss   cls_loss   dfl_loss  Instances       Size\n"
     ]
    },
    {
     "name": "stderr",
     "output_type": "stream",
     "text": [
      "    110/200      3.42G      2.824      3.067      2.497         33       1024: 100%|██████████| 20/20 [00:02<00:00,  9.01it/s]\n",
      "                 Class     Images  Instances      Box(P          R      mAP50  mAP50-95):   0%|          | 0/3 [00:00<?, ?it/s]"
     ]
    },
    {
     "name": "stdout",
     "output_type": "stream",
     "text": [
      "                   all         25        125    0.00276      0.102     0.0124    0.00524\n"
     ]
    },
    {
     "name": "stderr",
     "output_type": "stream",
     "text": [
      "                 Class     Images  Instances      Box(P          R      mAP50  mAP50-95): 100%|██████████| 3/3 [00:00<00:00, 20.79it/s]\n"
     ]
    },
    {
     "name": "stdout",
     "output_type": "stream",
     "text": [
      "\n",
      "      Epoch    GPU_mem   box_loss   cls_loss   dfl_loss  Instances       Size\n"
     ]
    },
    {
     "name": "stderr",
     "output_type": "stream",
     "text": [
      "    111/200       3.4G      2.726      3.109      2.477         37       1024: 100%|██████████| 20/20 [00:02<00:00,  8.29it/s]\n",
      "                 Class     Images  Instances      Box(P          R      mAP50  mAP50-95): 100%|██████████| 3/3 [00:00<00:00, 12.30it/s]\n"
     ]
    },
    {
     "name": "stdout",
     "output_type": "stream",
     "text": [
      "                   all         25        125      0.401    0.00723    0.00697    0.00309\n",
      "\n",
      "      Epoch    GPU_mem   box_loss   cls_loss   dfl_loss  Instances       Size\n"
     ]
    },
    {
     "name": "stderr",
     "output_type": "stream",
     "text": [
      "    112/200      3.29G       2.72       3.09      2.423         22       1024: 100%|██████████| 20/20 [00:02<00:00,  8.95it/s]\n",
      "                 Class     Images  Instances      Box(P          R      mAP50  mAP50-95): 100%|██████████| 3/3 [00:00<00:00, 22.52it/s]\n"
     ]
    },
    {
     "name": "stdout",
     "output_type": "stream",
     "text": [
      "                   all         25        125       0.45     0.0248     0.0338      0.011\n",
      "\n",
      "      Epoch    GPU_mem   box_loss   cls_loss   dfl_loss  Instances       Size\n"
     ]
    },
    {
     "name": "stderr",
     "output_type": "stream",
     "text": [
      "    113/200      3.42G      2.721      2.982      2.404         16       1024: 100%|██████████| 20/20 [00:02<00:00,  9.08it/s]\n",
      "                 Class     Images  Instances      Box(P          R      mAP50  mAP50-95): 100%|██████████| 3/3 [00:00<00:00, 22.61it/s]\n"
     ]
    },
    {
     "name": "stdout",
     "output_type": "stream",
     "text": [
      "                   all         25        125      0.455      0.023     0.0239    0.00499\n",
      "\n",
      "      Epoch    GPU_mem   box_loss   cls_loss   dfl_loss  Instances       Size\n"
     ]
    },
    {
     "name": "stderr",
     "output_type": "stream",
     "text": [
      "    114/200      3.42G      2.711      3.043        2.4         28       1024: 100%|██████████| 20/20 [00:02<00:00,  8.47it/s]\n",
      "                 Class     Images  Instances      Box(P          R      mAP50  mAP50-95): 100%|██████████| 3/3 [00:00<00:00, 17.56it/s]\n"
     ]
    },
    {
     "name": "stdout",
     "output_type": "stream",
     "text": [
      "                   all         25        125      0.453     0.0622     0.0506     0.0157\n",
      "\n",
      "      Epoch    GPU_mem   box_loss   cls_loss   dfl_loss  Instances       Size\n"
     ]
    },
    {
     "name": "stderr",
     "output_type": "stream",
     "text": [
      "    115/200      3.32G      2.679      2.993      2.409         41       1024: 100%|██████████| 20/20 [00:02<00:00,  8.55it/s]\n",
      "                 Class     Images  Instances      Box(P          R      mAP50  mAP50-95): 100%|██████████| 3/3 [00:00<00:00, 12.19it/s]\n"
     ]
    },
    {
     "name": "stdout",
     "output_type": "stream",
     "text": [
      "                   all         25        125      0.803    0.00568    0.00544    0.00209\n",
      "\n",
      "      Epoch    GPU_mem   box_loss   cls_loss   dfl_loss  Instances       Size\n"
     ]
    },
    {
     "name": "stderr",
     "output_type": "stream",
     "text": [
      "    116/200      3.29G      2.597      3.001      2.332         45       1024: 100%|██████████| 20/20 [00:02<00:00,  8.69it/s]\n",
      "                 Class     Images  Instances      Box(P          R      mAP50  mAP50-95): 100%|██████████| 3/3 [00:00<00:00, 14.79it/s]\n"
     ]
    },
    {
     "name": "stdout",
     "output_type": "stream",
     "text": [
      "                   all         25        125      0.638    0.00568    0.00256   0.000859\n",
      "\n",
      "      Epoch    GPU_mem   box_loss   cls_loss   dfl_loss  Instances       Size\n"
     ]
    },
    {
     "name": "stderr",
     "output_type": "stream",
     "text": [
      "    117/200      3.39G      2.596       2.99      2.337         29       1024: 100%|██████████| 20/20 [00:02<00:00,  8.64it/s]\n",
      "                 Class     Images  Instances      Box(P          R      mAP50  mAP50-95): 100%|██████████| 3/3 [00:00<00:00, 15.88it/s]\n"
     ]
    },
    {
     "name": "stdout",
     "output_type": "stream",
     "text": [
      "                   all         25        125      0.595     0.0657     0.0576      0.023\n",
      "\n",
      "      Epoch    GPU_mem   box_loss   cls_loss   dfl_loss  Instances       Size\n"
     ]
    },
    {
     "name": "stderr",
     "output_type": "stream",
     "text": [
      "    118/200       3.3G      2.632      2.806      2.398         40       1024: 100%|██████████| 20/20 [00:02<00:00,  8.67it/s]\n",
      "                 Class     Images  Instances      Box(P          R      mAP50  mAP50-95): 100%|██████████| 3/3 [00:00<00:00, 24.57it/s]\n"
     ]
    },
    {
     "name": "stdout",
     "output_type": "stream",
     "text": [
      "                   all         25        125      0.698     0.0349      0.019     0.0051\n",
      "\n",
      "      Epoch    GPU_mem   box_loss   cls_loss   dfl_loss  Instances       Size\n"
     ]
    },
    {
     "name": "stderr",
     "output_type": "stream",
     "text": [
      "    119/200      3.36G      2.726      2.941      2.433         44       1024: 100%|██████████| 20/20 [00:02<00:00,  8.43it/s]\n",
      "                 Class     Images  Instances      Box(P          R      mAP50  mAP50-95): 100%|██████████| 3/3 [00:00<00:00, 16.91it/s]\n"
     ]
    },
    {
     "name": "stdout",
     "output_type": "stream",
     "text": [
      "                   all         25        125      0.559     0.0221     0.0309     0.0112\n",
      "\n",
      "      Epoch    GPU_mem   box_loss   cls_loss   dfl_loss  Instances       Size\n"
     ]
    },
    {
     "name": "stderr",
     "output_type": "stream",
     "text": [
      "    120/200      3.59G      2.623      2.983      2.393         25       1024: 100%|██████████| 20/20 [00:02<00:00,  8.80it/s]\n",
      "                 Class     Images  Instances      Box(P          R      mAP50  mAP50-95): 100%|██████████| 3/3 [00:00<00:00, 20.01it/s]\n"
     ]
    },
    {
     "name": "stdout",
     "output_type": "stream",
     "text": [
      "                   all         25        125      0.509     0.0523      0.121     0.0269\n",
      "\n",
      "      Epoch    GPU_mem   box_loss   cls_loss   dfl_loss  Instances       Size\n"
     ]
    },
    {
     "name": "stderr",
     "output_type": "stream",
     "text": [
      "    121/200      3.33G      2.677      2.923      2.452         50       1024: 100%|██████████| 20/20 [00:02<00:00,  8.65it/s]\n",
      "                 Class     Images  Instances      Box(P          R      mAP50  mAP50-95): 100%|██████████| 3/3 [00:00<00:00, 20.40it/s]\n"
     ]
    },
    {
     "name": "stdout",
     "output_type": "stream",
     "text": [
      "                   all         25        125      0.478     0.0294     0.0426     0.0145\n",
      "\n",
      "      Epoch    GPU_mem   box_loss   cls_loss   dfl_loss  Instances       Size\n"
     ]
    },
    {
     "name": "stderr",
     "output_type": "stream",
     "text": [
      "    122/200      3.35G      2.659      2.862      2.395         59       1024: 100%|██████████| 20/20 [00:02<00:00,  8.61it/s]\n",
      "                 Class     Images  Instances      Box(P          R      mAP50  mAP50-95): 100%|██████████| 3/3 [00:00<00:00, 16.07it/s]\n"
     ]
    },
    {
     "name": "stdout",
     "output_type": "stream",
     "text": [
      "                   all         25        125      0.431     0.0438     0.0396     0.0148\n",
      "\n",
      "      Epoch    GPU_mem   box_loss   cls_loss   dfl_loss  Instances       Size\n"
     ]
    },
    {
     "name": "stderr",
     "output_type": "stream",
     "text": [
      "    123/200       3.4G      2.682      3.153      2.402         26       1024: 100%|██████████| 20/20 [00:02<00:00,  7.28it/s]\n",
      "                 Class     Images  Instances      Box(P          R      mAP50  mAP50-95): 100%|██████████| 3/3 [00:00<00:00, 11.52it/s]\n"
     ]
    },
    {
     "name": "stdout",
     "output_type": "stream",
     "text": [
      "                   all         25        125      0.465     0.0702      0.181     0.0318\n",
      "\n",
      "      Epoch    GPU_mem   box_loss   cls_loss   dfl_loss  Instances       Size\n"
     ]
    },
    {
     "name": "stderr",
     "output_type": "stream",
     "text": [
      "    124/200      3.32G      2.606      2.814       2.36         45       1024: 100%|██████████| 20/20 [00:02<00:00,  7.55it/s]\n",
      "                 Class     Images  Instances      Box(P          R      mAP50  mAP50-95): 100%|██████████| 3/3 [00:00<00:00, 10.26it/s]\n"
     ]
    },
    {
     "name": "stdout",
     "output_type": "stream",
     "text": [
      "                   all         25        125      0.394     0.0403     0.0135    0.00729\n"
     ]
    },
    {
     "name": "stderr",
     "output_type": "stream",
     "text": [
      "    125/200      3.48G      2.603      3.125      2.268         45       1024:   5%|▌         | 1/20 [00:00<00:02,  7.82it/s]"
     ]
    },
    {
     "name": "stdout",
     "output_type": "stream",
     "text": [
      "\n",
      "      Epoch    GPU_mem   box_loss   cls_loss   dfl_loss  Instances       Size\n"
     ]
    },
    {
     "name": "stderr",
     "output_type": "stream",
     "text": [
      "    125/200      3.48G      2.605      2.931      2.357         55       1024: 100%|██████████| 20/20 [00:02<00:00,  7.95it/s]\n",
      "                 Class     Images  Instances      Box(P          R      mAP50  mAP50-95): 100%|██████████| 3/3 [00:00<00:00, 17.66it/s]\n"
     ]
    },
    {
     "name": "stdout",
     "output_type": "stream",
     "text": [
      "                   all         25        125      0.583     0.0495        0.1     0.0352\n",
      "\n",
      "      Epoch    GPU_mem   box_loss   cls_loss   dfl_loss  Instances       Size\n"
     ]
    },
    {
     "name": "stderr",
     "output_type": "stream",
     "text": [
      "    126/200      3.52G      2.541      2.799      2.292         25       1024: 100%|██████████| 20/20 [00:02<00:00,  7.88it/s]\n",
      "                 Class     Images  Instances      Box(P          R      mAP50  mAP50-95): 100%|██████████| 3/3 [00:00<00:00, 17.99it/s]\n"
     ]
    },
    {
     "name": "stdout",
     "output_type": "stream",
     "text": [
      "                   all         25        125      0.569     0.0511     0.0632     0.0222\n",
      "\n",
      "      Epoch    GPU_mem   box_loss   cls_loss   dfl_loss  Instances       Size\n"
     ]
    },
    {
     "name": "stderr",
     "output_type": "stream",
     "text": [
      "    127/200      3.45G      2.651      2.903      2.359         46       1024: 100%|██████████| 20/20 [00:02<00:00,  8.49it/s]\n",
      "                 Class     Images  Instances      Box(P          R      mAP50  mAP50-95): 100%|██████████| 3/3 [00:00<00:00, 22.92it/s]\n"
     ]
    },
    {
     "name": "stdout",
     "output_type": "stream",
     "text": [
      "                   all         25        125       0.46      0.027     0.0323     0.0138\n",
      "\n",
      "      Epoch    GPU_mem   box_loss   cls_loss   dfl_loss  Instances       Size\n"
     ]
    },
    {
     "name": "stderr",
     "output_type": "stream",
     "text": [
      "    128/200      3.29G      2.664      3.048      2.435         76       1024: 100%|██████████| 20/20 [00:02<00:00,  8.48it/s]\n",
      "                 Class     Images  Instances      Box(P          R      mAP50  mAP50-95): 100%|██████████| 3/3 [00:00<00:00, 14.61it/s]\n"
     ]
    },
    {
     "name": "stdout",
     "output_type": "stream",
     "text": [
      "                   all         25        125      0.578      0.032     0.0558     0.0222\n"
     ]
    },
    {
     "name": "stderr",
     "output_type": "stream",
     "text": [
      "    129/200      3.55G       2.55      2.805      2.315         47       1024:   5%|▌         | 1/20 [00:00<00:02,  6.48it/s]"
     ]
    },
    {
     "name": "stdout",
     "output_type": "stream",
     "text": [
      "\n",
      "      Epoch    GPU_mem   box_loss   cls_loss   dfl_loss  Instances       Size\n"
     ]
    },
    {
     "name": "stderr",
     "output_type": "stream",
     "text": [
      "    129/200      3.56G      2.674      3.013      2.369         60       1024: 100%|██████████| 20/20 [00:02<00:00,  8.23it/s]\n",
      "                 Class     Images  Instances      Box(P          R      mAP50  mAP50-95): 100%|██████████| 3/3 [00:00<00:00, 17.86it/s]\n"
     ]
    },
    {
     "name": "stdout",
     "output_type": "stream",
     "text": [
      "                   all         25        125      0.548     0.0313     0.0199    0.00797\n"
     ]
    },
    {
     "name": "stderr",
     "output_type": "stream",
     "text": [
      "    130/200      3.29G      3.102      3.306      2.379         21       1024:   5%|▌         | 1/20 [00:00<00:03,  5.79it/s]"
     ]
    },
    {
     "name": "stdout",
     "output_type": "stream",
     "text": [
      "\n",
      "      Epoch    GPU_mem   box_loss   cls_loss   dfl_loss  Instances       Size\n"
     ]
    },
    {
     "name": "stderr",
     "output_type": "stream",
     "text": [
      "    130/200      3.29G      2.621      2.945      2.354         32       1024: 100%|██████████| 20/20 [00:02<00:00,  7.79it/s]\n",
      "                 Class     Images  Instances      Box(P          R      mAP50  mAP50-95): 100%|██████████| 3/3 [00:00<00:00, 13.91it/s]\n"
     ]
    },
    {
     "name": "stdout",
     "output_type": "stream",
     "text": [
      "                   all         25        125      0.561     0.0537     0.0519     0.0213\n",
      "\n",
      "      Epoch    GPU_mem   box_loss   cls_loss   dfl_loss  Instances       Size\n"
     ]
    },
    {
     "name": "stderr",
     "output_type": "stream",
     "text": [
      "    131/200       3.3G      2.498      2.845      2.311         67       1024: 100%|██████████| 20/20 [00:02<00:00,  8.47it/s]\n",
      "                 Class     Images  Instances      Box(P          R      mAP50  mAP50-95): 100%|██████████| 3/3 [00:00<00:00, 14.24it/s]\n"
     ]
    },
    {
     "name": "stdout",
     "output_type": "stream",
     "text": [
      "                   all         25        125      0.697     0.0263     0.0343     0.0144\n"
     ]
    },
    {
     "name": "stderr",
     "output_type": "stream",
     "text": [
      "    132/200      3.53G        2.8      3.157       2.58         50       1024:   5%|▌         | 1/20 [00:00<00:02,  7.95it/s]"
     ]
    },
    {
     "name": "stdout",
     "output_type": "stream",
     "text": [
      "\n",
      "      Epoch    GPU_mem   box_loss   cls_loss   dfl_loss  Instances       Size\n"
     ]
    },
    {
     "name": "stderr",
     "output_type": "stream",
     "text": [
      "    132/200      3.55G      2.553      2.896      2.379         38       1024:  85%|████████▌ | 17/20 [00:02<00:00,  8.45it/s]"
     ]
    }
   ],
   "source": [
    "model = YOLO('yolov8s.yaml')\n",
    "results = model.train(data = path, epochs = 200, imgsz = 1024, batch = 10, name = 'checkpoint', device = [0,1], patience = 25, save = True, save_period = 10, exist_ok = True, resume = True, iou = 0.5, optimizer = 'AdamW')"
   ]
  },
  {
   "cell_type": "code",
   "execution_count": 5,
   "id": "e4e6f594",
   "metadata": {},
   "outputs": [
    {
     "name": "stdout",
     "output_type": "stream",
     "text": [
      "YOLO(\n",
      "  (model): DetectionModel(\n",
      "    (model): Sequential(\n",
      "      (0): Conv(\n",
      "        (conv): Conv2d(3, 32, kernel_size=(3, 3), stride=(2, 2), padding=(1, 1), bias=False)\n",
      "        (bn): BatchNorm2d(32, eps=0.001, momentum=0.03, affine=True, track_running_stats=True)\n",
      "        (act): SiLU(inplace=True)\n",
      "      )\n",
      "      (1): Conv(\n",
      "        (conv): Conv2d(32, 64, kernel_size=(3, 3), stride=(2, 2), padding=(1, 1), bias=False)\n",
      "        (bn): BatchNorm2d(64, eps=0.001, momentum=0.03, affine=True, track_running_stats=True)\n",
      "        (act): SiLU(inplace=True)\n",
      "      )\n",
      "      (2): C2f(\n",
      "        (cv1): Conv(\n",
      "          (conv): Conv2d(64, 64, kernel_size=(1, 1), stride=(1, 1), bias=False)\n",
      "          (bn): BatchNorm2d(64, eps=0.001, momentum=0.03, affine=True, track_running_stats=True)\n",
      "          (act): SiLU(inplace=True)\n",
      "        )\n",
      "        (cv2): Conv(\n",
      "          (conv): Conv2d(96, 64, kernel_size=(1, 1), stride=(1, 1), bias=False)\n",
      "          (bn): BatchNorm2d(64, eps=0.001, momentum=0.03, affine=True, track_running_stats=True)\n",
      "          (act): SiLU(inplace=True)\n",
      "        )\n",
      "        (m): ModuleList(\n",
      "          (0): Bottleneck(\n",
      "            (cv1): Conv(\n",
      "              (conv): Conv2d(32, 32, kernel_size=(3, 3), stride=(1, 1), padding=(1, 1), bias=False)\n",
      "              (bn): BatchNorm2d(32, eps=0.001, momentum=0.03, affine=True, track_running_stats=True)\n",
      "              (act): SiLU(inplace=True)\n",
      "            )\n",
      "            (cv2): Conv(\n",
      "              (conv): Conv2d(32, 32, kernel_size=(3, 3), stride=(1, 1), padding=(1, 1), bias=False)\n",
      "              (bn): BatchNorm2d(32, eps=0.001, momentum=0.03, affine=True, track_running_stats=True)\n",
      "              (act): SiLU(inplace=True)\n",
      "            )\n",
      "          )\n",
      "        )\n",
      "      )\n",
      "      (3): Conv(\n",
      "        (conv): Conv2d(64, 128, kernel_size=(3, 3), stride=(2, 2), padding=(1, 1), bias=False)\n",
      "        (bn): BatchNorm2d(128, eps=0.001, momentum=0.03, affine=True, track_running_stats=True)\n",
      "        (act): SiLU(inplace=True)\n",
      "      )\n",
      "      (4): C2f(\n",
      "        (cv1): Conv(\n",
      "          (conv): Conv2d(128, 128, kernel_size=(1, 1), stride=(1, 1), bias=False)\n",
      "          (bn): BatchNorm2d(128, eps=0.001, momentum=0.03, affine=True, track_running_stats=True)\n",
      "          (act): SiLU(inplace=True)\n",
      "        )\n",
      "        (cv2): Conv(\n",
      "          (conv): Conv2d(256, 128, kernel_size=(1, 1), stride=(1, 1), bias=False)\n",
      "          (bn): BatchNorm2d(128, eps=0.001, momentum=0.03, affine=True, track_running_stats=True)\n",
      "          (act): SiLU(inplace=True)\n",
      "        )\n",
      "        (m): ModuleList(\n",
      "          (0-1): 2 x Bottleneck(\n",
      "            (cv1): Conv(\n",
      "              (conv): Conv2d(64, 64, kernel_size=(3, 3), stride=(1, 1), padding=(1, 1), bias=False)\n",
      "              (bn): BatchNorm2d(64, eps=0.001, momentum=0.03, affine=True, track_running_stats=True)\n",
      "              (act): SiLU(inplace=True)\n",
      "            )\n",
      "            (cv2): Conv(\n",
      "              (conv): Conv2d(64, 64, kernel_size=(3, 3), stride=(1, 1), padding=(1, 1), bias=False)\n",
      "              (bn): BatchNorm2d(64, eps=0.001, momentum=0.03, affine=True, track_running_stats=True)\n",
      "              (act): SiLU(inplace=True)\n",
      "            )\n",
      "          )\n",
      "        )\n",
      "      )\n",
      "      (5): Conv(\n",
      "        (conv): Conv2d(128, 256, kernel_size=(3, 3), stride=(2, 2), padding=(1, 1), bias=False)\n",
      "        (bn): BatchNorm2d(256, eps=0.001, momentum=0.03, affine=True, track_running_stats=True)\n",
      "        (act): SiLU(inplace=True)\n",
      "      )\n",
      "      (6): C2f(\n",
      "        (cv1): Conv(\n",
      "          (conv): Conv2d(256, 256, kernel_size=(1, 1), stride=(1, 1), bias=False)\n",
      "          (bn): BatchNorm2d(256, eps=0.001, momentum=0.03, affine=True, track_running_stats=True)\n",
      "          (act): SiLU(inplace=True)\n",
      "        )\n",
      "        (cv2): Conv(\n",
      "          (conv): Conv2d(512, 256, kernel_size=(1, 1), stride=(1, 1), bias=False)\n",
      "          (bn): BatchNorm2d(256, eps=0.001, momentum=0.03, affine=True, track_running_stats=True)\n",
      "          (act): SiLU(inplace=True)\n",
      "        )\n",
      "        (m): ModuleList(\n",
      "          (0-1): 2 x Bottleneck(\n",
      "            (cv1): Conv(\n",
      "              (conv): Conv2d(128, 128, kernel_size=(3, 3), stride=(1, 1), padding=(1, 1), bias=False)\n",
      "              (bn): BatchNorm2d(128, eps=0.001, momentum=0.03, affine=True, track_running_stats=True)\n",
      "              (act): SiLU(inplace=True)\n",
      "            )\n",
      "            (cv2): Conv(\n",
      "              (conv): Conv2d(128, 128, kernel_size=(3, 3), stride=(1, 1), padding=(1, 1), bias=False)\n",
      "              (bn): BatchNorm2d(128, eps=0.001, momentum=0.03, affine=True, track_running_stats=True)\n",
      "              (act): SiLU(inplace=True)\n",
      "            )\n",
      "          )\n",
      "        )\n",
      "      )\n",
      "      (7): Conv(\n",
      "        (conv): Conv2d(256, 512, kernel_size=(3, 3), stride=(2, 2), padding=(1, 1), bias=False)\n",
      "        (bn): BatchNorm2d(512, eps=0.001, momentum=0.03, affine=True, track_running_stats=True)\n",
      "        (act): SiLU(inplace=True)\n",
      "      )\n",
      "      (8): C2f(\n",
      "        (cv1): Conv(\n",
      "          (conv): Conv2d(512, 512, kernel_size=(1, 1), stride=(1, 1), bias=False)\n",
      "          (bn): BatchNorm2d(512, eps=0.001, momentum=0.03, affine=True, track_running_stats=True)\n",
      "          (act): SiLU(inplace=True)\n",
      "        )\n",
      "        (cv2): Conv(\n",
      "          (conv): Conv2d(768, 512, kernel_size=(1, 1), stride=(1, 1), bias=False)\n",
      "          (bn): BatchNorm2d(512, eps=0.001, momentum=0.03, affine=True, track_running_stats=True)\n",
      "          (act): SiLU(inplace=True)\n",
      "        )\n",
      "        (m): ModuleList(\n",
      "          (0): Bottleneck(\n",
      "            (cv1): Conv(\n",
      "              (conv): Conv2d(256, 256, kernel_size=(3, 3), stride=(1, 1), padding=(1, 1), bias=False)\n",
      "              (bn): BatchNorm2d(256, eps=0.001, momentum=0.03, affine=True, track_running_stats=True)\n",
      "              (act): SiLU(inplace=True)\n",
      "            )\n",
      "            (cv2): Conv(\n",
      "              (conv): Conv2d(256, 256, kernel_size=(3, 3), stride=(1, 1), padding=(1, 1), bias=False)\n",
      "              (bn): BatchNorm2d(256, eps=0.001, momentum=0.03, affine=True, track_running_stats=True)\n",
      "              (act): SiLU(inplace=True)\n",
      "            )\n",
      "          )\n",
      "        )\n",
      "      )\n",
      "      (9): SPPF(\n",
      "        (cv1): Conv(\n",
      "          (conv): Conv2d(512, 256, kernel_size=(1, 1), stride=(1, 1), bias=False)\n",
      "          (bn): BatchNorm2d(256, eps=0.001, momentum=0.03, affine=True, track_running_stats=True)\n",
      "          (act): SiLU(inplace=True)\n",
      "        )\n",
      "        (cv2): Conv(\n",
      "          (conv): Conv2d(1024, 512, kernel_size=(1, 1), stride=(1, 1), bias=False)\n",
      "          (bn): BatchNorm2d(512, eps=0.001, momentum=0.03, affine=True, track_running_stats=True)\n",
      "          (act): SiLU(inplace=True)\n",
      "        )\n",
      "        (m): MaxPool2d(kernel_size=5, stride=1, padding=2, dilation=1, ceil_mode=False)\n",
      "      )\n",
      "      (10): Upsample(scale_factor=2.0, mode='nearest')\n",
      "      (11): Concat()\n",
      "      (12): C2f(\n",
      "        (cv1): Conv(\n",
      "          (conv): Conv2d(768, 256, kernel_size=(1, 1), stride=(1, 1), bias=False)\n",
      "          (bn): BatchNorm2d(256, eps=0.001, momentum=0.03, affine=True, track_running_stats=True)\n",
      "          (act): SiLU(inplace=True)\n",
      "        )\n",
      "        (cv2): Conv(\n",
      "          (conv): Conv2d(384, 256, kernel_size=(1, 1), stride=(1, 1), bias=False)\n",
      "          (bn): BatchNorm2d(256, eps=0.001, momentum=0.03, affine=True, track_running_stats=True)\n",
      "          (act): SiLU(inplace=True)\n",
      "        )\n",
      "        (m): ModuleList(\n",
      "          (0): Bottleneck(\n",
      "            (cv1): Conv(\n",
      "              (conv): Conv2d(128, 128, kernel_size=(3, 3), stride=(1, 1), padding=(1, 1), bias=False)\n",
      "              (bn): BatchNorm2d(128, eps=0.001, momentum=0.03, affine=True, track_running_stats=True)\n",
      "              (act): SiLU(inplace=True)\n",
      "            )\n",
      "            (cv2): Conv(\n",
      "              (conv): Conv2d(128, 128, kernel_size=(3, 3), stride=(1, 1), padding=(1, 1), bias=False)\n",
      "              (bn): BatchNorm2d(128, eps=0.001, momentum=0.03, affine=True, track_running_stats=True)\n",
      "              (act): SiLU(inplace=True)\n",
      "            )\n",
      "          )\n",
      "        )\n",
      "      )\n",
      "      (13): Upsample(scale_factor=2.0, mode='nearest')\n",
      "      (14): Concat()\n",
      "      (15): C2f(\n",
      "        (cv1): Conv(\n",
      "          (conv): Conv2d(384, 128, kernel_size=(1, 1), stride=(1, 1), bias=False)\n",
      "          (bn): BatchNorm2d(128, eps=0.001, momentum=0.03, affine=True, track_running_stats=True)\n",
      "          (act): SiLU(inplace=True)\n",
      "        )\n",
      "        (cv2): Conv(\n",
      "          (conv): Conv2d(192, 128, kernel_size=(1, 1), stride=(1, 1), bias=False)\n",
      "          (bn): BatchNorm2d(128, eps=0.001, momentum=0.03, affine=True, track_running_stats=True)\n",
      "          (act): SiLU(inplace=True)\n",
      "        )\n",
      "        (m): ModuleList(\n",
      "          (0): Bottleneck(\n",
      "            (cv1): Conv(\n",
      "              (conv): Conv2d(64, 64, kernel_size=(3, 3), stride=(1, 1), padding=(1, 1), bias=False)\n",
      "              (bn): BatchNorm2d(64, eps=0.001, momentum=0.03, affine=True, track_running_stats=True)\n",
      "              (act): SiLU(inplace=True)\n",
      "            )\n",
      "            (cv2): Conv(\n",
      "              (conv): Conv2d(64, 64, kernel_size=(3, 3), stride=(1, 1), padding=(1, 1), bias=False)\n",
      "              (bn): BatchNorm2d(64, eps=0.001, momentum=0.03, affine=True, track_running_stats=True)\n",
      "              (act): SiLU(inplace=True)\n",
      "            )\n",
      "          )\n",
      "        )\n",
      "      )\n",
      "      (16): Conv(\n",
      "        (conv): Conv2d(128, 128, kernel_size=(3, 3), stride=(2, 2), padding=(1, 1), bias=False)\n",
      "        (bn): BatchNorm2d(128, eps=0.001, momentum=0.03, affine=True, track_running_stats=True)\n",
      "        (act): SiLU(inplace=True)\n",
      "      )\n",
      "      (17): Concat()\n",
      "      (18): C2f(\n",
      "        (cv1): Conv(\n",
      "          (conv): Conv2d(384, 256, kernel_size=(1, 1), stride=(1, 1), bias=False)\n",
      "          (bn): BatchNorm2d(256, eps=0.001, momentum=0.03, affine=True, track_running_stats=True)\n",
      "          (act): SiLU(inplace=True)\n",
      "        )\n",
      "        (cv2): Conv(\n",
      "          (conv): Conv2d(384, 256, kernel_size=(1, 1), stride=(1, 1), bias=False)\n",
      "          (bn): BatchNorm2d(256, eps=0.001, momentum=0.03, affine=True, track_running_stats=True)\n",
      "          (act): SiLU(inplace=True)\n",
      "        )\n",
      "        (m): ModuleList(\n",
      "          (0): Bottleneck(\n",
      "            (cv1): Conv(\n",
      "              (conv): Conv2d(128, 128, kernel_size=(3, 3), stride=(1, 1), padding=(1, 1), bias=False)\n",
      "              (bn): BatchNorm2d(128, eps=0.001, momentum=0.03, affine=True, track_running_stats=True)\n",
      "              (act): SiLU(inplace=True)\n",
      "            )\n",
      "            (cv2): Conv(\n",
      "              (conv): Conv2d(128, 128, kernel_size=(3, 3), stride=(1, 1), padding=(1, 1), bias=False)\n",
      "              (bn): BatchNorm2d(128, eps=0.001, momentum=0.03, affine=True, track_running_stats=True)\n",
      "              (act): SiLU(inplace=True)\n",
      "            )\n",
      "          )\n",
      "        )\n",
      "      )\n",
      "      (19): Conv(\n",
      "        (conv): Conv2d(256, 256, kernel_size=(3, 3), stride=(2, 2), padding=(1, 1), bias=False)\n",
      "        (bn): BatchNorm2d(256, eps=0.001, momentum=0.03, affine=True, track_running_stats=True)\n",
      "        (act): SiLU(inplace=True)\n",
      "      )\n",
      "      (20): Concat()\n",
      "      (21): C2f(\n",
      "        (cv1): Conv(\n",
      "          (conv): Conv2d(768, 512, kernel_size=(1, 1), stride=(1, 1), bias=False)\n",
      "          (bn): BatchNorm2d(512, eps=0.001, momentum=0.03, affine=True, track_running_stats=True)\n",
      "          (act): SiLU(inplace=True)\n",
      "        )\n",
      "        (cv2): Conv(\n",
      "          (conv): Conv2d(768, 512, kernel_size=(1, 1), stride=(1, 1), bias=False)\n",
      "          (bn): BatchNorm2d(512, eps=0.001, momentum=0.03, affine=True, track_running_stats=True)\n",
      "          (act): SiLU(inplace=True)\n",
      "        )\n",
      "        (m): ModuleList(\n",
      "          (0): Bottleneck(\n",
      "            (cv1): Conv(\n",
      "              (conv): Conv2d(256, 256, kernel_size=(3, 3), stride=(1, 1), padding=(1, 1), bias=False)\n",
      "              (bn): BatchNorm2d(256, eps=0.001, momentum=0.03, affine=True, track_running_stats=True)\n",
      "              (act): SiLU(inplace=True)\n",
      "            )\n",
      "            (cv2): Conv(\n",
      "              (conv): Conv2d(256, 256, kernel_size=(3, 3), stride=(1, 1), padding=(1, 1), bias=False)\n",
      "              (bn): BatchNorm2d(256, eps=0.001, momentum=0.03, affine=True, track_running_stats=True)\n",
      "              (act): SiLU(inplace=True)\n",
      "            )\n",
      "          )\n",
      "        )\n",
      "      )\n",
      "      (22): Detect(\n",
      "        (cv2): ModuleList(\n",
      "          (0): Sequential(\n",
      "            (0): Conv(\n",
      "              (conv): Conv2d(128, 64, kernel_size=(3, 3), stride=(1, 1), padding=(1, 1), bias=False)\n",
      "              (bn): BatchNorm2d(64, eps=0.001, momentum=0.03, affine=True, track_running_stats=True)\n",
      "              (act): SiLU(inplace=True)\n",
      "            )\n",
      "            (1): Conv(\n",
      "              (conv): Conv2d(64, 64, kernel_size=(3, 3), stride=(1, 1), padding=(1, 1), bias=False)\n",
      "              (bn): BatchNorm2d(64, eps=0.001, momentum=0.03, affine=True, track_running_stats=True)\n",
      "              (act): SiLU(inplace=True)\n",
      "            )\n",
      "            (2): Conv2d(64, 64, kernel_size=(1, 1), stride=(1, 1))\n",
      "          )\n",
      "          (1): Sequential(\n",
      "            (0): Conv(\n",
      "              (conv): Conv2d(256, 64, kernel_size=(3, 3), stride=(1, 1), padding=(1, 1), bias=False)\n",
      "              (bn): BatchNorm2d(64, eps=0.001, momentum=0.03, affine=True, track_running_stats=True)\n",
      "              (act): SiLU(inplace=True)\n",
      "            )\n",
      "            (1): Conv(\n",
      "              (conv): Conv2d(64, 64, kernel_size=(3, 3), stride=(1, 1), padding=(1, 1), bias=False)\n",
      "              (bn): BatchNorm2d(64, eps=0.001, momentum=0.03, affine=True, track_running_stats=True)\n",
      "              (act): SiLU(inplace=True)\n",
      "            )\n",
      "            (2): Conv2d(64, 64, kernel_size=(1, 1), stride=(1, 1))\n",
      "          )\n",
      "          (2): Sequential(\n",
      "            (0): Conv(\n",
      "              (conv): Conv2d(512, 64, kernel_size=(3, 3), stride=(1, 1), padding=(1, 1), bias=False)\n",
      "              (bn): BatchNorm2d(64, eps=0.001, momentum=0.03, affine=True, track_running_stats=True)\n",
      "              (act): SiLU(inplace=True)\n",
      "            )\n",
      "            (1): Conv(\n",
      "              (conv): Conv2d(64, 64, kernel_size=(3, 3), stride=(1, 1), padding=(1, 1), bias=False)\n",
      "              (bn): BatchNorm2d(64, eps=0.001, momentum=0.03, affine=True, track_running_stats=True)\n",
      "              (act): SiLU(inplace=True)\n",
      "            )\n",
      "            (2): Conv2d(64, 64, kernel_size=(1, 1), stride=(1, 1))\n",
      "          )\n",
      "        )\n",
      "        (cv3): ModuleList(\n",
      "          (0): Sequential(\n",
      "            (0): Conv(\n",
      "              (conv): Conv2d(128, 128, kernel_size=(3, 3), stride=(1, 1), padding=(1, 1), bias=False)\n",
      "              (bn): BatchNorm2d(128, eps=0.001, momentum=0.03, affine=True, track_running_stats=True)\n",
      "              (act): SiLU(inplace=True)\n",
      "            )\n",
      "            (1): Conv(\n",
      "              (conv): Conv2d(128, 128, kernel_size=(3, 3), stride=(1, 1), padding=(1, 1), bias=False)\n",
      "              (bn): BatchNorm2d(128, eps=0.001, momentum=0.03, affine=True, track_running_stats=True)\n",
      "              (act): SiLU(inplace=True)\n",
      "            )\n",
      "            (2): Conv2d(128, 11, kernel_size=(1, 1), stride=(1, 1))\n",
      "          )\n",
      "          (1): Sequential(\n",
      "            (0): Conv(\n",
      "              (conv): Conv2d(256, 128, kernel_size=(3, 3), stride=(1, 1), padding=(1, 1), bias=False)\n",
      "              (bn): BatchNorm2d(128, eps=0.001, momentum=0.03, affine=True, track_running_stats=True)\n",
      "              (act): SiLU(inplace=True)\n",
      "            )\n",
      "            (1): Conv(\n",
      "              (conv): Conv2d(128, 128, kernel_size=(3, 3), stride=(1, 1), padding=(1, 1), bias=False)\n",
      "              (bn): BatchNorm2d(128, eps=0.001, momentum=0.03, affine=True, track_running_stats=True)\n",
      "              (act): SiLU(inplace=True)\n",
      "            )\n",
      "            (2): Conv2d(128, 11, kernel_size=(1, 1), stride=(1, 1))\n",
      "          )\n",
      "          (2): Sequential(\n",
      "            (0): Conv(\n",
      "              (conv): Conv2d(512, 128, kernel_size=(3, 3), stride=(1, 1), padding=(1, 1), bias=False)\n",
      "              (bn): BatchNorm2d(128, eps=0.001, momentum=0.03, affine=True, track_running_stats=True)\n",
      "              (act): SiLU(inplace=True)\n",
      "            )\n",
      "            (1): Conv(\n",
      "              (conv): Conv2d(128, 128, kernel_size=(3, 3), stride=(1, 1), padding=(1, 1), bias=False)\n",
      "              (bn): BatchNorm2d(128, eps=0.001, momentum=0.03, affine=True, track_running_stats=True)\n",
      "              (act): SiLU(inplace=True)\n",
      "            )\n",
      "            (2): Conv2d(128, 11, kernel_size=(1, 1), stride=(1, 1))\n",
      "          )\n",
      "        )\n",
      "        (dfl): DFL(\n",
      "          (conv): Conv2d(16, 1, kernel_size=(1, 1), stride=(1, 1), bias=False)\n",
      "        )\n",
      "      )\n",
      "    )\n",
      "  )\n",
      ")\n"
     ]
    },
    {
     "name": "stderr",
     "output_type": "stream",
     "text": [
      "    133/200      3.36G      2.374      2.642      2.215         37       1024:  65%|██████▌   | 13/20 [00:01<00:00,  8.40it/s]"
     ]
    },
    {
     "name": "stderr",
     "output_type": "stream",
     "text": [
      "    133/200      3.36G      2.427      2.723      2.272         42       1024: 100%|██████████| 20/20 [00:02<00:00,  8.26it/s]\n",
      "                 Class     Images  Instances      Box(P          R      mAP50  mAP50-95): 100%|██████████| 3/3 [00:00<00:00, 17.03it/s]\n"
     ]
    },
    {
     "name": "stdout",
     "output_type": "stream",
     "text": [
      "                   all         25        125      0.592     0.0385     0.0487     0.0202\n",
      "\n",
      "      Epoch    GPU_mem   box_loss   cls_loss   dfl_loss  Instances       Size\n"
     ]
    },
    {
     "name": "stderr",
     "output_type": "stream",
     "text": [
      "    134/200      3.29G      2.555      2.746      2.264         44       1024: 100%|██████████| 20/20 [00:02<00:00,  7.51it/s]\n",
      "                 Class     Images  Instances      Box(P          R      mAP50  mAP50-95): 100%|██████████| 3/3 [00:00<00:00, 24.41it/s]\n"
     ]
    },
    {
     "name": "stdout",
     "output_type": "stream",
     "text": [
      "                   all         25        125      0.401     0.0428     0.0233    0.00828\n",
      "\n",
      "      Epoch    GPU_mem   box_loss   cls_loss   dfl_loss  Instances       Size\n"
     ]
    },
    {
     "name": "stderr",
     "output_type": "stream",
     "text": [
      "    135/200      3.52G      2.529      2.821      2.309         44       1024: 100%|██████████| 20/20 [00:02<00:00,  8.73it/s]\n",
      "                 Class     Images  Instances      Box(P          R      mAP50  mAP50-95): 100%|██████████| 3/3 [00:00<00:00, 18.74it/s]\n"
     ]
    },
    {
     "name": "stdout",
     "output_type": "stream",
     "text": [
      "                   all         25        125      0.496     0.0438      0.063     0.0242\n",
      "\n",
      "      Epoch    GPU_mem   box_loss   cls_loss   dfl_loss  Instances       Size\n"
     ]
    },
    {
     "name": "stderr",
     "output_type": "stream",
     "text": [
      "    136/200       3.3G        2.5      2.832      2.304         33       1024: 100%|██████████| 20/20 [00:02<00:00,  8.32it/s]\n",
      "                 Class     Images  Instances      Box(P          R      mAP50  mAP50-95): 100%|██████████| 3/3 [00:00<00:00, 13.57it/s]\n"
     ]
    },
    {
     "name": "stdout",
     "output_type": "stream",
     "text": [
      "                   all         25        125      0.418     0.0201     0.0229    0.00733\n",
      "\n",
      "      Epoch    GPU_mem   box_loss   cls_loss   dfl_loss  Instances       Size\n"
     ]
    },
    {
     "name": "stderr",
     "output_type": "stream",
     "text": [
      "    137/200      3.41G      2.506      2.705      2.275         64       1024: 100%|██████████| 20/20 [00:02<00:00,  7.46it/s]\n",
      "                 Class     Images  Instances      Box(P          R      mAP50  mAP50-95): 100%|██████████| 3/3 [00:00<00:00, 17.00it/s]\n"
     ]
    },
    {
     "name": "stdout",
     "output_type": "stream",
     "text": [
      "                   all         25        125      0.395     0.0248     0.0129    0.00531\n",
      "\n",
      "      Epoch    GPU_mem   box_loss   cls_loss   dfl_loss  Instances       Size\n"
     ]
    },
    {
     "name": "stderr",
     "output_type": "stream",
     "text": [
      "    138/200       3.4G      2.593       2.96      2.331         64       1024: 100%|██████████| 20/20 [00:02<00:00,  8.21it/s]\n",
      "                 Class     Images  Instances      Box(P          R      mAP50  mAP50-95): 100%|██████████| 3/3 [00:00<00:00, 15.52it/s]\n"
     ]
    },
    {
     "name": "stdout",
     "output_type": "stream",
     "text": [
      "                   all         25        125      0.562     0.0697      0.073     0.0234\n",
      "\n",
      "      Epoch    GPU_mem   box_loss   cls_loss   dfl_loss  Instances       Size\n"
     ]
    },
    {
     "name": "stderr",
     "output_type": "stream",
     "text": [
      "    139/200      3.31G      2.593       2.97      2.281         36       1024: 100%|██████████| 20/20 [00:02<00:00,  8.46it/s]\n",
      "                 Class     Images  Instances      Box(P          R      mAP50  mAP50-95): 100%|██████████| 3/3 [00:00<00:00, 10.95it/s]\n"
     ]
    },
    {
     "name": "stdout",
     "output_type": "stream",
     "text": [
      "                   all         25        125      0.414     0.0248     0.0164    0.00776\n",
      "\n",
      "      Epoch    GPU_mem   box_loss   cls_loss   dfl_loss  Instances       Size\n"
     ]
    },
    {
     "name": "stderr",
     "output_type": "stream",
     "text": [
      "    140/200      3.42G      2.519      2.789      2.275         29       1024: 100%|██████████| 20/20 [00:02<00:00,  8.21it/s]\n",
      "                 Class     Images  Instances      Box(P          R      mAP50  mAP50-95): 100%|██████████| 3/3 [00:00<00:00, 14.18it/s]\n"
     ]
    },
    {
     "name": "stdout",
     "output_type": "stream",
     "text": [
      "                   all         25        125      0.475     0.0688      0.082     0.0331\n",
      "\n",
      "      Epoch    GPU_mem   box_loss   cls_loss   dfl_loss  Instances       Size\n"
     ]
    },
    {
     "name": "stderr",
     "output_type": "stream",
     "text": [
      "    141/200      3.53G      2.463      2.651      2.256         35       1024: 100%|██████████| 20/20 [00:02<00:00,  7.93it/s]\n",
      "                 Class     Images  Instances      Box(P          R      mAP50  mAP50-95): 100%|██████████| 3/3 [00:00<00:00, 17.57it/s]\n"
     ]
    },
    {
     "name": "stdout",
     "output_type": "stream",
     "text": [
      "                   all         25        125      0.413     0.0294     0.0173    0.00626\n",
      "\n",
      "      Epoch    GPU_mem   box_loss   cls_loss   dfl_loss  Instances       Size\n"
     ]
    },
    {
     "name": "stderr",
     "output_type": "stream",
     "text": [
      "    142/200      3.29G      2.569      2.758      2.268         52       1024: 100%|██████████| 20/20 [00:02<00:00,  8.25it/s]\n",
      "                 Class     Images  Instances      Box(P          R      mAP50  mAP50-95): 100%|██████████| 3/3 [00:00<00:00, 15.71it/s]\n"
     ]
    },
    {
     "name": "stdout",
     "output_type": "stream",
     "text": [
      "                   all         25        125      0.587     0.0743     0.0991     0.0367\n",
      "\n",
      "      Epoch    GPU_mem   box_loss   cls_loss   dfl_loss  Instances       Size\n"
     ]
    },
    {
     "name": "stderr",
     "output_type": "stream",
     "text": [
      "    143/200      3.36G      2.553      2.763      2.302         59       1024: 100%|██████████| 20/20 [00:02<00:00,  8.68it/s]\n",
      "                 Class     Images  Instances      Box(P          R      mAP50  mAP50-95): 100%|██████████| 3/3 [00:00<00:00, 15.99it/s]\n"
     ]
    },
    {
     "name": "stdout",
     "output_type": "stream",
     "text": [
      "                   all         25        125      0.404      0.016     0.0112     0.0044\n",
      "\n",
      "      Epoch    GPU_mem   box_loss   cls_loss   dfl_loss  Instances       Size\n"
     ]
    },
    {
     "name": "stderr",
     "output_type": "stream",
     "text": [
      "    144/200      3.46G       2.51      2.832      2.297         46       1024: 100%|██████████| 20/20 [00:02<00:00,  8.06it/s]\n",
      "                 Class     Images  Instances      Box(P          R      mAP50  mAP50-95): 100%|██████████| 3/3 [00:00<00:00, 17.82it/s]\n"
     ]
    },
    {
     "name": "stdout",
     "output_type": "stream",
     "text": [
      "                   all         25        125      0.562     0.0263     0.0285     0.0132\n",
      "\n",
      "      Epoch    GPU_mem   box_loss   cls_loss   dfl_loss  Instances       Size\n"
     ]
    },
    {
     "name": "stderr",
     "output_type": "stream",
     "text": [
      "    145/200      3.46G      2.483      2.801      2.278         40       1024: 100%|██████████| 20/20 [00:02<00:00,  7.93it/s]\n",
      "                 Class     Images  Instances      Box(P          R      mAP50  mAP50-95): 100%|██████████| 3/3 [00:00<00:00, 24.56it/s]\n"
     ]
    },
    {
     "name": "stdout",
     "output_type": "stream",
     "text": [
      "                   all         25        125      0.561     0.0278     0.0307     0.0146\n",
      "\n",
      "      Epoch    GPU_mem   box_loss   cls_loss   dfl_loss  Instances       Size\n"
     ]
    },
    {
     "name": "stderr",
     "output_type": "stream",
     "text": [
      "    146/200      3.44G      2.588      2.857      2.314         59       1024: 100%|██████████| 20/20 [00:02<00:00,  8.39it/s]\n",
      "                 Class     Images  Instances      Box(P          R      mAP50  mAP50-95): 100%|██████████| 3/3 [00:00<00:00,  9.91it/s]\n"
     ]
    },
    {
     "name": "stdout",
     "output_type": "stream",
     "text": [
      "                   all         25        125      0.538     0.0377     0.0195    0.00846\n",
      "\n",
      "      Epoch    GPU_mem   box_loss   cls_loss   dfl_loss  Instances       Size\n"
     ]
    },
    {
     "name": "stderr",
     "output_type": "stream",
     "text": [
      "    147/200      3.44G       2.53      2.736      2.233         62       1024: 100%|██████████| 20/20 [00:02<00:00,  8.05it/s]\n",
      "                 Class     Images  Instances      Box(P          R      mAP50  mAP50-95): 100%|██████████| 3/3 [00:00<00:00, 22.32it/s]\n"
     ]
    },
    {
     "name": "stdout",
     "output_type": "stream",
     "text": [
      "                   all         25        125       0.55      0.103      0.106     0.0378\n"
     ]
    },
    {
     "name": "stderr",
     "output_type": "stream",
     "text": [
      "    148/200      3.33G      2.483      2.727      2.211         59       1024:   5%|▌         | 1/20 [00:00<00:02,  7.59it/s]"
     ]
    },
    {
     "name": "stdout",
     "output_type": "stream",
     "text": [
      "\n",
      "      Epoch    GPU_mem   box_loss   cls_loss   dfl_loss  Instances       Size\n"
     ]
    },
    {
     "name": "stderr",
     "output_type": "stream",
     "text": [
      "    148/200      3.33G      2.455      2.701      2.209         61       1024: 100%|██████████| 20/20 [00:02<00:00,  7.59it/s]\n",
      "                 Class     Images  Instances      Box(P          R      mAP50  mAP50-95): 100%|██████████| 3/3 [00:00<00:00, 12.91it/s]\n"
     ]
    },
    {
     "name": "stdout",
     "output_type": "stream",
     "text": [
      "                   all         25        125      0.577     0.0335     0.0332     0.0139\n",
      "\u001b[34m\u001b[1mEarlyStopping: \u001b[0mTraining stopped early as no improvement observed in last 25 epochs. Best results observed at epoch 123, best model saved as best.pt.\n",
      "To update EarlyStopping(patience=25) pass a new patience value, i.e. `patience=300` or use `patience=0` to disable EarlyStopping.\n",
      "\n",
      "148 epochs completed in 0.156 hours.\n",
      "Optimizer stripped from runs/detect/checkpoint/weights/last.pt, 22.6MB\n",
      "Optimizer stripped from runs/detect/checkpoint/weights/best.pt, 22.6MB\n",
      "\n",
      "Validating runs/detect/checkpoint/weights/best.pt...\n",
      "Ultralytics 8.3.68 🚀 Python-3.11.6 torch-2.5.1+cu124 CUDA:0 (NVIDIA A100-SXM4-80GB, 81156MiB)\n",
      "                                                      CUDA:1 (NVIDIA A100-SXM4-80GB, 81156MiB)\n",
      "YOLOv8s summary (fused): 168 layers, 11,129,841 parameters, 0 gradients, 28.5 GFLOPs\n"
     ]
    },
    {
     "name": "stderr",
     "output_type": "stream",
     "text": [
      "                 Class     Images  Instances      Box(P          R      mAP50  mAP50-95): 100%|██████████| 3/3 [00:00<00:00,  6.27it/s]\n"
     ]
    },
    {
     "name": "stdout",
     "output_type": "stream",
     "text": [
      "                   all         25        125      0.465     0.0701       0.18     0.0317\n",
      "                  Mass         15         22      0.245      0.364      0.241      0.093\n",
      "           Spiculation         25         81      0.338      0.126      0.136      0.044\n",
      "Suspicious Calcification         10         14      0.135     0.0714     0.0437    0.00894\n",
      "Architectural Distortion          3          3          1          0     0.0257    0.00833\n",
      "             Asymmetry          1          1          1          0          0          0\n",
      "       Skin Thickening          2          2          0          0          0          0\n",
      " Suspicious Lymph Node          1          1          1          0      0.995     0.0995\n",
      "     Nipple Retraction          1          1          0          0          0          0\n",
      "Speed: 0.8ms preprocess, 1.8ms inference, 0.0ms loss, 4.0ms postprocess per image\n",
      "Results saved to \u001b[1mruns/detect/checkpoint\u001b[0m\n"
     ]
    }
   ],
   "source": [
    "print(model)"
   ]
  },
  {
   "cell_type": "code",
   "execution_count": 140,
   "id": "ada432b2",
   "metadata": {},
   "outputs": [
    {
     "name": "stdout",
     "output_type": "stream",
     "text": [
      "/home/rshah133/bcd/dataset/split_1/val/images/66d5d94402456f664753ec443d077bf9.jpg\n",
      "\n",
      "0: 1024x1024 3 Masss, 5.2ms\n",
      "Speed: 3.6ms preprocess, 5.2ms inference, 1.1ms postprocess per image at shape (1, 3, 1024, 1024)\n",
      "[[     452.69      249.78      531.27      346.69]\n",
      " [     446.32       253.2      548.27      356.14]\n",
      " [     461.63      251.18      561.18      344.57]]\n",
      "[          0           0           0]\n",
      "[(452.6928, 249.78088, 531.26776, 346.69135), (446.31647, 253.19763, 548.265, 356.13678), (461.63477, 251.1782, 561.1776, 344.56558)] [(255, 0, 0), (255, 0, 0), (255, 0, 0)] [0, 0, 0]\n",
      "(452.6928, 249.78088, 531.26776, 346.69135) (255, 0, 0) 0\n",
      "(446.31647, 253.19763, 548.265, 356.13678) (255, 0, 0) 0\n",
      "(461.63477, 251.1782, 561.1776, 344.56558) (255, 0, 0) 0\n"
     ]
    },
    {
     "data": {
      "image/jpeg": "[encoded data removed]",
      "image/png": "[encoded data removed]",
      "text/plain": [
       "<PIL.Image.Image image mode=RGB size=640x640>"
      ]
     },
     "execution_count": 140,
     "metadata": {},
     "output_type": "execute_result"
    }
   ],
   "source": [
    "import warnings\n",
    "warnings.filterwarnings('ignore')\n",
    "warnings.simplefilter('ignore')\n",
    "import torch    \n",
    "import cv2\n",
    "import numpy as np\n",
    "import requests\n",
    "import torchvision.transforms as transforms\n",
    "from pytorch_grad_cam import EigenCAM\n",
    "from pytorch_grad_cam.utils.image import show_cam_on_image, scale_cam_image\n",
    "from PIL import Image\n",
    "\n",
    "COLORS = np.random.uniform(0, 255, size=(80, 3))\n",
    "\n",
    "def parse_detections(results):\n",
    "    boxes, colors, names = [], [], []\n",
    "\n",
    "    for result in results:\n",
    "        \n",
    "        confidence = result.boxes.conf.cpu().numpy()\n",
    "        # if confidence[0] < 0.2:\n",
    "        #     continue\n",
    "        \n",
    "        box = result.boxes.xyxy.cpu().numpy()\n",
    "        print(box)\n",
    "        # xmin, ymin, xmax, ymax = box[0]\n",
    "        \n",
    "        category = result.boxes.cls.cpu().numpy()\n",
    "        print(category)\n",
    "        \n",
    "        for b, c, co in zip(box, category, confidence):\n",
    "            xmin, ymin, xmax, ymax = b\n",
    "            category = int(c)\n",
    "            # color = COLORS[int(category)]\n",
    "        \n",
    "            boxes.append((xmin, ymin, xmax, ymax))\n",
    "            colors.append((255, 0, 0))\n",
    "            names.append(category)\n",
    "        \n",
    "        \n",
    "    return boxes, colors, names\n",
    "\n",
    "    # detections = results.xyxy[0]\n",
    "    # print(results)\n",
    "    # detections = detections.to_dict()\n",
    "\n",
    "    # for i in range(len(detections[\"xmin\"])):\n",
    "        # confidence = detections[\"confidence\"][i]\n",
    "        # if confidence < 0.2:\n",
    "        #     continue\n",
    "        # xmin = int(detections[\"xmin\"][i])\n",
    "        # ymin = int(detections[\"ymin\"][i])\n",
    "        # xmax = int(detections[\"xmax\"][i])\n",
    "        # ymax = int(detections[\"ymax\"][i])\n",
    "        # name = detections[\"name\"][i]\n",
    "        # category = int(detections[\"class\"][i])\n",
    "        # color = COLORS[category]\n",
    "\n",
    "        # boxes.append((xmin, ymin, xmax, ymax))\n",
    "        # colors.append(color)\n",
    "        # names.append(name)\n",
    "    # return boxes, colors, names\n",
    "\n",
    "def draw_detections(boxes, colors, names, img):\n",
    "    for box, color, name in zip(boxes, colors, names):\n",
    "        print(box, color, name)\n",
    "        xmin, ymin, xmax, ymax = map(int,box)\n",
    "        cv2.rectangle(img,(xmin, ymin),(xmax, ymax),color, 2)\n",
    "\n",
    "        cv2.putText(img, str(name), (xmin, ymin - 5), cv2.FONT_HERSHEY_SIMPLEX, 0.8, color, 2, lineType=cv2.LINE_AA)\n",
    "    return img\n",
    "\n",
    "\n",
    "img_path = os.path.join(data_loaded['val'], os.listdir(data_loaded['val'])[2])\n",
    "img = cv2.imread(img_path)\n",
    "print(img_path)\n",
    "img = cv2.resize(img, (640, 640))\n",
    "rgb_img = img.copy()\n",
    "rgb_img = cv2.cvtColor(img, cv2.COLOR_BGR2RGB)\n",
    "# axs[0].imshow(cv2.cvtColor(label_img, cv2.COLOR_BGR2RGB))\n",
    "\n",
    "\n",
    "img = np.float32(rgb_img) / 255\n",
    "transform = transforms.ToTensor()\n",
    "tensor = transform(img).unsqueeze(0)\n",
    "\n",
    "model = YOLO('runs/detect/checkpoint/weights/best.pt')\n",
    "model.eval()\n",
    "# model.cpu()\n",
    "target_layers = [model.model.model[-2]]\n",
    "\n",
    "results = model([rgb_img])\n",
    "boxes, colors, names = parse_detections(results)\n",
    "\n",
    "print(boxes, colors, names)\n",
    "detections = draw_detections(boxes, colors, names, rgb_img.copy())\n",
    "Image.fromarray(detections)"
   ]
  },
  {
   "cell_type": "code",
   "execution_count": 142,
   "id": "364d7827",
   "metadata": {},
   "outputs": [
    {
     "data": {
      "text/plain": [
       "torch.Tensor"
      ]
     },
     "execution_count": 142,
     "metadata": {},
     "output_type": "execute_result"
    }
   ],
   "source": [
    "type(tensor)"
   ]
  },
  {
   "cell_type": "code",
   "execution_count": 153,
   "id": "ecfbe544",
   "metadata": {},
   "outputs": [
    {
     "name": "stdout",
     "output_type": "stream",
     "text": [
      "\n",
      "0: 640x640 4 Masss, 11 Spiculations, 6.3ms\n",
      "Speed: 0.0ms preprocess, 6.3ms inference, 1.7ms postprocess per image at shape (1, 3, 640, 640)\n"
     ]
    },
    {
     "ename": "AttributeError",
     "evalue": "'list' object has no attribute 'cpu'",
     "output_type": "error",
     "traceback": [
      "\u001b[0;31m---------------------------------------------------------------------------\u001b[0m",
      "\u001b[0;31mAttributeError\u001b[0m                            Traceback (most recent call last)",
      "Cell \u001b[0;32mIn[153], line 19\u001b[0m\n\u001b[1;32m     15\u001b[0m cam \u001b[38;5;241m=\u001b[39m EigenCAM(model, target_layers)\n\u001b[1;32m     17\u001b[0m \u001b[38;5;66;03m# Get the CAM for the tensor input\u001b[39;00m\n\u001b[1;32m     18\u001b[0m \u001b[38;5;66;03m# EigenCAM returns a list of results. We get the first one (as it's a batch of size 1)\u001b[39;00m\n\u001b[0;32m---> 19\u001b[0m grayscale_cam \u001b[38;5;241m=\u001b[39m \u001b[43mcam\u001b[49m\u001b[43m(\u001b[49m\u001b[43mtensor\u001b[49m\u001b[43m)\u001b[49m[\u001b[38;5;241m0\u001b[39m]  \u001b[38;5;66;03m# No need to manually index for channels, as it handles it\u001b[39;00m\n\u001b[1;32m     21\u001b[0m \u001b[38;5;66;03m# Convert the CAM to a numpy array for visualization\u001b[39;00m\n\u001b[1;32m     22\u001b[0m grayscale_cam \u001b[38;5;241m=\u001b[39m grayscale_cam\u001b[38;5;241m.\u001b[39mcpu()\u001b[38;5;241m.\u001b[39mdetach()\u001b[38;5;241m.\u001b[39mnumpy()\n",
      "File \u001b[0;32m~/.local/lib/python3.11/site-packages/pytorch_grad_cam/base_cam.py:186\u001b[0m, in \u001b[0;36mBaseCAM.__call__\u001b[0;34m(self, input_tensor, targets, aug_smooth, eigen_smooth)\u001b[0m\n\u001b[1;32m    183\u001b[0m \u001b[38;5;28;01mif\u001b[39;00m aug_smooth \u001b[38;5;129;01mis\u001b[39;00m \u001b[38;5;28;01mTrue\u001b[39;00m:\n\u001b[1;32m    184\u001b[0m     \u001b[38;5;28;01mreturn\u001b[39;00m \u001b[38;5;28mself\u001b[39m\u001b[38;5;241m.\u001b[39mforward_augmentation_smoothing(input_tensor, targets, eigen_smooth)\n\u001b[0;32m--> 186\u001b[0m \u001b[38;5;28;01mreturn\u001b[39;00m \u001b[38;5;28;43mself\u001b[39;49m\u001b[38;5;241;43m.\u001b[39;49m\u001b[43mforward\u001b[49m\u001b[43m(\u001b[49m\u001b[43minput_tensor\u001b[49m\u001b[43m,\u001b[49m\u001b[43m \u001b[49m\u001b[43mtargets\u001b[49m\u001b[43m,\u001b[49m\u001b[43m \u001b[49m\u001b[43meigen_smooth\u001b[49m\u001b[43m)\u001b[49m\n",
      "File \u001b[0;32m~/.local/lib/python3.11/site-packages/pytorch_grad_cam/base_cam.py:93\u001b[0m, in \u001b[0;36mBaseCAM.forward\u001b[0;34m(self, input_tensor, targets, eigen_smooth)\u001b[0m\n\u001b[1;32m     90\u001b[0m \u001b[38;5;28mself\u001b[39m\u001b[38;5;241m.\u001b[39moutputs \u001b[38;5;241m=\u001b[39m outputs \u001b[38;5;241m=\u001b[39m \u001b[38;5;28mself\u001b[39m\u001b[38;5;241m.\u001b[39mactivations_and_grads(input_tensor)\n\u001b[1;32m     92\u001b[0m \u001b[38;5;28;01mif\u001b[39;00m targets \u001b[38;5;129;01mis\u001b[39;00m \u001b[38;5;28;01mNone\u001b[39;00m:\n\u001b[0;32m---> 93\u001b[0m     target_categories \u001b[38;5;241m=\u001b[39m np\u001b[38;5;241m.\u001b[39margmax(\u001b[43moutputs\u001b[49m\u001b[38;5;241;43m.\u001b[39;49m\u001b[43mcpu\u001b[49m()\u001b[38;5;241m.\u001b[39mdata\u001b[38;5;241m.\u001b[39mnumpy(), axis\u001b[38;5;241m=\u001b[39m\u001b[38;5;241m-\u001b[39m\u001b[38;5;241m1\u001b[39m)\n\u001b[1;32m     94\u001b[0m     targets \u001b[38;5;241m=\u001b[39m [ClassifierOutputTarget(category) \u001b[38;5;28;01mfor\u001b[39;00m category \u001b[38;5;129;01min\u001b[39;00m target_categories]\n\u001b[1;32m     96\u001b[0m \u001b[38;5;28;01mif\u001b[39;00m \u001b[38;5;28mself\u001b[39m\u001b[38;5;241m.\u001b[39muses_gradients:\n",
      "\u001b[0;31mAttributeError\u001b[0m: 'list' object has no attribute 'cpu'"
     ]
    }
   ],
   "source": [
    "from pytorch_grad_cam import EigenCAM\n",
    "from pytorch_grad_cam.utils.image import show_cam_on_image\n",
    "import torch\n",
    "import numpy as np\n",
    "from PIL import Image\n",
    "\n",
    "# Ensure that the model is on the correct device (either 'cuda' or 'cpu')\n",
    "device = 'cuda' if torch.cuda.is_available() else 'cpu'\n",
    "model = model.to(device)  # Move the model to the correct device\n",
    "\n",
    "# Ensure the input tensor is on the same device as the model\n",
    "tensor = tensor.to(device)  # Move the tensor to the correct device\n",
    "\n",
    "# Initialize EigenCAM with the model and target layers\n",
    "cam = EigenCAM(model, target_layers)\n",
    "\n",
    "# Get the CAM for the tensor input\n",
    "# EigenCAM returns a list of results. We get the first one (as it's a batch of size 1)\n",
    "grayscale_cam = cam(tensor)[0]  # No need to manually index for channels, as it handles it\n",
    "\n",
    "# Convert the CAM to a numpy array for visualization\n",
    "grayscale_cam = grayscale_cam.cpu().detach().numpy()\n",
    "\n",
    "# Now visualize the CAM\n",
    "cam_image = show_cam_on_image(img, grayscale_cam, use_rgb=True)\n",
    "\n",
    "# Convert the resulting image to a PIL image\n",
    "pil_cam_image = Image.fromarray(cam_image)\n",
    "\n",
    "# Display the CAM image\n",
    "pil_cam_image.show()\n"
   ]
  },
  {
   "cell_type": "code",
   "execution_count": null,
   "id": "c2e15c61",
   "metadata": {},
   "outputs": [],
   "source": []
  },
  {
   "cell_type": "code",
   "execution_count": 154,
   "id": "f7296a36",
   "metadata": {},
   "outputs": [
    {
     "name": "stdout",
     "output_type": "stream",
     "text": [
      "YOLOv8s summary: 225 layers, 11,139,857 parameters, 0 gradients, 28.7 GFLOPs\n"
     ]
    },
    {
     "name": "stderr",
     "output_type": "stream",
     "text": [
      "Exception ignored in: <function BaseCAM.__del__ at 0x1553f2b96480>\n",
      "Traceback (most recent call last):\n",
      "  File \"/home/rshah133/.local/lib/python3.11/site-packages/pytorch_grad_cam/base_cam.py\", line 189, in __del__\n",
      "    targets, eigen_smooth)\n",
      "^^^^^^^^^^\n",
      "AttributeError: 'GradCAM' object has no attribute 'activations_and_grads'\n"
     ]
    },
    {
     "ename": "TypeError",
     "evalue": "GradCAM.__init__() got an unexpected keyword argument 'use_cuda'",
     "output_type": "error",
     "traceback": [
      "\u001b[0;31m---------------------------------------------------------------------------\u001b[0m",
      "\u001b[0;31mTypeError\u001b[0m                                 Traceback (most recent call last)",
      "Cell \u001b[0;32mIn[154], line 3\u001b[0m\n\u001b[1;32m      1\u001b[0m \u001b[38;5;28;01mfrom\u001b[39;00m \u001b[38;5;21;01mYOLOv8_Explainer\u001b[39;00m \u001b[38;5;28;01mimport\u001b[39;00m yolov8_heatmap, display_images\n\u001b[0;32m----> 3\u001b[0m model \u001b[38;5;241m=\u001b[39m \u001b[43myolov8_heatmap\u001b[49m\u001b[43m(\u001b[49m\n\u001b[1;32m      4\u001b[0m \u001b[43m    \u001b[49m\u001b[43mweight\u001b[49m\u001b[38;5;241;43m=\u001b[39;49m\u001b[38;5;124;43m\"\u001b[39;49m\u001b[38;5;124;43m/home/rshah133/bcd/v8n_1024/runs/detect/checkpoint/weights/best.pt\u001b[39;49m\u001b[38;5;124;43m\"\u001b[39;49m\u001b[43m,\u001b[49m\u001b[43m \u001b[49m\n\u001b[1;32m      5\u001b[0m \u001b[43m        \u001b[49m\u001b[43mconf_threshold\u001b[49m\u001b[38;5;241;43m=\u001b[39;49m\u001b[38;5;241;43m0.4\u001b[39;49m\u001b[43m,\u001b[49m\u001b[43m  \u001b[49m\n\u001b[1;32m      6\u001b[0m \u001b[43m        \u001b[49m\u001b[43mmethod\u001b[49m\u001b[43m \u001b[49m\u001b[38;5;241;43m=\u001b[39;49m\u001b[43m \u001b[49m\u001b[38;5;124;43m\"\u001b[39;49m\u001b[38;5;124;43mGradCAM\u001b[39;49m\u001b[38;5;124;43m\"\u001b[39;49m\u001b[43m,\u001b[49m\u001b[43m \u001b[49m\n\u001b[1;32m      7\u001b[0m \u001b[43m        \u001b[49m\u001b[43mlayer\u001b[49m\u001b[38;5;241;43m=\u001b[39;49m\u001b[43m[\u001b[49m\u001b[38;5;241;43m10\u001b[39;49m\u001b[43m,\u001b[49m\u001b[43m \u001b[49m\u001b[38;5;241;43m12\u001b[39;49m\u001b[43m,\u001b[49m\u001b[43m \u001b[49m\u001b[38;5;241;43m14\u001b[39;49m\u001b[43m,\u001b[49m\u001b[43m \u001b[49m\u001b[38;5;241;43m16\u001b[39;49m\u001b[43m,\u001b[49m\u001b[43m \u001b[49m\u001b[38;5;241;43m18\u001b[39;49m\u001b[43m,\u001b[49m\u001b[43m \u001b[49m\u001b[38;5;241;43m-\u001b[39;49m\u001b[38;5;241;43m3\u001b[39;49m\u001b[43m]\u001b[49m\u001b[43m,\u001b[49m\n\u001b[1;32m      8\u001b[0m \u001b[43m        \u001b[49m\u001b[43mratio\u001b[49m\u001b[38;5;241;43m=\u001b[39;49m\u001b[38;5;241;43m0.02\u001b[39;49m\u001b[43m,\u001b[49m\n\u001b[1;32m      9\u001b[0m \u001b[43m        \u001b[49m\u001b[43mshow_box\u001b[49m\u001b[38;5;241;43m=\u001b[39;49m\u001b[38;5;28;43;01mTrue\u001b[39;49;00m\u001b[43m,\u001b[49m\n\u001b[1;32m     10\u001b[0m \u001b[43m        \u001b[49m\u001b[43mrenormalize\u001b[49m\u001b[38;5;241;43m=\u001b[39;49m\u001b[38;5;28;43;01mFalse\u001b[39;49;00m\u001b[43m,\u001b[49m\u001b[43m)\u001b[49m\n\u001b[1;32m     12\u001b[0m imagelist \u001b[38;5;241m=\u001b[39m model(\n\u001b[1;32m     13\u001b[0m     img_path\u001b[38;5;241m=\u001b[39m\u001b[38;5;124m\"\u001b[39m\u001b[38;5;124m/home/rshah133/bcd/dataset/split_1/val/images/94ded0fb1036a6f4f044beba047b8d3a.jpg\u001b[39m\u001b[38;5;124m\"\u001b[39m, \n\u001b[1;32m     14\u001b[0m     )\n\u001b[1;32m     16\u001b[0m display_images(imagelist)\n",
      "File \u001b[0;32m~/.local/lib/python3.11/site-packages/YOLOv8_Explainer/core.py:192\u001b[0m, in \u001b[0;36myolov8_heatmap.__init__\u001b[0;34m(self, weight, device, method, layer, conf_threshold, ratio, show_box, renormalize)\u001b[0m\n\u001b[1;32m    189\u001b[0m target \u001b[38;5;241m=\u001b[39m yolov8_target(backward_type, conf_threshold, ratio)\n\u001b[1;32m    190\u001b[0m target_layers \u001b[38;5;241m=\u001b[39m [model\u001b[38;5;241m.\u001b[39mmodel[l] \u001b[38;5;28;01mfor\u001b[39;00m l \u001b[38;5;129;01min\u001b[39;00m layer]\n\u001b[0;32m--> 192\u001b[0m method \u001b[38;5;241m=\u001b[39m \u001b[38;5;28;43meval\u001b[39;49m\u001b[43m(\u001b[49m\u001b[43mmethod\u001b[49m\u001b[43m)\u001b[49m\u001b[43m(\u001b[49m\u001b[43mmodel\u001b[49m\u001b[43m,\u001b[49m\u001b[43m \u001b[49m\u001b[43mtarget_layers\u001b[49m\u001b[43m,\u001b[49m\n\u001b[1;32m    193\u001b[0m \u001b[43m                      \u001b[49m\u001b[43muse_cuda\u001b[49m\u001b[38;5;241;43m=\u001b[39;49m\u001b[43mdevice\u001b[49m\u001b[38;5;241;43m.\u001b[39;49m\u001b[43mtype\u001b[49m\u001b[43m \u001b[49m\u001b[38;5;241;43m==\u001b[39;49m\u001b[43m \u001b[49m\u001b[38;5;124;43m'\u001b[39;49m\u001b[38;5;124;43mcuda\u001b[39;49m\u001b[38;5;124;43m'\u001b[39;49m\u001b[43m)\u001b[49m\n\u001b[1;32m    194\u001b[0m method\u001b[38;5;241m.\u001b[39mactivations_and_grads \u001b[38;5;241m=\u001b[39m ActivationsAndGradients(\n\u001b[1;32m    195\u001b[0m     model, target_layers, \u001b[38;5;28;01mNone\u001b[39;00m)\n\u001b[1;32m    197\u001b[0m colors \u001b[38;5;241m=\u001b[39m np\u001b[38;5;241m.\u001b[39mrandom\u001b[38;5;241m.\u001b[39muniform(\n\u001b[1;32m    198\u001b[0m     \u001b[38;5;241m0\u001b[39m, \u001b[38;5;241m255\u001b[39m, size\u001b[38;5;241m=\u001b[39m(\u001b[38;5;28mlen\u001b[39m(model_names), \u001b[38;5;241m3\u001b[39m))\u001b[38;5;241m.\u001b[39mastype(\u001b[38;5;28mint\u001b[39m)\n",
      "\u001b[0;31mTypeError\u001b[0m: GradCAM.__init__() got an unexpected keyword argument 'use_cuda'"
     ]
    }
   ],
   "source": [
    "from YOLOv8_Explainer import yolov8_heatmap, display_images\n",
    "\n",
    "model = yolov8_heatmap(\n",
    "    weight=\"/home/rshah133/bcd/v8n_1024/runs/detect/checkpoint/weights/best.pt\", \n",
    "        conf_threshold=0.4,  \n",
    "        method = \"GradCAM\", \n",
    "        layer=[10, 12, 14, 16, 18, -3],\n",
    "        ratio=0.02,\n",
    "        show_box=True,\n",
    "        renormalize=False,)\n",
    "\n",
    "imagelist = model(\n",
    "    img_path=\"/home/rshah133/bcd/dataset/split_1/val/images/94ded0fb1036a6f4f044beba047b8d3a.jpg\", \n",
    "    )\n",
    "\n",
    "display_images(imagelist)\n"
   ]
  },
  {
   "cell_type": "markdown",
   "id": "3d439060",
   "metadata": {},
   "source": [
    "Implemented Tensorboard. Code will redirect you to a link which should be opened in **Google Chrome** if nothing is getting displayed on safari.  You can choose not to run this code block if you want to not see the dashboard and save time."
   ]
  },
  {
   "cell_type": "code",
   "execution_count": 4,
   "id": "0fe087fd",
   "metadata": {},
   "outputs": [
    {
     "data": {
      "text/plain": [
       "Reusing TensorBoard on port 6008 (pid 1877066), started 0:29:56 ago. (Use '!kill 1877066' to kill it.)"
      ]
     },
     "metadata": {},
     "output_type": "display_data"
    },
    {
     "data": {
      "text/html": [
       "\n",
       "      <iframe id=\"tensorboard-frame-629f6fbed82c07cd\" width=\"100%\" height=\"800\" frameborder=\"0\">\n",
       "      </iframe>\n",
       "      <script>\n",
       "        (function() {\n",
       "          const frame = document.getElementById(\"tensorboard-frame-629f6fbed82c07cd\");\n",
       "          const url = new URL(\"http://localhost\");\n",
       "          const port = 6008;\n",
       "          if (port) {\n",
       "            url.port = port;\n",
       "          }\n",
       "          frame.src = url;\n",
       "        })();\n",
       "      </script>\n",
       "    "
      ],
      "text/plain": [
       "<IPython.core.display.HTML object>"
      ]
     },
     "metadata": {},
     "output_type": "display_data"
    }
   ],
   "source": [
    "#!kill 1869322\n",
    "%load_ext tensorboard\n",
    "%tensorboard --logdir runs/detect/checkpoint"
   ]
  },
  {
   "cell_type": "markdown",
   "id": "44ae2a47",
   "metadata": {},
   "source": [
    "Mention test_dataset.yaml file path and run"
   ]
  },
  {
   "cell_type": "code",
   "execution_count": 4,
   "id": "935a3087",
   "metadata": {},
   "outputs": [
    {
     "name": "stdout",
     "output_type": "stream",
     "text": [
      "Removed: /home/rshah133/bcd/dataset/test/labels.cache\n"
     ]
    }
   ],
   "source": [
    "test_path = \"test_dataset.yaml\"\n",
    "\n",
    "with open(test_path, 'r') as stream:\n",
    "    data_loaded = yaml.safe_load(stream)\n",
    "\n",
    "remove_cache_files(os.path.dirname(data_loaded['train']))\n",
    "remove_cache_files(os.path.dirname(data_loaded['val']))"
   ]
  },
  {
   "cell_type": "markdown",
   "id": "a0c7a724",
   "metadata": {},
   "source": [
    "Predicting on test data. Please set the prediction_progress.json to 0 by opening everytime when you want to predict on the test data from the start or it will resume from where it stopped last"
   ]
  },
  {
   "cell_type": "code",
   "execution_count": null,
   "id": "dc907270",
   "metadata": {},
   "outputs": [
    {
     "name": "stdout",
     "output_type": "stream",
     "text": [
      "/home/rshah133/bcd/dataset/test/images\n",
      "\n",
      "image 1/763 /home/rshah133/bcd/dataset/test/images/001ade2a3cb53fd808bd2856a0df5413.jpg: 1024x1024 (no detections), 2.8ms\n",
      "image 2/763 /home/rshah133/bcd/dataset/test/images/002074412a8fc178c271fb93b55c3e29.jpg: 1024x1024 2 Masss, 5 Spiculations, 2.8ms\n",
      "image 3/763 /home/rshah133/bcd/dataset/test/images/005918369ec07b1aed37d1dd78bc57fe.jpg: 1024x1024 1 Mass, 2 Spiculations, 2.8ms\n",
      "image 4/763 /home/rshah133/bcd/dataset/test/images/00857417d07096982013956033da1f75.jpg: 1024x1024 (no detections), 2.8ms\n",
      "image 5/763 /home/rshah133/bcd/dataset/test/images/008bc6050f6d31fc255e5d87bcc87ba2.jpg: 1024x1024 1 Mass, 2 Spiculations, 2.8ms\n",
      "image 6/763 /home/rshah133/bcd/dataset/test/images/00be38a5c0566291168fe381ba0028e6.jpg: 1024x1024 1 Spiculation, 2.8ms\n",
      "image 7/763 /home/rshah133/bcd/dataset/test/images/00ec2be128f964da6f0b0ba179c4d138.jpg: 1024x1024 1 Mass, 1 Spiculation, 2.8ms\n",
      "image 8/763 /home/rshah133/bcd/dataset/test/images/01599597388f3185563decc34945f6b3.jpg: 1024x1024 1 Mass, 1 Spiculation, 2.8ms\n",
      "image 9/763 /home/rshah133/bcd/dataset/test/images/0171ab32059f4c226164a13c311f6824.jpg: 1024x1024 1 Mass, 1 Spiculation, 2.8ms\n",
      "image 10/763 /home/rshah133/bcd/dataset/test/images/01958718afdf303581e758cdf34eaf8a.jpg: 1024x1024 2 Masss, 2.8ms\n",
      "image 11/763 /home/rshah133/bcd/dataset/test/images/019b9f6365fa641db040b5b643fadc42.jpg: 1024x1024 2 Masss, 1 Spiculation, 2.8ms\n",
      "image 12/763 /home/rshah133/bcd/dataset/test/images/01df962b078e38500bf9dd9969a50083.jpg: 1024x1024 (no detections), 2.8ms\n",
      "image 13/763 /home/rshah133/bcd/dataset/test/images/02b3206d267eb7f354113b0c5365127b.jpg: 1024x1024 (no detections), 2.3ms\n",
      "image 14/763 /home/rshah133/bcd/dataset/test/images/02d253f51556e2e0af63525de2e9ff74.jpg: 1024x1024 (no detections), 2.3ms\n",
      "image 15/763 /home/rshah133/bcd/dataset/test/images/02ed47f60d836a10a4e5b9a1628f986b.jpg: 1024x1024 (no detections), 2.3ms\n",
      "image 16/763 /home/rshah133/bcd/dataset/test/images/031592807c30b54e2fb4bd2400e634e8.jpg: 1024x1024 4 Masss, 1 Spiculation, 2.3ms\n",
      "image 17/763 /home/rshah133/bcd/dataset/test/images/03234e390d3f2c9c07889e1687eafbb8.jpg: 1024x1024 2 Masss, 2.3ms\n",
      "image 18/763 /home/rshah133/bcd/dataset/test/images/03b3656c726cbe0d79c86a25d4296559.jpg: 1024x1024 6 Masss, 11 Spiculations, 2.3ms\n",
      "image 19/763 /home/rshah133/bcd/dataset/test/images/03e464754732750f5828aeb94af68b22.jpg: 1024x1024 (no detections), 2.3ms\n",
      "image 20/763 /home/rshah133/bcd/dataset/test/images/040cc172596bded4092c44094dc33fb7.jpg: 1024x1024 1 Mass, 5 Spiculations, 2.3ms\n",
      "image 21/763 /home/rshah133/bcd/dataset/test/images/0426e31fea8079ce30b796c80321a17c.jpg: 1024x1024 1 Spiculation, 2.3ms\n",
      "image 22/763 /home/rshah133/bcd/dataset/test/images/04ddd99e0fad1aeca36740eaacdf5607.jpg: 1024x1024 4 Masss, 20 Spiculations, 2.3ms\n",
      "image 23/763 /home/rshah133/bcd/dataset/test/images/0543622022e1d1c54a8971fd87bcf597.jpg: 1024x1024 1 Mass, 1 Spiculation, 2.3ms\n",
      "image 24/763 /home/rshah133/bcd/dataset/test/images/058e5f91678b4d3dac39bf1b6a798a22.jpg: 1024x1024 2 Masss, 1 Spiculation, 2.3ms\n",
      "image 25/763 /home/rshah133/bcd/dataset/test/images/0602173c47d1b21fe548b2d852433a03.jpg: 1024x1024 11 Masss, 5 Spiculations, 1 Suspicious Calcification, 2.3ms\n",
      "image 26/763 /home/rshah133/bcd/dataset/test/images/06073969e7453f71ac8108c6081dc9b8.jpg: 1024x1024 3 Masss, 15 Spiculations, 2.3ms\n",
      "image 27/763 /home/rshah133/bcd/dataset/test/images/061bc49a16cad3bc2b479993f7e689f8.jpg: 1024x1024 1 Mass, 2.3ms\n",
      "image 28/763 /home/rshah133/bcd/dataset/test/images/061bf98fabad5f9d99fb1919346a3a76.jpg: 1024x1024 1 Mass, 2.3ms\n",
      "image 29/763 /home/rshah133/bcd/dataset/test/images/06691f5dc2caa5f72c05d4b26af810cf.jpg: 1024x1024 5 Masss, 29 Spiculations, 1 Suspicious Calcification, 2.3ms\n",
      "image 30/763 /home/rshah133/bcd/dataset/test/images/06a407691cadae64cea5de8e8634a4ac.jpg: 1024x1024 (no detections), 2.3ms\n",
      "image 31/763 /home/rshah133/bcd/dataset/test/images/0734a9dc7d6d89e8c91458545afeef9d.jpg: 1024x1024 (no detections), 2.3ms\n",
      "image 32/763 /home/rshah133/bcd/dataset/test/images/07e191bc54c3378f9fdf23ddecc47420.jpg: 1024x1024 5 Masss, 1 Suspicious Calcification, 2.3ms\n",
      "image 33/763 /home/rshah133/bcd/dataset/test/images/07f468d6fff5b3e3b512e4b95cf0cdda.jpg: 1024x1024 1 Mass, 2.3ms\n",
      "image 34/763 /home/rshah133/bcd/dataset/test/images/07f5863348560d0507bba86c8bba0586.jpg: 1024x1024 5 Masss, 2.3ms\n",
      "image 35/763 /home/rshah133/bcd/dataset/test/images/080220733f46127184e6e0158d66c2e3.jpg: 1024x1024 2 Masss, 1 Spiculation, 2.3ms\n",
      "image 36/763 /home/rshah133/bcd/dataset/test/images/0806729f6ebeb658662051e8bdcfab3c.jpg: 1024x1024 1 Mass, 4 Spiculations, 1 Skin Retraction, 2.3ms\n",
      "image 37/763 /home/rshah133/bcd/dataset/test/images/08490d6ee0e276c8a4daaf106d9a01e0.jpg: 1024x1024 3 Masss, 6 Spiculations, 2.3ms\n",
      "image 38/763 /home/rshah133/bcd/dataset/test/images/08806c1f309c5f9fff3c82bb6c5c2794.jpg: 1024x1024 1 Mass, 2 Spiculations, 2.3ms\n",
      "image 39/763 /home/rshah133/bcd/dataset/test/images/08a64894ac411114c25dd709e2bcc471.jpg: 1024x1024 1 Mass, 2.3ms\n",
      "image 40/763 /home/rshah133/bcd/dataset/test/images/09025dbf5abd08828ecd4ebf03724341.jpg: 1024x1024 (no detections), 2.3ms\n",
      "image 41/763 /home/rshah133/bcd/dataset/test/images/0939019fd916e0748e07d9546cd8bdf5.jpg: 1024x1024 (no detections), 2.3ms\n",
      "image 42/763 /home/rshah133/bcd/dataset/test/images/09d71ae86ca0383de5dcbcc40fa421ce.jpg: 1024x1024 (no detections), 2.3ms\n",
      "image 43/763 /home/rshah133/bcd/dataset/test/images/09e75ac07373f2e576fdcd909993b3bd.jpg: 1024x1024 (no detections), 2.3ms\n",
      "image 44/763 /home/rshah133/bcd/dataset/test/images/0abdf3f3255cb44a2a15908a811fe6e3.jpg: 1024x1024 (no detections), 2.3ms\n",
      "image 45/763 /home/rshah133/bcd/dataset/test/images/0ac950834b6f143b8fc1b3a1b2102faa.jpg: 1024x1024 2 Masss, 1 Spiculation, 2.3ms\n",
      "image 46/763 /home/rshah133/bcd/dataset/test/images/0adb22b2b24d61c511acbe028648532e.jpg: 1024x1024 1 Mass, 2 Spiculations, 2.3ms\n",
      "image 47/763 /home/rshah133/bcd/dataset/test/images/0adc8a85d70d053c80a88bb97d108e44.jpg: 1024x1024 2 Masss, 2.3ms\n",
      "image 48/763 /home/rshah133/bcd/dataset/test/images/0b982200144c13b7302365e7f01c490d.jpg: 1024x1024 5 Masss, 5 Spiculations, 2.3ms\n",
      "image 49/763 /home/rshah133/bcd/dataset/test/images/0bac94530476031873566b909b8f1161.jpg: 1024x1024 1 Mass, 2.3ms\n",
      "image 50/763 /home/rshah133/bcd/dataset/test/images/0d0826dc6e633a7729ea56fa7390c508.jpg: 1024x1024 3 Masss, 1 Spiculation, 2.3ms\n",
      "image 51/763 /home/rshah133/bcd/dataset/test/images/0d08356a2638c214fbc6cbeb24251c0c.jpg: 1024x1024 2 Masss, 4 Spiculations, 2.3ms\n",
      "image 52/763 /home/rshah133/bcd/dataset/test/images/0d0c76cf04069b224806e8d8d3a9351b.jpg: 1024x1024 (no detections), 2.3ms\n",
      "image 53/763 /home/rshah133/bcd/dataset/test/images/0d58856b402c571d3fa0fc19d26267ca.jpg: 1024x1024 (no detections), 2.3ms\n",
      "image 54/763 /home/rshah133/bcd/dataset/test/images/0d6987fc066d2fad238b5c15f4e9bf8e.jpg: 1024x1024 2 Masss, 1 Spiculation, 2.3ms\n",
      "image 55/763 /home/rshah133/bcd/dataset/test/images/0f37159abdcef6a062e404df47e8f1ac.jpg: 1024x1024 1 Mass, 2.3ms\n",
      "image 56/763 /home/rshah133/bcd/dataset/test/images/0f5457dbb9449aa73bb9cf62e1c10847.jpg: 1024x1024 6 Masss, 3 Spiculations, 2.3ms\n",
      "image 57/763 /home/rshah133/bcd/dataset/test/images/0fb063fe3b46db2bbe83d124a3793101.jpg: 1024x1024 (no detections), 2.3ms\n",
      "image 58/763 /home/rshah133/bcd/dataset/test/images/100f9f1f5392774416f1a1e66a5a4c71.jpg: 1024x1024 (no detections), 2.3ms\n",
      "image 59/763 /home/rshah133/bcd/dataset/test/images/101906844b5a3d7fab9df630876d24fd.jpg: 1024x1024 (no detections), 2.3ms\n",
      "image 60/763 /home/rshah133/bcd/dataset/test/images/104bd2676dc8eec4debd4312b47a44d8.jpg: 1024x1024 3 Masss, 1 Spiculation, 2.3ms\n",
      "image 61/763 /home/rshah133/bcd/dataset/test/images/10e0019ae8ce05748b47e9b02131de7f.jpg: 1024x1024 2 Masss, 4 Spiculations, 2.3ms\n",
      "image 62/763 /home/rshah133/bcd/dataset/test/images/10e0f362333df810ac84a9db8fb3fd42.jpg: 1024x1024 2 Masss, 1 Spiculation, 2.3ms\n",
      "image 63/763 /home/rshah133/bcd/dataset/test/images/10e3136f3e11277d87ce71d123f7ba68.jpg: 1024x1024 3 Masss, 10 Spiculations, 2.3ms\n",
      "image 64/763 /home/rshah133/bcd/dataset/test/images/1142cdfbfe725d62038252693cf064e5.jpg: 1024x1024 2 Masss, 2 Spiculations, 2.3ms\n",
      "image 65/763 /home/rshah133/bcd/dataset/test/images/11ad49282c890423f5bd94803842d89c.jpg: 1024x1024 3 Masss, 3 Spiculations, 2.3ms\n",
      "image 66/763 /home/rshah133/bcd/dataset/test/images/11b8d57615519367276e766b61684f04.jpg: 1024x1024 3 Masss, 10 Spiculations, 2.3ms\n",
      "image 67/763 /home/rshah133/bcd/dataset/test/images/11b953e33bdaee7933f8d1db574942af.jpg: 1024x1024 1 Spiculation, 2.3ms\n",
      "image 68/763 /home/rshah133/bcd/dataset/test/images/11d1c20d269f487d47fa5fc80c6f7722.jpg: 1024x1024 (no detections), 2.3ms\n",
      "image 69/763 /home/rshah133/bcd/dataset/test/images/12284c56ca4887b1747c1f45bce853f1.jpg: 1024x1024 (no detections), 2.3ms\n",
      "image 70/763 /home/rshah133/bcd/dataset/test/images/1297fb4b53170324f0f6eeaf74c4449c.jpg: 1024x1024 1 Mass, 2.3ms\n",
      "image 71/763 /home/rshah133/bcd/dataset/test/images/12fcf7d55f2b52086c8ecb5fc8006db3.jpg: 1024x1024 1 Mass, 2.3ms\n",
      "image 72/763 /home/rshah133/bcd/dataset/test/images/132095e759b34fba0adcba4205e1b513.jpg: 1024x1024 6 Masss, 25 Spiculations, 2.3ms\n",
      "image 73/763 /home/rshah133/bcd/dataset/test/images/136a7d195b654c4bf862fdd076c77574.jpg: 1024x1024 1 Mass, 2.3ms\n",
      "image 74/763 /home/rshah133/bcd/dataset/test/images/1371cabdfe2afcbe30cf48047395c641.jpg: 1024x1024 2 Masss, 2.3ms\n",
      "image 75/763 /home/rshah133/bcd/dataset/test/images/13be6c55646212a038555d19e9f9c086.jpg: 1024x1024 2 Masss, 2.3ms\n",
      "image 76/763 /home/rshah133/bcd/dataset/test/images/13dcce4e628d544820e41c43275b7806.jpg: 1024x1024 (no detections), 2.3ms\n",
      "image 77/763 /home/rshah133/bcd/dataset/test/images/14387f59b61cfdebf1fc0ac124efaf6d.jpg: 1024x1024 (no detections), 2.3ms\n",
      "image 78/763 /home/rshah133/bcd/dataset/test/images/1507cf98ea325351b0104cb854a6ac83.jpg: 1024x1024 2 Masss, 2 Spiculations, 2.3ms\n",
      "image 79/763 /home/rshah133/bcd/dataset/test/images/150cb5d7fd49a32058caaa51714e8cd0.jpg: 1024x1024 1 Mass, 2.3ms\n",
      "image 80/763 /home/rshah133/bcd/dataset/test/images/1513f5d691d471605b882f111d388d46.jpg: 1024x1024 (no detections), 2.3ms\n",
      "image 81/763 /home/rshah133/bcd/dataset/test/images/153e6a233a6694e96db4356a947c9678.jpg: 1024x1024 (no detections), 2.3ms\n",
      "image 82/763 /home/rshah133/bcd/dataset/test/images/1545d3528b9cc99bcdf09d4b2b434f59.jpg: 1024x1024 7 Masss, 24 Spiculations, 2.3ms\n",
      "image 83/763 /home/rshah133/bcd/dataset/test/images/15a47ab4144332ccee35214af3cd030a.jpg: 1024x1024 1 Spiculation, 2.3ms\n",
      "image 84/763 /home/rshah133/bcd/dataset/test/images/15ad456e4bc707e7ffeee20e60a3a820.jpg: 1024x1024 (no detections), 2.3ms\n",
      "image 85/763 /home/rshah133/bcd/dataset/test/images/15c8e59fdfafb3deefc80c5a9e8a42d0.jpg: 1024x1024 (no detections), 2.3ms\n",
      "image 86/763 /home/rshah133/bcd/dataset/test/images/15fc491b06ef82774b6b8fc6ab09ef23.jpg: 1024x1024 (no detections), 2.3ms\n",
      "image 87/763 /home/rshah133/bcd/dataset/test/images/164ebeb7229eed711a9e91b572a902ff.jpg: 1024x1024 1 Mass, 10 Spiculations, 2.3ms\n",
      "image 88/763 /home/rshah133/bcd/dataset/test/images/16a7ae04fb0ec0039afbceb6c920906f.jpg: 1024x1024 1 Mass, 1 Spiculation, 2.3ms\n",
      "image 89/763 /home/rshah133/bcd/dataset/test/images/16c5567c9a2c621c980a8992f6540c01.jpg: 1024x1024 (no detections), 2.3ms\n",
      "image 90/763 /home/rshah133/bcd/dataset/test/images/17127fbc6f1c700106b7ec6725012007.jpg: 1024x1024 1 Mass, 2.3ms\n",
      "image 91/763 /home/rshah133/bcd/dataset/test/images/17b3a249701b56996ab36e053d9eaf1c.jpg: 1024x1024 3 Masss, 2 Spiculations, 2.3ms\n",
      "image 92/763 /home/rshah133/bcd/dataset/test/images/17c9d5489c19c75ed3cb4032ba49afb7.jpg: 1024x1024 2 Masss, 2 Spiculations, 2.3ms\n",
      "image 93/763 /home/rshah133/bcd/dataset/test/images/17d2f5831c5cecb238f512e28f0277d7.jpg: 1024x1024 (no detections), 2.3ms\n",
      "image 94/763 /home/rshah133/bcd/dataset/test/images/17d91701b085d4cb0ae1c7b1c0af2bb1.jpg: 1024x1024 2 Masss, 2.3ms\n",
      "image 95/763 /home/rshah133/bcd/dataset/test/images/185d72636122b93911abdbe015985e40.jpg: 1024x1024 1 Mass, 1 Spiculation, 2.3ms\n",
      "image 96/763 /home/rshah133/bcd/dataset/test/images/18b6303a3ede8d3556f87dada8d64c49.jpg: 1024x1024 (no detections), 2.3ms\n",
      "image 97/763 /home/rshah133/bcd/dataset/test/images/19269b87da23b12053b3bfcfa65a2eeb.jpg: 1024x1024 6 Masss, 13 Spiculations, 2.3ms\n",
      "image 98/763 /home/rshah133/bcd/dataset/test/images/194b24263d11adc0128da9953588359c.jpg: 1024x1024 7 Masss, 7 Spiculations, 2.3ms\n",
      "image 99/763 /home/rshah133/bcd/dataset/test/images/1959ca267c7a8953a880b69c75168d13.jpg: 1024x1024 (no detections), 2.3ms\n",
      "image 100/763 /home/rshah133/bcd/dataset/test/images/19b4ef4638156b157666ec2782fb78e5.jpg: 1024x1024 (no detections), 2.3ms\n",
      "image 101/763 /home/rshah133/bcd/dataset/test/images/19c0ecd06984b4d4b2c46812e85a06e6.jpg: 1024x1024 2 Masss, 2 Spiculations, 2.3ms\n",
      "image 102/763 /home/rshah133/bcd/dataset/test/images/1a1d13244aaafa6a12988c4e1d3efe5b.jpg: 1024x1024 3 Masss, 2 Spiculations, 2.3ms\n",
      "image 103/763 /home/rshah133/bcd/dataset/test/images/1a640b603b5e70a42161bfbf42eb21d1.jpg: 1024x1024 (no detections), 2.3ms\n",
      "image 104/763 /home/rshah133/bcd/dataset/test/images/1a89e1a41d82efe8826ffe15c41db3f4.jpg: 1024x1024 3 Masss, 2 Spiculations, 2.3ms\n",
      "image 105/763 /home/rshah133/bcd/dataset/test/images/1bc0bb5082b6f20d9dea0014ae5276db.jpg: 1024x1024 2 Masss, 3 Spiculations, 2.3ms\n",
      "image 106/763 /home/rshah133/bcd/dataset/test/images/1bf3336865229b5b85439dc942721a64.jpg: 1024x1024 2 Masss, 8 Spiculations, 2.3ms\n",
      "image 107/763 /home/rshah133/bcd/dataset/test/images/1c1b9f28c515819a9eb5191e36709d8f.jpg: 1024x1024 (no detections), 2.3ms\n",
      "image 108/763 /home/rshah133/bcd/dataset/test/images/1c1d29264b338e71d94bf33db3a2849f.jpg: 1024x1024 4 Masss, 9 Spiculations, 2.3ms\n",
      "image 109/763 /home/rshah133/bcd/dataset/test/images/1c35cb30f776b18ab35a12deae0845b9.jpg: 1024x1024 (no detections), 2.3ms\n",
      "image 110/763 /home/rshah133/bcd/dataset/test/images/1c77399720e266b2124c6151b7bec82b.jpg: 1024x1024 1 Mass, 2.3ms\n",
      "image 111/763 /home/rshah133/bcd/dataset/test/images/1d2d50c66ee2e230c6327076c2fe6d00.jpg: 1024x1024 (no detections), 2.3ms\n",
      "image 112/763 /home/rshah133/bcd/dataset/test/images/1d605d35628064e2f14c0f629b34459d.jpg: 1024x1024 2 Masss, 16 Spiculations, 2.3ms\n",
      "image 113/763 /home/rshah133/bcd/dataset/test/images/1d6b62c0ca67fccea012daed532bb9fc.jpg: 1024x1024 5 Masss, 7 Spiculations, 2.3ms\n",
      "image 114/763 /home/rshah133/bcd/dataset/test/images/1dfc7b08356eb6265b16a51a1ea208b1.jpg: 1024x1024 8 Masss, 6 Spiculations, 2 Suspicious Calcifications, 2.3ms\n",
      "image 115/763 /home/rshah133/bcd/dataset/test/images/1e074d67076ab3ccbcb6fabb7a93e479.jpg: 1024x1024 11 Masss, 5 Spiculations, 1 Suspicious Calcification, 2.3ms\n",
      "image 116/763 /home/rshah133/bcd/dataset/test/images/1e2d94424f5a9a847f1a7e8eae1ecdd7.jpg: 1024x1024 6 Masss, 2 Spiculations, 1 Suspicious Calcification, 2.3ms\n",
      "image 117/763 /home/rshah133/bcd/dataset/test/images/1eaafc26e519dcbb2f561902d3b6af85.jpg: 1024x1024 (no detections), 2.3ms\n",
      "image 118/763 /home/rshah133/bcd/dataset/test/images/1f2ad3de97b6d7a4d8f78af09c11b580.jpg: 1024x1024 3 Masss, 15 Spiculations, 2.3ms\n",
      "image 119/763 /home/rshah133/bcd/dataset/test/images/1f4e4c2039476a9884bdd84c20d1484f.jpg: 1024x1024 2 Masss, 2.3ms\n",
      "image 120/763 /home/rshah133/bcd/dataset/test/images/20e22b55458ddc1002871f0b10bc0c91.jpg: 1024x1024 1 Mass, 4 Spiculations, 2.3ms\n",
      "image 121/763 /home/rshah133/bcd/dataset/test/images/20ef0abde078ddde96b03ddb3608e3ec.jpg: 1024x1024 (no detections), 2.3ms\n",
      "image 122/763 /home/rshah133/bcd/dataset/test/images/212bc03533346819d0c6d449d631f69f.jpg: 1024x1024 (no detections), 2.3ms\n",
      "image 123/763 /home/rshah133/bcd/dataset/test/images/21a78229489f5b35b0b037f678a5cac4.jpg: 1024x1024 3 Masss, 1 Spiculation, 2.3ms\n",
      "image 124/763 /home/rshah133/bcd/dataset/test/images/21f6ff86237974dfe61a77e84b77c5c0.jpg: 1024x1024 3 Masss, 10 Spiculations, 2.3ms\n",
      "image 125/763 /home/rshah133/bcd/dataset/test/images/2239d320d35b1d7ee84c9ad5bc692096.jpg: 1024x1024 2 Masss, 3 Spiculations, 2.3ms\n",
      "image 126/763 /home/rshah133/bcd/dataset/test/images/230d88855d53b8edfb4c3cc7ef1248db.jpg: 1024x1024 2 Masss, 1 Spiculation, 2.3ms\n",
      "image 127/763 /home/rshah133/bcd/dataset/test/images/230e0069cf6710f68b38e0e4ec59a4e4.jpg: 1024x1024 1 Mass, 2.3ms\n",
      "image 128/763 /home/rshah133/bcd/dataset/test/images/2311c127704c6b0cf325d4da697d2b26.jpg: 1024x1024 (no detections), 2.3ms\n",
      "image 129/763 /home/rshah133/bcd/dataset/test/images/23edfe4412bf14c73110dec6fdd9e66b.jpg: 1024x1024 (no detections), 2.3ms\n",
      "image 130/763 /home/rshah133/bcd/dataset/test/images/248979f8c341862b99d2ab1e40a4efb1.jpg: 1024x1024 1 Mass, 2.3ms\n",
      "image 131/763 /home/rshah133/bcd/dataset/test/images/2530e73814b6a250140fab195ac789cc.jpg: 1024x1024 1 Mass, 1 Spiculation, 2.3ms\n",
      "image 132/763 /home/rshah133/bcd/dataset/test/images/255f0dcc5ca3131051e5fc06af99fca9.jpg: 1024x1024 1 Mass, 2.3ms\n",
      "image 133/763 /home/rshah133/bcd/dataset/test/images/26370e9d2e597c2748bf674f2e2de853.jpg: 1024x1024 1 Spiculation, 2.3ms\n",
      "image 134/763 /home/rshah133/bcd/dataset/test/images/264233e448f4ac70a925dca6d1bfb64e.jpg: 1024x1024 1 Mass, 2.3ms\n",
      "image 135/763 /home/rshah133/bcd/dataset/test/images/264d5e05c5774d9770eaf74c0483bd50.jpg: 1024x1024 (no detections), 2.3ms\n",
      "image 136/763 /home/rshah133/bcd/dataset/test/images/271e8bfd46adee65f8580092753d08e5.jpg: 1024x1024 2 Masss, 2.3ms\n",
      "image 137/763 /home/rshah133/bcd/dataset/test/images/27a35305fa91c508fdb8dc2a7e7978ee.jpg: 1024x1024 1 Mass, 1 Spiculation, 2.3ms\n",
      "image 138/763 /home/rshah133/bcd/dataset/test/images/27d9bf4e5b772624325d6232ffc8378a.jpg: 1024x1024 2 Masss, 1 Spiculation, 2.3ms\n",
      "image 139/763 /home/rshah133/bcd/dataset/test/images/27e0f42b020e06aafeb8284510da5151.jpg: 1024x1024 1 Mass, 2 Spiculations, 2.3ms\n",
      "image 140/763 /home/rshah133/bcd/dataset/test/images/27f066be252acf8b8be0e058e30b3a1a.jpg: 1024x1024 1 Mass, 5 Spiculations, 2.3ms\n",
      "image 141/763 /home/rshah133/bcd/dataset/test/images/283a13f9619b6177a7c389ca6685d715.jpg: 1024x1024 (no detections), 2.3ms\n",
      "image 142/763 /home/rshah133/bcd/dataset/test/images/29409efa3402b9d8f044f04308b5d2d7.jpg: 1024x1024 4 Masss, 3 Spiculations, 2.3ms\n",
      "image 143/763 /home/rshah133/bcd/dataset/test/images/298aba8110e3e2667be23e7f8d188f44.jpg: 1024x1024 (no detections), 2.3ms\n",
      "image 144/763 /home/rshah133/bcd/dataset/test/images/2ad344496bc6f2d91c27f501be133971.jpg: 1024x1024 (no detections), 2.3ms\n",
      "image 145/763 /home/rshah133/bcd/dataset/test/images/2b217e87073f6ea171ab6d5e2034aae3.jpg: 1024x832 (no detections), 2.7ms\n",
      "image 146/763 /home/rshah133/bcd/dataset/test/images/2b46a6fc2c076cfc187b385f6a6f40e6.jpg: 1024x832 (no detections), 2.7ms\n",
      "image 147/763 /home/rshah133/bcd/dataset/test/images/2b76a18e45c8e62db919403c6c526ec4.jpg: 1024x832 8 Masss, 28 Spiculations, 1 Suspicious Calcification, 2.7ms\n",
      "image 148/763 /home/rshah133/bcd/dataset/test/images/2bc1c6df1d38102593cdbc50610d2010.jpg: 1024x832 (no detections), 2.7ms\n",
      "image 149/763 /home/rshah133/bcd/dataset/test/images/2bfafe903b3edfefb46d098b15651b9d.jpg: 1024x832 (no detections), 2.7ms\n",
      "image 150/763 /home/rshah133/bcd/dataset/test/images/2c9849db92a18f7cbeb2aed9d5d3ca07.jpg: 1024x832 (no detections), 2.7ms\n",
      "image 151/763 /home/rshah133/bcd/dataset/test/images/2cdaf7cffadd4275836b8e68f74636cd.jpg: 1024x832 4 Masss, 2.7ms\n",
      "image 152/763 /home/rshah133/bcd/dataset/test/images/2e62eeadcca2218c0aba4f2921a27153.jpg: 1024x832 4 Masss, 2.7ms\n",
      "image 153/763 /home/rshah133/bcd/dataset/test/images/2ee7f36fd6e157b40d4f0326f6fcc0d2.jpg: 1024x832 11 Masss, 6 Spiculations, 2 Suspicious Calcifications, 2.7ms\n",
      "image 154/763 /home/rshah133/bcd/dataset/test/images/2ef3b7beac25dd7db4a75e18e9e59d59.jpg: 1024x832 3 Masss, 5 Spiculations, 2.7ms\n",
      "image 155/763 /home/rshah133/bcd/dataset/test/images/2efae215d67dd0ac64bc98a92e4be461.jpg: 1024x832 5 Masss, 5 Spiculations, 2.7ms\n",
      "image 156/763 /home/rshah133/bcd/dataset/test/images/2f48022a49d11be37b6b391fbc5bc47c.jpg: 1024x832 1 Spiculation, 2.7ms\n",
      "image 157/763 /home/rshah133/bcd/dataset/test/images/3067b317b88697b45e336a9e1a481021.jpg: 1024x1024 9 Masss, 15 Spiculations, 2.4ms\n",
      "image 158/763 /home/rshah133/bcd/dataset/test/images/30caea823462601262e5d393e6d0312a.jpg: 1024x1024 5 Masss, 14 Spiculations, 2.4ms\n",
      "image 159/763 /home/rshah133/bcd/dataset/test/images/31573a0308d41e44ed826b9a15e6af94.jpg: 1024x1024 4 Masss, 4 Spiculations, 2.4ms\n",
      "image 160/763 /home/rshah133/bcd/dataset/test/images/318264c881bf12f2c1efe5f93920cc37.jpg: 1024x1024 3 Masss, 2 Spiculations, 2.4ms\n",
      "image 161/763 /home/rshah133/bcd/dataset/test/images/3249215304caf281062d80f4b3798634.jpg: 1024x1024 4 Masss, 10 Spiculations, 2.4ms\n",
      "image 162/763 /home/rshah133/bcd/dataset/test/images/3314474605ef3a67c309ff763c851713.jpg: 1024x1024 3 Masss, 1 Spiculation, 2.4ms\n",
      "image 163/763 /home/rshah133/bcd/dataset/test/images/333c3fdb0ea842b3c4e4d799b5ea44e5.jpg: 1024x1024 (no detections), 2.4ms\n",
      "image 164/763 /home/rshah133/bcd/dataset/test/images/33755feadab4a6b5db51edc060585921.jpg: 1024x1024 2 Masss, 2.4ms\n",
      "image 165/763 /home/rshah133/bcd/dataset/test/images/338460bf0c6de576629169b75370964b.jpg: 1024x1024 2 Masss, 1 Spiculation, 2.4ms\n",
      "image 166/763 /home/rshah133/bcd/dataset/test/images/33ef0769c0bbda92028dd40d73a2bfae.jpg: 1024x1024 (no detections), 2.4ms\n",
      "image 167/763 /home/rshah133/bcd/dataset/test/images/343605cd7da7f2515b76d13c3e49e709.jpg: 1024x1024 3 Masss, 19 Spiculations, 2.4ms\n",
      "image 168/763 /home/rshah133/bcd/dataset/test/images/3527d9a479e2c242013ed32e1c93819f.jpg: 1024x1024 5 Masss, 5 Spiculations, 2.4ms\n",
      "image 169/763 /home/rshah133/bcd/dataset/test/images/352f8e70555245091657f3810f50e10d.jpg: 1024x1024 5 Masss, 9 Spiculations, 2.3ms\n",
      "image 170/763 /home/rshah133/bcd/dataset/test/images/3576dec9eddda7fbee080dcc18b9e572.jpg: 1024x1024 1 Mass, 2.3ms\n",
      "image 171/763 /home/rshah133/bcd/dataset/test/images/35783ec8085d79bee19d78f7295ba6c7.jpg: 1024x1024 7 Masss, 27 Spiculations, 1 Suspicious Calcification, 2.3ms\n",
      "image 172/763 /home/rshah133/bcd/dataset/test/images/360a2637d08a1b3f8fef4f3a3e14e717.jpg: 1024x1024 2 Masss, 2.3ms\n",
      "image 173/763 /home/rshah133/bcd/dataset/test/images/3631f3970d8dd637e1cf582f2060fdce.jpg: 1024x1024 (no detections), 2.3ms\n",
      "image 174/763 /home/rshah133/bcd/dataset/test/images/363ca8a34a7b54d334cc02d1c12c1585.jpg: 1024x1024 4 Masss, 7 Spiculations, 2.3ms\n",
      "image 175/763 /home/rshah133/bcd/dataset/test/images/36d251a46482ffaff035e48fc8a1f8e4.jpg: 1024x1024 3 Masss, 5 Spiculations, 2.3ms\n",
      "image 176/763 /home/rshah133/bcd/dataset/test/images/37797e8ccb0614c811acea9f8f6ace7b.jpg: 1024x1024 (no detections), 2.3ms\n",
      "image 177/763 /home/rshah133/bcd/dataset/test/images/37a23b32dea999c01e4bc46901b21d67.jpg: 1024x1024 (no detections), 2.3ms\n",
      "image 178/763 /home/rshah133/bcd/dataset/test/images/37ea2a11029068572a77e6e530187bdf.jpg: 1024x1024 4 Masss, 6 Spiculations, 2.3ms\n",
      "image 179/763 /home/rshah133/bcd/dataset/test/images/38982ad7ded99fb8504b0afb52d3e111.jpg: 1024x1024 (no detections), 2.3ms\n",
      "image 180/763 /home/rshah133/bcd/dataset/test/images/389e63a564ab355b88c8ec7391a11069.jpg: 1024x1024 2 Masss, 1 Spiculation, 2.3ms\n",
      "image 181/763 /home/rshah133/bcd/dataset/test/images/3920b4311fa5b13f5a2c9185156ae9d5.jpg: 1024x1024 5 Masss, 10 Spiculations, 2.3ms\n",
      "image 182/763 /home/rshah133/bcd/dataset/test/images/393bf60503222eda072cd9920da55cd1.jpg: 1024x1024 1 Mass, 1 Spiculation, 2.3ms\n",
      "image 183/763 /home/rshah133/bcd/dataset/test/images/3944b33b99c98e763763b9da54b4f41c.jpg: 1024x1024 (no detections), 2.3ms\n",
      "image 184/763 /home/rshah133/bcd/dataset/test/images/39b4736d81cf35512313a70cc8375269.jpg: 1024x1024 4 Masss, 16 Spiculations, 1 Skin Retraction, 2.3ms\n",
      "image 185/763 /home/rshah133/bcd/dataset/test/images/39f3ef0e8046a9b4e6c81262d634053d.jpg: 1024x1024 1 Mass, 2.3ms\n",
      "image 186/763 /home/rshah133/bcd/dataset/test/images/3a13455f3c15a6fd18a163cd9f654d26.jpg: 1024x1024 (no detections), 2.3ms\n",
      "image 187/763 /home/rshah133/bcd/dataset/test/images/3a6dffa30940fa8f5e115a9888eae9e8.jpg: 1024x1024 3 Masss, 13 Spiculations, 2.3ms\n",
      "image 188/763 /home/rshah133/bcd/dataset/test/images/3b3623000697c9c90501d71b68e41c8f.jpg: 1024x1024 3 Masss, 4 Spiculations, 2.3ms\n",
      "image 189/763 /home/rshah133/bcd/dataset/test/images/3b46267ffa238158eda9aa2a63a2c5ed.jpg: 1024x1024 1 Mass, 2.3ms\n",
      "image 190/763 /home/rshah133/bcd/dataset/test/images/3bb3b2b2842c76b37df73a4efcea25ba.jpg: 1024x1024 2 Masss, 7 Spiculations, 2.3ms\n",
      "image 191/763 /home/rshah133/bcd/dataset/test/images/3bee0f712a17866762153fc376b241ea.jpg: 1024x1024 5 Masss, 10 Spiculations, 2.3ms\n",
      "image 192/763 /home/rshah133/bcd/dataset/test/images/3bf39db5f55dbadd875a6aae874766c9.jpg: 1024x1024 4 Masss, 30 Spiculations, 1 Skin Retraction, 2.3ms\n",
      "image 193/763 /home/rshah133/bcd/dataset/test/images/3c315903764b853c05c059346675e1b7.jpg: 1024x1024 2 Masss, 2.3ms\n",
      "image 194/763 /home/rshah133/bcd/dataset/test/images/3c5348828c4b60b7cc165d3ed6c20ab8.jpg: 1024x1024 1 Mass, 2 Spiculations, 2.3ms\n",
      "image 195/763 /home/rshah133/bcd/dataset/test/images/3ca01aa63e24a7f0c873d0a939d1b003.jpg: 1024x1024 (no detections), 2.3ms\n",
      "image 196/763 /home/rshah133/bcd/dataset/test/images/3cae5e8986cdd9cd69afc0159d473717.jpg: 1024x1024 4 Masss, 12 Spiculations, 2.3ms\n",
      "image 197/763 /home/rshah133/bcd/dataset/test/images/3cf5b4d09a6085ad86491fade395eebd.jpg: 1024x1024 4 Masss, 11 Spiculations, 2.3ms\n",
      "image 198/763 /home/rshah133/bcd/dataset/test/images/3d086d99dfafbb52a8785c25426a82d5.jpg: 1024x1024 (no detections), 2.3ms\n",
      "image 199/763 /home/rshah133/bcd/dataset/test/images/3d6766d0893e835d0ed4dcbce74335ae.jpg: 1024x1024 (no detections), 2.3ms\n",
      "image 200/763 /home/rshah133/bcd/dataset/test/images/3d89638d839e41c1b51939a11fc3af42.jpg: 1024x1024 (no detections), 2.3ms\n",
      "image 201/763 /home/rshah133/bcd/dataset/test/images/3fcc4242c9e4a841fa6843880f1b18de.jpg: 1024x1024 1 Mass, 2.3ms\n",
      "image 202/763 /home/rshah133/bcd/dataset/test/images/41040a367358df02680bc6ce2ab7475b.jpg: 1024x1024 (no detections), 2.3ms\n",
      "image 203/763 /home/rshah133/bcd/dataset/test/images/41556f11a04b3b80889c2c930fc35d0d.jpg: 1024x1024 (no detections), 2.3ms\n",
      "image 204/763 /home/rshah133/bcd/dataset/test/images/4178ffa36ffe9808649b62752d17e94d.jpg: 1024x1024 3 Masss, 3 Spiculations, 2.3ms\n",
      "image 205/763 /home/rshah133/bcd/dataset/test/images/4274a76dcc9e28508eff58acc103dc73.jpg: 1024x1024 1 Mass, 2.3ms\n",
      "image 206/763 /home/rshah133/bcd/dataset/test/images/42e804e4529cbe41023c98a97afe3961.jpg: 1024x1024 2 Masss, 2.3ms\n",
      "image 207/763 /home/rshah133/bcd/dataset/test/images/42f76304c7825a09405739d899c6cd86.jpg: 1024x1024 6 Masss, 6 Spiculations, 2.3ms\n",
      "image 208/763 /home/rshah133/bcd/dataset/test/images/43361e8af5bd4f6a17194ad97b57c4f9.jpg: 1024x1024 2 Masss, 10 Spiculations, 2.3ms\n",
      "image 209/763 /home/rshah133/bcd/dataset/test/images/434d11c4a4ad519fd57ed3f8a5398418.jpg: 1024x1024 1 Mass, 2.3ms\n",
      "image 210/763 /home/rshah133/bcd/dataset/test/images/437a5cf58fedd970ffb2d9a00dea0d6c.jpg: 1024x1024 1 Mass, 2.3ms\n",
      "image 211/763 /home/rshah133/bcd/dataset/test/images/4387b27413006bf656d90e6ac07236a1.jpg: 1024x1024 2 Masss, 2.3ms\n",
      "image 212/763 /home/rshah133/bcd/dataset/test/images/43a32df43087ababd713b27ab53f2632.jpg: 1024x1024 (no detections), 2.3ms\n",
      "image 213/763 /home/rshah133/bcd/dataset/test/images/444aafc7f18fbcd01c4ae55f7bf4a843.jpg: 1024x1024 (no detections), 2.3ms\n",
      "image 214/763 /home/rshah133/bcd/dataset/test/images/444fe87673e99462984d6ffa1fa1854d.jpg: 1024x1024 10 Masss, 32 Spiculations, 1 Suspicious Calcification, 2.3ms\n",
      "image 215/763 /home/rshah133/bcd/dataset/test/images/44d35d157f5796ebc04b5fb51c3c1f12.jpg: 1024x1024 (no detections), 2.3ms\n",
      "image 216/763 /home/rshah133/bcd/dataset/test/images/453d94c08533802fc19d3ea67347e01a.jpg: 1024x1024 (no detections), 2.3ms\n",
      "image 217/763 /home/rshah133/bcd/dataset/test/images/45a8bc598847fa7a8ccb5f6e77e95ed5.jpg: 1024x1024 (no detections), 2.3ms\n",
      "image 218/763 /home/rshah133/bcd/dataset/test/images/45b1879e67c9b1e1f17b6590fca88c9d.jpg: 1024x1024 2 Masss, 2 Spiculations, 2.3ms\n",
      "image 219/763 /home/rshah133/bcd/dataset/test/images/45ec33150bc81286b4b654a76c9dbc2a.jpg: 1024x1024 (no detections), 2.3ms\n",
      "image 220/763 /home/rshah133/bcd/dataset/test/images/461f9ac171a4d3f2f965d7deeafd5625.jpg: 1024x1024 (no detections), 2.3ms\n",
      "image 221/763 /home/rshah133/bcd/dataset/test/images/4672c439719dbb46a78d19912f0473ac.jpg: 1024x1024 (no detections), 2.3ms\n",
      "image 222/763 /home/rshah133/bcd/dataset/test/images/467ef88ae1ce2bf8a5f28c36c20bd9d0.jpg: 1024x1024 (no detections), 2.3ms\n",
      "image 223/763 /home/rshah133/bcd/dataset/test/images/46c99229cd29d99ec8ab2ccfa164133f.jpg: 1024x1024 2 Masss, 2.3ms\n",
      "image 224/763 /home/rshah133/bcd/dataset/test/images/46d9c0dced48fa61647ce80db623491e.jpg: 1024x1024 5 Masss, 2.3ms\n",
      "image 225/763 /home/rshah133/bcd/dataset/test/images/46fe9f21de175afc50e5ed67a85bc4c2.jpg: 1024x1024 2 Masss, 4 Spiculations, 2.3ms\n",
      "image 226/763 /home/rshah133/bcd/dataset/test/images/472a2fe6865d2f3825e12758b3b194f2.jpg: 1024x1024 (no detections), 2.3ms\n",
      "image 227/763 /home/rshah133/bcd/dataset/test/images/4785b56fa6a49b939087d0544a04e65f.jpg: 1024x1024 1 Mass, 2.3ms\n",
      "image 228/763 /home/rshah133/bcd/dataset/test/images/480b6699cf40d11d14b4ce7ecdd0d6eb.jpg: 1024x1024 (no detections), 2.3ms\n",
      "image 229/763 /home/rshah133/bcd/dataset/test/images/49cf189f3a033a24396459793ad27017.jpg: 1024x1024 (no detections), 2.3ms\n",
      "image 230/763 /home/rshah133/bcd/dataset/test/images/49ef5e8188be5318bcca7a7e26fdd4b7.jpg: 1024x1024 5 Masss, 23 Spiculations, 2.3ms\n",
      "image 231/763 /home/rshah133/bcd/dataset/test/images/49f860ced6222146c04dd74355255abf.jpg: 1024x1024 4 Masss, 7 Spiculations, 2.3ms\n",
      "image 232/763 /home/rshah133/bcd/dataset/test/images/4a06e41e38450e4c6e743b8e8da1ec60.jpg: 1024x1024 4 Masss, 10 Spiculations, 2.3ms\n",
      "image 233/763 /home/rshah133/bcd/dataset/test/images/4ae52d114924c90767dfb6ab86ea460d.jpg: 1024x1024 1 Mass, 2.3ms\n",
      "image 234/763 /home/rshah133/bcd/dataset/test/images/4b08c4f184eb69a3c732c8e8eb627af8.jpg: 1024x1024 (no detections), 2.3ms\n",
      "image 235/763 /home/rshah133/bcd/dataset/test/images/4b1e47252823c8f580ac4b9e6c2429ce.jpg: 1024x1024 1 Mass, 2 Spiculations, 2.3ms\n",
      "image 236/763 /home/rshah133/bcd/dataset/test/images/4b2f606afd7ed6115e03f2ecc270c0bd.jpg: 1024x1024 7 Masss, 6 Spiculations, 2.3ms\n",
      "image 237/763 /home/rshah133/bcd/dataset/test/images/4b5c03776957085c6083e4046dd59580.jpg: 1024x1024 (no detections), 2.3ms\n",
      "image 238/763 /home/rshah133/bcd/dataset/test/images/4b9618d7a794a67ec6b53a187254b700.jpg: 1024x1024 3 Masss, 12 Spiculations, 2.3ms\n",
      "image 239/763 /home/rshah133/bcd/dataset/test/images/4bedc4697d4a92230ba840a09c82d590.jpg: 1024x1024 1 Mass, 2.3ms\n",
      "image 240/763 /home/rshah133/bcd/dataset/test/images/4c168062d124de078b02efb790f2a65c.jpg: 1024x1024 1 Mass, 2.3ms\n",
      "image 241/763 /home/rshah133/bcd/dataset/test/images/4c30f4f248be62ba9497754adeca5acd.jpg: 1024x1024 (no detections), 2.3ms\n",
      "image 242/763 /home/rshah133/bcd/dataset/test/images/4c3a8a7db202ea367baca51aa5b3b6d5.jpg: 1024x1024 3 Masss, 7 Spiculations, 2.3ms\n",
      "image 243/763 /home/rshah133/bcd/dataset/test/images/4c6de4e3e2259f0bb4e7f3a7e5243d3f.jpg: 1024x1024 2 Masss, 3 Spiculations, 2.3ms\n",
      "image 244/763 /home/rshah133/bcd/dataset/test/images/4c804ec7da66a17c85eae9ec8ae156e7.jpg: 1024x1024 2 Masss, 2.3ms\n",
      "image 245/763 /home/rshah133/bcd/dataset/test/images/4cbdb93f6b33b976dcb1578fb405e874.jpg: 1024x1024 2 Masss, 2 Spiculations, 2.3ms\n",
      "image 246/763 /home/rshah133/bcd/dataset/test/images/4cc2b68998e43d395389643a21ec0cb3.jpg: 1024x1024 (no detections), 2.3ms\n",
      "image 247/763 /home/rshah133/bcd/dataset/test/images/4ccf62726edc8b13770d311b9929f8e0.jpg: 1024x1024 1 Mass, 3 Spiculations, 2.3ms\n",
      "image 248/763 /home/rshah133/bcd/dataset/test/images/4d11b9d3d15d656ddc4313aec9ff6822.jpg: 1024x1024 8 Masss, 9 Spiculations, 1 Suspicious Calcification, 2.3ms\n",
      "image 249/763 /home/rshah133/bcd/dataset/test/images/4d1d2cd40d8db9f452bd1b01771c1f9a.jpg: 1024x1024 (no detections), 2.3ms\n",
      "image 250/763 /home/rshah133/bcd/dataset/test/images/4d40458601ac49f2e07a56ead392a189.jpg: 1024x1024 2 Masss, 2.3ms\n",
      "image 251/763 /home/rshah133/bcd/dataset/test/images/4d59a1f3bc1183b998c28b18f531fb9d.jpg: 1024x1024 3 Masss, 15 Spiculations, 2.3ms\n",
      "image 252/763 /home/rshah133/bcd/dataset/test/images/4d96d394fe4b20778014bdde96b5d34e.jpg: 1024x1024 2 Masss, 12 Spiculations, 2.3ms\n",
      "image 253/763 /home/rshah133/bcd/dataset/test/images/4dd908b41dbb97c46b7a8127ef88a647.jpg: 1024x1024 (no detections), 2.3ms\n",
      "image 254/763 /home/rshah133/bcd/dataset/test/images/4e18bc58696aa628e02c43be53b73cda.jpg: 1024x1024 4 Masss, 11 Spiculations, 2.3ms\n",
      "image 255/763 /home/rshah133/bcd/dataset/test/images/4e3a578fe535ea4f5258d3f7f4419db8.jpg: 1024x1024 6 Masss, 17 Spiculations, 2.3ms\n",
      "image 256/763 /home/rshah133/bcd/dataset/test/images/4f78dc1158558f3f6753e055c1c318a4.jpg: 1024x1024 2 Masss, 1 Spiculation, 2.3ms\n",
      "image 257/763 /home/rshah133/bcd/dataset/test/images/502045422196d1dfbe9742c277b0b6e7.jpg: 1024x1024 1 Spiculation, 2.3ms\n",
      "image 258/763 /home/rshah133/bcd/dataset/test/images/507ef0dd8b7e384f3b2e6c893286e2f4.jpg: 1024x1024 (no detections), 2.3ms\n",
      "image 259/763 /home/rshah133/bcd/dataset/test/images/510552a160e46b33a48b8c523568827b.jpg: 1024x1024 (no detections), 2.3ms\n",
      "image 260/763 /home/rshah133/bcd/dataset/test/images/519e1a01bd3c08ad8a46fc476730ca0c.jpg: 1024x1024 (no detections), 2.3ms\n",
      "image 261/763 /home/rshah133/bcd/dataset/test/images/525a35260f5484d6d3bcb897fbf16364.jpg: 1024x1024 1 Mass, 2.3ms\n",
      "image 262/763 /home/rshah133/bcd/dataset/test/images/5353337c9c256dfa34fa5c4b7aac27a6.jpg: 1024x1024 2 Masss, 1 Spiculation, 2.3ms\n",
      "image 263/763 /home/rshah133/bcd/dataset/test/images/54aa2758fbda627d811412679d95fb22.jpg: 1024x1024 6 Masss, 16 Spiculations, 2.3ms\n",
      "image 264/763 /home/rshah133/bcd/dataset/test/images/54b2fd916363b3e07667e3f1d65f085f.jpg: 1024x1024 1 Mass, 2.3ms\n",
      "image 265/763 /home/rshah133/bcd/dataset/test/images/551162489fd5e6b59336fc1eee7b7021.jpg: 1024x1024 5 Masss, 9 Spiculations, 2.3ms\n",
      "image 266/763 /home/rshah133/bcd/dataset/test/images/56e6be3a9219a18cb29fb012b692040d.jpg: 1024x1024 5 Masss, 26 Spiculations, 1 Suspicious Calcification, 2.3ms\n",
      "image 267/763 /home/rshah133/bcd/dataset/test/images/56fe870f46d9f4862df7cb81de2ddd17.jpg: 1024x1024 3 Masss, 1 Spiculation, 2.3ms\n",
      "image 268/763 /home/rshah133/bcd/dataset/test/images/5765fc3b2a44f33c127621b8f744425e.jpg: 1024x1024 2 Masss, 2 Spiculations, 2.3ms\n",
      "image 269/763 /home/rshah133/bcd/dataset/test/images/57b04a1958443efd27484f9e2d0b7615.jpg: 1024x1024 1 Mass, 2.3ms\n",
      "image 270/763 /home/rshah133/bcd/dataset/test/images/5899949ed2e472199815b90e5aacad67.jpg: 1024x1024 (no detections), 2.3ms\n",
      "image 271/763 /home/rshah133/bcd/dataset/test/images/592fc7ae253f7e6d8f070f06c5d3bed0.jpg: 1024x1024 3 Masss, 5 Spiculations, 2.3ms\n",
      "image 272/763 /home/rshah133/bcd/dataset/test/images/596a7f8bf2e64df0766de379086f84c9.jpg: 1024x1024 7 Masss, 18 Spiculations, 1 Suspicious Calcification, 2.3ms\n",
      "image 273/763 /home/rshah133/bcd/dataset/test/images/59efa30f975f06c7d17042c190fd7c42.jpg: 1024x1024 1 Mass, 2.3ms\n",
      "image 274/763 /home/rshah133/bcd/dataset/test/images/5a172903c1060312fd48a5e37a945d50.jpg: 1024x1024 1 Mass, 2.3ms\n",
      "image 275/763 /home/rshah133/bcd/dataset/test/images/5a5a99a13dc38d2f7dbfd0e89f941d31.jpg: 1024x1024 1 Mass, 6 Spiculations, 2.3ms\n",
      "image 276/763 /home/rshah133/bcd/dataset/test/images/5a81b119ee2a6bd1cc042fef59e0f207.jpg: 1024x1024 1 Mass, 2.3ms\n",
      "image 277/763 /home/rshah133/bcd/dataset/test/images/5a8bddeb3da3d0504e4ba9338b24ca0c.jpg: 1024x1024 (no detections), 2.3ms\n",
      "image 278/763 /home/rshah133/bcd/dataset/test/images/5b34564ccb99b6ef4e858015ee58b49e.jpg: 1024x1024 3 Masss, 8 Spiculations, 2.3ms\n",
      "image 279/763 /home/rshah133/bcd/dataset/test/images/5b6b4d5a5de2fdde7c42e99ce0805b12.jpg: 1024x1024 2 Masss, 1 Spiculation, 2.3ms\n",
      "image 280/763 /home/rshah133/bcd/dataset/test/images/5ba24c0cbea875bb4aa17c1ecae7e0f1.jpg: 1024x1024 1 Mass, 3 Spiculations, 2.3ms\n",
      "image 281/763 /home/rshah133/bcd/dataset/test/images/5babc8f7e8ede530d3f9229cc1d1548e.jpg: 1024x1024 2 Masss, 2.3ms\n",
      "image 282/763 /home/rshah133/bcd/dataset/test/images/5c0272f3dc9c06f9edb8b8a749a6cf8b.jpg: 1024x1024 5 Masss, 2.3ms\n",
      "image 283/763 /home/rshah133/bcd/dataset/test/images/5c2ed994f27089b2d48977790fce829b.jpg: 1024x1024 5 Masss, 2.3ms\n",
      "image 284/763 /home/rshah133/bcd/dataset/test/images/5c685c5c9bfa937cf5e0a4db37618578.jpg: 1024x1024 (no detections), 2.3ms\n",
      "image 285/763 /home/rshah133/bcd/dataset/test/images/5c7b4d2b53acefd6b1593e9021e581ce.jpg: 1024x1024 1 Mass, 1 Spiculation, 2.3ms\n",
      "image 286/763 /home/rshah133/bcd/dataset/test/images/5cb3de6d9a5c63eeb83d660420c9044c.jpg: 1024x1024 (no detections), 2.3ms\n",
      "image 287/763 /home/rshah133/bcd/dataset/test/images/5cf927a823056aaf204e6225cabe3b9f.jpg: 1024x1024 1 Mass, 2.3ms\n",
      "image 288/763 /home/rshah133/bcd/dataset/test/images/5d13674e2ed04208bf232e2eeb468f7a.jpg: 1024x1024 1 Mass, 2.3ms\n",
      "image 289/763 /home/rshah133/bcd/dataset/test/images/5d9efa5b29d0b6ac316a010f3f77acf6.jpg: 1024x1024 (no detections), 2.3ms\n",
      "image 290/763 /home/rshah133/bcd/dataset/test/images/5e13057da76d03f16a4a2e9e26a7dd66.jpg: 1024x1024 2 Masss, 4 Spiculations, 2.3ms\n",
      "image 291/763 /home/rshah133/bcd/dataset/test/images/5e16b129e337c2191bd0207390259575.jpg: 1024x1024 2 Masss, 2.3ms\n",
      "image 292/763 /home/rshah133/bcd/dataset/test/images/5e25359359311565e44e3db75ceb341e.jpg: 1024x1024 (no detections), 2.3ms\n",
      "image 293/763 /home/rshah133/bcd/dataset/test/images/5e2abd624c758a9ad40aa47db8d68ad0.jpg: 1024x1024 1 Mass, 2.3ms\n",
      "image 294/763 /home/rshah133/bcd/dataset/test/images/5f3962bf6fb1a8fe1968efefe3c0c791.jpg: 1024x1024 (no detections), 2.3ms\n",
      "image 295/763 /home/rshah133/bcd/dataset/test/images/5f4d6a2a1c739c9a772f78f57e7825d6.jpg: 1024x1024 1 Mass, 2.3ms\n",
      "image 296/763 /home/rshah133/bcd/dataset/test/images/5fc451ccea65adb2ba624fe0d3c456f1.jpg: 1024x1024 1 Mass, 2.3ms\n",
      "image 297/763 /home/rshah133/bcd/dataset/test/images/5fe8350c930a08ebc532cbb304f5642a.jpg: 1024x1024 (no detections), 2.3ms\n",
      "image 298/763 /home/rshah133/bcd/dataset/test/images/60fafaf810c5967c7f3bc03ebca7591d.jpg: 1024x1024 1 Mass, 2.3ms\n",
      "image 299/763 /home/rshah133/bcd/dataset/test/images/615cc9f9d3a1ed860e71280d2fb4d575.jpg: 1024x1024 1 Mass, 2 Spiculations, 2.3ms\n",
      "image 300/763 /home/rshah133/bcd/dataset/test/images/61639cfff95dae27b1a9953fbb7b4339.jpg: 1024x1024 (no detections), 2.3ms\n",
      "image 301/763 /home/rshah133/bcd/dataset/test/images/61755c4437985c8f56b6d5a3734d534b.jpg: 1024x1024 2 Masss, 2 Spiculations, 2.3ms\n",
      "image 302/763 /home/rshah133/bcd/dataset/test/images/61b7d796b410c6c13e094353a3a66266.jpg: 1024x1024 (no detections), 2.3ms\n",
      "image 303/763 /home/rshah133/bcd/dataset/test/images/62bc0c3735b87acc2c86f5c80497149b.jpg: 1024x1024 (no detections), 2.3ms\n",
      "image 304/763 /home/rshah133/bcd/dataset/test/images/632648b87efcae974030e8e9062dcaa5.jpg: 1024x1024 4 Masss, 3 Spiculations, 2.3ms\n",
      "image 305/763 /home/rshah133/bcd/dataset/test/images/6334ea4f303af58784d84f399dae396c.jpg: 1024x1024 2 Masss, 9 Spiculations, 2.3ms\n",
      "image 306/763 /home/rshah133/bcd/dataset/test/images/63c82e14fd966a8dc7fa9ae0d3d2dec2.jpg: 1024x1024 1 Mass, 2.3ms\n",
      "image 307/763 /home/rshah133/bcd/dataset/test/images/63fc9a74c6faa9ea7a869fe657201e70.jpg: 1024x1024 2 Masss, 2.3ms\n",
      "image 308/763 /home/rshah133/bcd/dataset/test/images/642e3c4fc9781baacd965a5d6b5d6f1f.jpg: 1024x1024 (no detections), 2.3ms\n",
      "image 309/763 /home/rshah133/bcd/dataset/test/images/645750c02921da235324e6b32b8d9eaf.jpg: 1024x1024 1 Mass, 2.3ms\n",
      "image 310/763 /home/rshah133/bcd/dataset/test/images/64d42f9afcf3a1252c682486cdda87a2.jpg: 1024x1024 1 Mass, 2.3ms\n",
      "image 311/763 /home/rshah133/bcd/dataset/test/images/64fdb492374ddfe9294ec558c3cf4fd9.jpg: 1024x1024 2 Masss, 2.3ms\n",
      "image 312/763 /home/rshah133/bcd/dataset/test/images/6539805fceb039119fb638034ffb5bd1.jpg: 1024x1024 (no detections), 2.3ms\n",
      "image 313/763 /home/rshah133/bcd/dataset/test/images/656d974e5440eb80c673a1b4d2d32a0c.jpg: 1024x1024 (no detections), 2.3ms\n",
      "image 314/763 /home/rshah133/bcd/dataset/test/images/659d73c36bccfd3f6deef0f75e994542.jpg: 1024x1024 (no detections), 2.3ms\n",
      "image 315/763 /home/rshah133/bcd/dataset/test/images/65cc9e7db32c047a5b13ed81767ac9fb.jpg: 1024x1024 (no detections), 2.3ms\n",
      "image 316/763 /home/rshah133/bcd/dataset/test/images/660d6f19556bd5eab8d81c40150c2ba0.jpg: 1024x1024 1 Mass, 1 Spiculation, 2.3ms\n",
      "image 317/763 /home/rshah133/bcd/dataset/test/images/664b12ccff1d1acfe8f965d87615ae3d.jpg: 1024x1024 (no detections), 2.3ms\n",
      "image 318/763 /home/rshah133/bcd/dataset/test/images/6680c41d30e2d394d6663a2ce4fec662.jpg: 1024x1024 5 Masss, 3 Spiculations, 2.3ms\n",
      "image 319/763 /home/rshah133/bcd/dataset/test/images/67190a4e7edcef162645acee9e14db4c.jpg: 1024x1024 (no detections), 2.3ms\n",
      "image 320/763 /home/rshah133/bcd/dataset/test/images/67eba147095e0fb7cc0fb928c08a6fa0.jpg: 1024x1024 1 Mass, 2.3ms\n",
      "image 321/763 /home/rshah133/bcd/dataset/test/images/68426a583c2e1f00535c459657a9c01c.jpg: 1024x1024 1 Mass, 2.3ms\n",
      "image 322/763 /home/rshah133/bcd/dataset/test/images/68485c632936e965249b2aee946aec2d.jpg: 1024x1024 (no detections), 2.3ms\n",
      "image 323/763 /home/rshah133/bcd/dataset/test/images/686c9c4b3bd36755a0ba9fa3af3fcc64.jpg: 1024x1024 4 Masss, 2.3ms\n",
      "image 324/763 /home/rshah133/bcd/dataset/test/images/6873d1aaecb91ad53eb43ac38a1fa258.jpg: 1024x1024 (no detections), 2.3ms\n",
      "image 325/763 /home/rshah133/bcd/dataset/test/images/688ece496be02afd7ee4ed6e3d5ab036.jpg: 1024x1024 3 Masss, 1 Spiculation, 2.3ms\n",
      "image 326/763 /home/rshah133/bcd/dataset/test/images/689d1143a98c1fe8d350b31390df9f44.jpg: 1024x1024 2 Masss, 2 Spiculations, 2.3ms\n",
      "image 327/763 /home/rshah133/bcd/dataset/test/images/68e4a2c85b46b78118fd2dac46a9afbb.jpg: 1024x1024 (no detections), 2.3ms\n",
      "image 328/763 /home/rshah133/bcd/dataset/test/images/6904df2bf7180487ad11bf6da7890b5b.jpg: 1024x1024 (no detections), 2.3ms\n",
      "image 329/763 /home/rshah133/bcd/dataset/test/images/695eb015c1143034838b1f25672d458a.jpg: 1024x1024 3 Masss, 4 Spiculations, 2.3ms\n",
      "image 330/763 /home/rshah133/bcd/dataset/test/images/69b872a225cb0e218a26a8a313ee3ef4.jpg: 1024x1024 (no detections), 2.3ms\n",
      "image 331/763 /home/rshah133/bcd/dataset/test/images/6b180003def75a5e79fb66a9c789d069.jpg: 1024x1024 3 Masss, 8 Spiculations, 2.3ms\n",
      "image 332/763 /home/rshah133/bcd/dataset/test/images/6b6b65d46cf68b3673b9a59c4cce9fc8.jpg: 1024x1024 (no detections), 2.3ms\n",
      "image 333/763 /home/rshah133/bcd/dataset/test/images/6b82b4db1acf975fb40f0ce6e5c1b8c3.jpg: 1024x1024 (no detections), 2.3ms\n",
      "image 334/763 /home/rshah133/bcd/dataset/test/images/6c1b365cbbaac1a040a005a3dd9c2f39.jpg: 1024x1024 3 Masss, 7 Spiculations, 2.3ms\n",
      "image 335/763 /home/rshah133/bcd/dataset/test/images/6c5ba6a34d007bceeccba36666c74ab0.jpg: 1024x1024 (no detections), 2.3ms\n",
      "image 336/763 /home/rshah133/bcd/dataset/test/images/6c89a90416411eecf56e5ea1fff2a1e2.jpg: 1024x1024 3 Masss, 7 Spiculations, 2.3ms\n",
      "image 337/763 /home/rshah133/bcd/dataset/test/images/6caa0cd509e3656be7e3c0c0cb3b7104.jpg: 1024x1024 (no detections), 2.3ms\n",
      "image 338/763 /home/rshah133/bcd/dataset/test/images/6cab0db67458b7c2bf4afade630adee5.jpg: 1024x1024 1 Mass, 2.3ms\n",
      "image 339/763 /home/rshah133/bcd/dataset/test/images/6d04b0e2eecf3dcfd92ba285c28b5a72.jpg: 1024x1024 2 Masss, 11 Spiculations, 2.3ms\n",
      "image 340/763 /home/rshah133/bcd/dataset/test/images/6d4b6ffcd0093b59556f16d3c4ab1bd9.jpg: 1024x1024 (no detections), 2.3ms\n",
      "image 341/763 /home/rshah133/bcd/dataset/test/images/6d6764cdde97f32e78e800e2c2345f61.jpg: 1024x1024 (no detections), 2.3ms\n",
      "image 342/763 /home/rshah133/bcd/dataset/test/images/6d9dc7a5dd8bdbe82eceb4424ca04cf5.jpg: 1024x1024 2 Masss, 1 Spiculation, 2.3ms\n",
      "image 343/763 /home/rshah133/bcd/dataset/test/images/6db25afb04a1b448503aa037a4b955f4.jpg: 1024x1024 2 Masss, 2.3ms\n",
      "image 344/763 /home/rshah133/bcd/dataset/test/images/6dd90b7d50185920027c3f00e6e2d3ff.jpg: 1024x1024 (no detections), 2.3ms\n",
      "image 345/763 /home/rshah133/bcd/dataset/test/images/6e0cfd8cdae637f4613868dbbc34b453.jpg: 1024x1024 4 Masss, 14 Spiculations, 2.3ms\n",
      "image 346/763 /home/rshah133/bcd/dataset/test/images/6e1d5fe56641dcdc0822aaad9e0652e6.jpg: 1024x1024 1 Mass, 2.3ms\n",
      "image 347/763 /home/rshah133/bcd/dataset/test/images/6e66c1b763178000c4742194dda4f8ad.jpg: 1024x1024 (no detections), 2.3ms\n",
      "image 348/763 /home/rshah133/bcd/dataset/test/images/6eb9494ffecd8972c597c49749159aca.jpg: 1024x1024 3 Masss, 1 Spiculation, 2.3ms\n",
      "image 349/763 /home/rshah133/bcd/dataset/test/images/6ec73d7e74c73265c4f9ed781ccecd71.jpg: 1024x1024 (no detections), 2.3ms\n",
      "image 350/763 /home/rshah133/bcd/dataset/test/images/6f79e94433bad7b196adf3f8d1705421.jpg: 1024x1024 3 Masss, 2.3ms\n",
      "image 351/763 /home/rshah133/bcd/dataset/test/images/6f8e34d9a3a750468528290d5813eb1a.jpg: 1024x1024 (no detections), 2.3ms\n",
      "image 352/763 /home/rshah133/bcd/dataset/test/images/6fa1786279e64980d80a34a88722836c.jpg: 1024x1024 (no detections), 2.3ms\n",
      "image 353/763 /home/rshah133/bcd/dataset/test/images/6ffc6c2d163e10db5e43dd845638f6e7.jpg: 1024x1024 1 Mass, 1 Spiculation, 2.3ms\n",
      "image 354/763 /home/rshah133/bcd/dataset/test/images/700d65782e684be66b823b388366620e.jpg: 1024x1024 1 Mass, 2.3ms\n",
      "image 355/763 /home/rshah133/bcd/dataset/test/images/7041e1f08dc535782a076cc92cf8f8a4.jpg: 1024x1024 (no detections), 2.3ms\n",
      "image 356/763 /home/rshah133/bcd/dataset/test/images/70f06b70e997e7aa42fe482e9c970dad.jpg: 1024x1024 (no detections), 2.3ms\n",
      "image 357/763 /home/rshah133/bcd/dataset/test/images/726355704c0328a581f9182fee4d198f.jpg: 1024x1024 1 Mass, 2.3ms\n",
      "image 358/763 /home/rshah133/bcd/dataset/test/images/726e579eb8982c5fb3c120039a64fe01.jpg: 1024x1024 4 Masss, 11 Spiculations, 2.3ms\n",
      "image 359/763 /home/rshah133/bcd/dataset/test/images/729fae337639d825ca83e563c6efedc6.jpg: 1024x1024 1 Mass, 2.3ms\n",
      "image 360/763 /home/rshah133/bcd/dataset/test/images/7323314998471cde47c6fba70ae6d32c.jpg: 1024x1024 2 Masss, 2.3ms\n",
      "image 361/763 /home/rshah133/bcd/dataset/test/images/735851f234a657318773c4cbbe4969cf.jpg: 1024x1024 3 Masss, 38 Spiculations, 2.3ms\n",
      "image 362/763 /home/rshah133/bcd/dataset/test/images/73780adfc36a5b11cd29afb387e01d3f.jpg: 1024x1024 (no detections), 2.3ms\n",
      "image 363/763 /home/rshah133/bcd/dataset/test/images/73903959dfe4f3c40cb6f0365945099a.jpg: 1024x1024 (no detections), 2.3ms\n",
      "image 364/763 /home/rshah133/bcd/dataset/test/images/73d20cbf87ec2637a3de9d950ad809b2.jpg: 1024x1024 1 Mass, 2.3ms\n",
      "image 365/763 /home/rshah133/bcd/dataset/test/images/73d9a9cb6d8d2685271440b9bd0bfc4b.jpg: 1024x1024 1 Mass, 2.3ms\n",
      "image 366/763 /home/rshah133/bcd/dataset/test/images/73f26353ddd5e31dc2926143a99c9d58.jpg: 1024x1024 4 Masss, 1 Spiculation, 1 Suspicious Calcification, 2.3ms\n",
      "image 367/763 /home/rshah133/bcd/dataset/test/images/7544cdb93b56593403252ce11ec63493.jpg: 1024x1024 (no detections), 2.3ms\n",
      "image 368/763 /home/rshah133/bcd/dataset/test/images/758f244ee63b11692fa627ce500852b9.jpg: 1024x1024 1 Mass, 2.3ms\n",
      "image 369/763 /home/rshah133/bcd/dataset/test/images/75dca2f372e9a594e1798edd09c44bf9.jpg: 1024x1024 3 Masss, 2.3ms\n",
      "image 370/763 /home/rshah133/bcd/dataset/test/images/75f0f091a9dc057a428db5761eff3475.jpg: 1024x1024 5 Masss, 13 Spiculations, 2.3ms\n",
      "image 371/763 /home/rshah133/bcd/dataset/test/images/767f72e2635ddf53b940ade1732aba03.jpg: 1024x1024 4 Masss, 5 Spiculations, 2.3ms\n",
      "image 372/763 /home/rshah133/bcd/dataset/test/images/76b909c5601fe92762a1d85395a9c54b.jpg: 1024x1024 (no detections), 2.3ms\n",
      "image 373/763 /home/rshah133/bcd/dataset/test/images/77d49b4e04e521557c0e6281932d5151.jpg: 1024x1024 (no detections), 2.3ms\n",
      "image 374/763 /home/rshah133/bcd/dataset/test/images/77f31b96295aff83e7a21df366da19b1.jpg: 1024x1024 1 Mass, 2.3ms\n",
      "image 375/763 /home/rshah133/bcd/dataset/test/images/7814ef105bbc93199c8e2577a3205990.jpg: 1024x1024 7 Masss, 8 Spiculations, 2.3ms\n",
      "image 376/763 /home/rshah133/bcd/dataset/test/images/78451d4b68941dc6805bb6ed08f86412.jpg: 1024x1024 (no detections), 2.3ms\n",
      "image 377/763 /home/rshah133/bcd/dataset/test/images/79109e3f4882534cc64d7cad55dfa76f.jpg: 1024x1024 1 Mass, 2.3ms\n",
      "image 378/763 /home/rshah133/bcd/dataset/test/images/7a104d6589701c732ddf0c0a22ed68d2.jpg: 1024x1024 (no detections), 2.3ms\n",
      "image 379/763 /home/rshah133/bcd/dataset/test/images/7a6c57ce6034053ca02a8cd32549db7f.jpg: 1024x1024 5 Masss, 11 Spiculations, 2.3ms\n",
      "image 380/763 /home/rshah133/bcd/dataset/test/images/7bee6a6a6877762b7a40dcd9878f0e85.jpg: 1024x1024 4 Masss, 2 Spiculations, 2.3ms\n",
      "image 381/763 /home/rshah133/bcd/dataset/test/images/7c0aad3e72c7253321cb4986137f3f20.jpg: 1024x1024 (no detections), 2.3ms\n",
      "image 382/763 /home/rshah133/bcd/dataset/test/images/7c4891b5d07df8817a24947c8ef613ce.jpg: 1024x1024 (no detections), 2.3ms\n",
      "image 383/763 /home/rshah133/bcd/dataset/test/images/7cbfcf34be7198528dde3e9d159df4a0.jpg: 1024x1024 2 Masss, 1 Spiculation, 2.3ms\n",
      "image 384/763 /home/rshah133/bcd/dataset/test/images/7ce6d14b8b32e11881fc1ce635f205dd.jpg: 1024x1024 (no detections), 2.3ms\n",
      "image 385/763 /home/rshah133/bcd/dataset/test/images/7d13a9b1bc20e17abe19fcee64e52070.jpg: 1024x1024 1 Mass, 2.3ms\n",
      "image 386/763 /home/rshah133/bcd/dataset/test/images/7d828ecc31330cfaedd7c052712656a6.jpg: 1024x1024 4 Masss, 12 Spiculations, 2.3ms\n",
      "image 387/763 /home/rshah133/bcd/dataset/test/images/7e279279174120a7bd49d2e142c0bac6.jpg: 1024x1024 (no detections), 2.3ms\n",
      "image 388/763 /home/rshah133/bcd/dataset/test/images/7e37ee2b545f00f8c54e7bcb60b0f515.jpg: 1024x1024 1 Mass, 1 Spiculation, 2.3ms\n",
      "image 389/763 /home/rshah133/bcd/dataset/test/images/7e4cb36605cfe77511eddcdb78312a42.jpg: 1024x1024 2 Masss, 4 Spiculations, 2.3ms\n",
      "image 390/763 /home/rshah133/bcd/dataset/test/images/7eb213019e972514b4ce6ccb53df509a.jpg: 1024x1024 1 Mass, 2.3ms\n",
      "image 391/763 /home/rshah133/bcd/dataset/test/images/7f1638ea57dd009b6a86d47f7a369fa2.jpg: 1024x1024 3 Masss, 1 Spiculation, 2.3ms\n",
      "image 392/763 /home/rshah133/bcd/dataset/test/images/7f702504f424839b37f42cd4f884c0b4.jpg: 1024x1024 3 Masss, 6 Spiculations, 2.3ms\n",
      "image 393/763 /home/rshah133/bcd/dataset/test/images/80782a78ce39bae561649b1d95df085b.jpg: 1024x1024 (no detections), 2.3ms\n",
      "image 394/763 /home/rshah133/bcd/dataset/test/images/80a19174eea887c90779fc040405258f.jpg: 1024x1024 1 Mass, 2.3ms\n",
      "image 395/763 /home/rshah133/bcd/dataset/test/images/80d1c8b91477afa2378cbfc7f1266dac.jpg: 1024x1024 1 Mass, 1 Spiculation, 2.3ms\n",
      "image 396/763 /home/rshah133/bcd/dataset/test/images/80ff81c8618e00bc6834842e800a2230.jpg: 1024x1024 (no detections), 2.3ms\n",
      "image 397/763 /home/rshah133/bcd/dataset/test/images/812ac0e47a788ac6d95720067cfd42e9.jpg: 1024x1024 4 Masss, 7 Spiculations, 1 Suspicious Calcification, 2.3ms\n",
      "image 398/763 /home/rshah133/bcd/dataset/test/images/8205786e592bdcab2587481ffa1b350b.jpg: 1024x1024 (no detections), 2.3ms\n",
      "image 399/763 /home/rshah133/bcd/dataset/test/images/829cbbdd27eed0a50c728b7a5f2b0683.jpg: 1024x1024 2 Masss, 2.3ms\n",
      "image 400/763 /home/rshah133/bcd/dataset/test/images/834e9a35cdc92f2c45e31e80f9cc8ce0.jpg: 1024x1024 1 Mass, 2.3ms\n",
      "image 401/763 /home/rshah133/bcd/dataset/test/images/83be060130997ca7b67b3979978a5d29.jpg: 1024x1024 (no detections), 2.3ms\n",
      "image 402/763 /home/rshah133/bcd/dataset/test/images/8470557fec9bd5f0f1b30ec48b1d8654.jpg: 1024x1024 (no detections), 2.3ms\n",
      "image 403/763 /home/rshah133/bcd/dataset/test/images/847d82f41872e77590bb7cde05a60fcd.jpg: 1024x1024 1 Mass, 2.3ms\n",
      "image 404/763 /home/rshah133/bcd/dataset/test/images/84a662914bd6294e308b3a5611e91443.jpg: 1024x1024 (no detections), 2.3ms\n",
      "image 405/763 /home/rshah133/bcd/dataset/test/images/8504e56624c4db7a4be8f367136b94e3.jpg: 1024x1024 2 Masss, 2.3ms\n",
      "image 406/763 /home/rshah133/bcd/dataset/test/images/8544f5b224566c38928fd793d2f5870a.jpg: 1024x1024 2 Masss, 2.3ms\n",
      "image 407/763 /home/rshah133/bcd/dataset/test/images/85939e3cfdb707f342917c1f56a56306.jpg: 1024x1024 (no detections), 2.3ms\n",
      "image 408/763 /home/rshah133/bcd/dataset/test/images/85b980b0ee480186d1aa66527ba20349.jpg: 1024x1024 4 Masss, 6 Spiculations, 1 Suspicious Calcification, 2.3ms\n",
      "image 409/763 /home/rshah133/bcd/dataset/test/images/862e22b040bf23946e96da765f9871c1.jpg: 1024x1024 (no detections), 2.3ms\n",
      "image 410/763 /home/rshah133/bcd/dataset/test/images/869bb44e02d05f5754c2f6df394e6d9a.jpg: 1024x1024 (no detections), 2.3ms\n",
      "image 411/763 /home/rshah133/bcd/dataset/test/images/86d16a47cfcb661ae42790626f4df712.jpg: 1024x1024 (no detections), 2.3ms\n",
      "image 412/763 /home/rshah133/bcd/dataset/test/images/86d6bf4089c8c873badf6323750c7028.jpg: 1024x1024 3 Masss, 2 Spiculations, 2.3ms\n",
      "image 413/763 /home/rshah133/bcd/dataset/test/images/87207460ecda3b86f570e495a65cef48.jpg: 1024x1024 4 Masss, 1 Spiculation, 2.3ms\n",
      "image 414/763 /home/rshah133/bcd/dataset/test/images/8734b09ebb2fb2b28e553237bd5a7074.jpg: 1024x1024 3 Masss, 6 Spiculations, 2.3ms\n",
      "image 415/763 /home/rshah133/bcd/dataset/test/images/875cf45e7952e6bd9b2ef7ed0df5259f.jpg: 1024x1024 1 Mass, 2.3ms\n",
      "image 416/763 /home/rshah133/bcd/dataset/test/images/87c927e8d708fe1907e598d6d1e82f6a.jpg: 1024x1024 3 Masss, 4 Spiculations, 2.3ms\n",
      "image 417/763 /home/rshah133/bcd/dataset/test/images/87f492b1ef0b4090691311a40b81da6f.jpg: 1024x1024 2 Masss, 2.3ms\n",
      "image 418/763 /home/rshah133/bcd/dataset/test/images/89537aa9ac593c57e7375f1572e3e773.jpg: 1024x1024 6 Masss, 3 Spiculations, 2.3ms\n",
      "image 419/763 /home/rshah133/bcd/dataset/test/images/895919f94d2054826bc04c14f45f080c.jpg: 1024x1024 1 Mass, 4 Spiculations, 2.3ms\n",
      "image 420/763 /home/rshah133/bcd/dataset/test/images/8c799782afb5ab3a1a9cd5236dbddb98.jpg: 1024x1024 3 Masss, 2 Spiculations, 2.3ms\n",
      "image 421/763 /home/rshah133/bcd/dataset/test/images/8c90a9536079688965102363c77df077.jpg: 1024x1024 2 Masss, 4 Spiculations, 2.3ms\n",
      "image 422/763 /home/rshah133/bcd/dataset/test/images/8c91dd4b7b90a82ea2f89627d2f67092.jpg: 1024x1024 3 Masss, 2.3ms\n",
      "image 423/763 /home/rshah133/bcd/dataset/test/images/8ca0d1b5937e87ebe91e09d4e45bcf73.jpg: 1024x1024 1 Mass, 2.3ms\n",
      "image 424/763 /home/rshah133/bcd/dataset/test/images/8cf6ce9707a45986000b816af94d3087.jpg: 1024x1024 2 Masss, 1 Spiculation, 2.3ms\n",
      "image 425/763 /home/rshah133/bcd/dataset/test/images/8d1b963cc8a5d8688e289343ec36448b.jpg: 1024x1024 (no detections), 2.3ms\n",
      "image 426/763 /home/rshah133/bcd/dataset/test/images/8d9552b0949ee990570328d0410557ff.jpg: 1024x1024 7 Masss, 10 Spiculations, 2.3ms\n",
      "image 427/763 /home/rshah133/bcd/dataset/test/images/8ed0618edab59a40763a118c052a52ba.jpg: 1024x1024 4 Masss, 1 Spiculation, 2.3ms\n",
      "image 428/763 /home/rshah133/bcd/dataset/test/images/8ee444c21b4152204f05ef7b5358005f.jpg: 1024x1024 1 Mass, 2.3ms\n",
      "image 429/763 /home/rshah133/bcd/dataset/test/images/8f654b8d214b8879b67581646abe35c5.jpg: 1024x1024 2 Masss, 1 Spiculation, 2.3ms\n",
      "image 430/763 /home/rshah133/bcd/dataset/test/images/8f7a74bfa165aab965cf57eb16bbae42.jpg: 1024x1024 7 Masss, 5 Spiculations, 2.3ms\n",
      "image 431/763 /home/rshah133/bcd/dataset/test/images/8f8b8753a20d498f979730a9388ccdbd.jpg: 1024x1024 3 Masss, 2 Spiculations, 2.3ms\n",
      "image 432/763 /home/rshah133/bcd/dataset/test/images/8f8f85ba3c6645915c5349f6a6d5a875.jpg: 1024x1024 (no detections), 2.3ms\n",
      "image 433/763 /home/rshah133/bcd/dataset/test/images/8fb613d708077bd1d64b7e4302b6e920.jpg: 1024x1024 1 Mass, 2.3ms\n",
      "image 434/763 /home/rshah133/bcd/dataset/test/images/9076323f4b661b4b57a9229b869c62c7.jpg: 1024x1024 1 Mass, 10 Spiculations, 2.3ms\n",
      "image 435/763 /home/rshah133/bcd/dataset/test/images/91c595ab22a73f5a0ae616cdf9e0d1c2.jpg: 1024x1024 3 Masss, 3 Spiculations, 2.3ms\n",
      "image 436/763 /home/rshah133/bcd/dataset/test/images/91e6da7cb97216fc732bc777b9f5a4c0.jpg: 1024x1024 2 Masss, 2.3ms\n",
      "image 437/763 /home/rshah133/bcd/dataset/test/images/91f01e407f632c7d2370e5dd106f1c85.jpg: 1024x1024 4 Masss, 4 Spiculations, 2.3ms\n",
      "image 438/763 /home/rshah133/bcd/dataset/test/images/91f8118d5aad4eaa03d93e7c125ef241.jpg: 1024x1024 (no detections), 2.3ms\n",
      "image 439/763 /home/rshah133/bcd/dataset/test/images/925d349f7ed58f46aab52f42bde3098f.jpg: 1024x1024 (no detections), 2.3ms\n",
      "image 440/763 /home/rshah133/bcd/dataset/test/images/92822f55b4e5dd81f78d3544eee96174.jpg: 1024x1024 (no detections), 2.3ms\n",
      "image 441/763 /home/rshah133/bcd/dataset/test/images/9330f08b02db571dcfd55ddffeb66189.jpg: 1024x1024 3 Masss, 2.3ms\n",
      "image 442/763 /home/rshah133/bcd/dataset/test/images/93960b56ba5808e9047aff73cf9b0762.jpg: 1024x1024 (no detections), 2.3ms\n",
      "image 443/763 /home/rshah133/bcd/dataset/test/images/93d73dcc375beef7317418682953cb2d.jpg: 1024x1024 5 Masss, 18 Spiculations, 2.3ms\n",
      "image 444/763 /home/rshah133/bcd/dataset/test/images/93e32b8e29a6ab2c5d2201ca53242efd.jpg: 1024x1024 1 Mass, 2.3ms\n",
      "image 445/763 /home/rshah133/bcd/dataset/test/images/93ed0aed7d5768f948fcc46861b4123e.jpg: 1024x1024 (no detections), 2.3ms\n",
      "image 446/763 /home/rshah133/bcd/dataset/test/images/9482a0d32b85123f738360855c2a3a3a.jpg: 1024x1024 4 Masss, 2 Spiculations, 2.3ms\n",
      "image 447/763 /home/rshah133/bcd/dataset/test/images/949f01bd6f057e07fe96ca9021dbab48.jpg: 1024x1024 (no detections), 2.3ms\n",
      "image 448/763 /home/rshah133/bcd/dataset/test/images/94e4d888c947abda8f191f8f74e5d7bc.jpg: 1024x1024 5 Masss, 10 Spiculations, 2.3ms\n",
      "image 449/763 /home/rshah133/bcd/dataset/test/images/94e81289c5b5678e4b6e4017e1296121.jpg: 1024x1024 6 Masss, 14 Spiculations, 1 Suspicious Calcification, 2.3ms\n",
      "image 450/763 /home/rshah133/bcd/dataset/test/images/9515868b0e0de7195161d62e0f580dcc.jpg: 1024x1024 4 Masss, 2.3ms\n",
      "image 451/763 /home/rshah133/bcd/dataset/test/images/952db864c34b4f02eeabc1559fda2058.jpg: 1024x1024 4 Masss, 37 Spiculations, 2.3ms\n",
      "image 452/763 /home/rshah133/bcd/dataset/test/images/9537edc9696af1f34570b16b81f86f50.jpg: 1024x1024 (no detections), 2.3ms\n",
      "image 453/763 /home/rshah133/bcd/dataset/test/images/95fc8c105d16ac569c2a2ac2966e8c55.jpg: 1024x1024 1 Mass, 2.3ms\n",
      "image 454/763 /home/rshah133/bcd/dataset/test/images/961e54f3e891e37cb1081918fad44bf9.jpg: 1024x1024 (no detections), 2.3ms\n",
      "image 455/763 /home/rshah133/bcd/dataset/test/images/96644e4db54cfd8459a512926a00442d.jpg: 1024x1024 2 Masss, 4 Spiculations, 2.3ms\n",
      "image 456/763 /home/rshah133/bcd/dataset/test/images/96eb9c4bdf059f2f8da825bfc0a3ba69.jpg: 1024x1024 (no detections), 2.3ms\n",
      "image 457/763 /home/rshah133/bcd/dataset/test/images/97b36b94a940b61017d4dd6cbbf5b8fc.jpg: 1024x1024 (no detections), 2.3ms\n",
      "image 458/763 /home/rshah133/bcd/dataset/test/images/97e90b4336c0cd53630a131837c03f1c.jpg: 1024x1024 (no detections), 2.3ms\n",
      "image 459/763 /home/rshah133/bcd/dataset/test/images/984d290c15646f9113498a06d0a87b3c.jpg: 1024x1024 5 Masss, 19 Spiculations, 2.3ms\n",
      "image 460/763 /home/rshah133/bcd/dataset/test/images/9885ede01e60756028ae87eea39d4cc1.jpg: 1024x1024 (no detections), 2.3ms\n",
      "image 461/763 /home/rshah133/bcd/dataset/test/images/988ccc99f679d639da61c0d2603966a1.jpg: 1024x1024 3 Masss, 2 Spiculations, 2.3ms\n",
      "image 462/763 /home/rshah133/bcd/dataset/test/images/991ef61ff40bcdce779998db52b2d317.jpg: 1024x1024 (no detections), 2.3ms\n",
      "image 463/763 /home/rshah133/bcd/dataset/test/images/997e15346547ff56b4209ac73e74556f.jpg: 1024x1024 (no detections), 2.3ms\n",
      "image 464/763 /home/rshah133/bcd/dataset/test/images/9992a1941e974a38b391b2a5fa78e6c6.jpg: 1024x1024 (no detections), 2.3ms\n",
      "image 465/763 /home/rshah133/bcd/dataset/test/images/99afa546c964312caccb304f5e8f7a15.jpg: 1024x1024 1 Mass, 2.3ms\n",
      "image 466/763 /home/rshah133/bcd/dataset/test/images/99f5d42f781a68bf912189a86e6503d9.jpg: 1024x1024 3 Masss, 2 Spiculations, 2.3ms\n",
      "image 467/763 /home/rshah133/bcd/dataset/test/images/9b02648262402328fc7e5bbaf4723a89.jpg: 1024x1024 1 Mass, 2.3ms\n",
      "image 468/763 /home/rshah133/bcd/dataset/test/images/9b082dda34fe36504753ca7a1a080153.jpg: 1024x1024 2 Masss, 6 Spiculations, 2.3ms\n",
      "image 469/763 /home/rshah133/bcd/dataset/test/images/9b128499fd3b3e33f8bfe40db94924c3.jpg: 1024x1024 1 Mass, 2.3ms\n",
      "image 470/763 /home/rshah133/bcd/dataset/test/images/9b41ab605b23a804f8891e25b37097fd.jpg: 1024x1024 2 Masss, 5 Spiculations, 2.3ms\n",
      "image 471/763 /home/rshah133/bcd/dataset/test/images/9ba92f29441854cfcb0c2abc08a013c6.jpg: 1024x1024 (no detections), 2.3ms\n",
      "image 472/763 /home/rshah133/bcd/dataset/test/images/9be8f8e91569f85bf8472c9eacc47753.jpg: 1024x1024 5 Masss, 9 Spiculations, 2.3ms\n",
      "image 473/763 /home/rshah133/bcd/dataset/test/images/9c17baacaeb80482b4ce778e64b792f5.jpg: 1024x1024 (no detections), 2.3ms\n",
      "image 474/763 /home/rshah133/bcd/dataset/test/images/9ca728553d6b22dbce7e5af4eb380424.jpg: 1024x1024 6 Masss, 10 Spiculations, 2.3ms\n",
      "image 475/763 /home/rshah133/bcd/dataset/test/images/9ccbcb1dc6337f6177f70f03f6815c78.jpg: 1024x1024 1 Mass, 2.3ms\n",
      "image 476/763 /home/rshah133/bcd/dataset/test/images/9ccbdc3148ab9ef203d25d26053cabf1.jpg: 1024x1024 2 Masss, 2.3ms\n",
      "image 477/763 /home/rshah133/bcd/dataset/test/images/9cda9b93e5130a856ff7b435ab940e85.jpg: 1024x1024 1 Mass, 3 Spiculations, 2.3ms\n",
      "image 478/763 /home/rshah133/bcd/dataset/test/images/9ce14208660e0a576713f532e9867557.jpg: 1024x1024 2 Masss, 2.3ms\n",
      "image 479/763 /home/rshah133/bcd/dataset/test/images/9cf1b84dd3c497347156616058d8b11e.jpg: 1024x1024 6 Masss, 7 Spiculations, 2.3ms\n",
      "image 480/763 /home/rshah133/bcd/dataset/test/images/9e8efd5d79c5e66abee2aeb0b2360e9c.jpg: 1024x1024 (no detections), 2.3ms\n",
      "image 481/763 /home/rshah133/bcd/dataset/test/images/9ea9d05c4f2b57688f04257d9b9b6ab5.jpg: 1024x1024 2 Masss, 2 Spiculations, 2.3ms\n",
      "image 482/763 /home/rshah133/bcd/dataset/test/images/9eac03525ce74859de0f3643d611ef78.jpg: 1024x1024 3 Masss, 14 Spiculations, 2.3ms\n",
      "image 483/763 /home/rshah133/bcd/dataset/test/images/9ed0db9a85b0a25cf259b1b88518e9ac.jpg: 1024x1024 6 Masss, 4 Spiculations, 1 Suspicious Calcification, 2.3ms\n",
      "image 484/763 /home/rshah133/bcd/dataset/test/images/9edf7793eb2d8981f2635dcb59f7568c.jpg: 1024x1024 1 Mass, 2.3ms\n",
      "image 485/763 /home/rshah133/bcd/dataset/test/images/9f3a7288c7c0d992ffe69a23fe34b1e4.jpg: 1024x1024 4 Masss, 2 Spiculations, 2.3ms\n",
      "image 486/763 /home/rshah133/bcd/dataset/test/images/9f65a2368a5df60f1910d687067ced3b.jpg: 1024x1024 (no detections), 2.3ms\n",
      "image 487/763 /home/rshah133/bcd/dataset/test/images/9faf94bbaf5fa58149b5aee0d0f97c0f.jpg: 1024x1024 1 Mass, 1 Spiculation, 2.3ms\n",
      "image 488/763 /home/rshah133/bcd/dataset/test/images/a0360303198e7a4b60566c2d2193e7b8.jpg: 1024x1024 (no detections), 2.3ms\n",
      "image 489/763 /home/rshah133/bcd/dataset/test/images/a0694adf9540b4f755dfdbcf3b1eb725.jpg: 1024x1024 1 Mass, 11 Spiculations, 2.3ms\n",
      "image 490/763 /home/rshah133/bcd/dataset/test/images/a09e8001e6b29128dcae4cc0d1b02cca.jpg: 1024x1024 1 Mass, 2.3ms\n",
      "image 491/763 /home/rshah133/bcd/dataset/test/images/a0fdff91676e8e3cee89af8a2d0eea82.jpg: 1024x1024 (no detections), 2.3ms\n",
      "image 492/763 /home/rshah133/bcd/dataset/test/images/a170a92368091b985595f6b1d18f2154.jpg: 1024x1024 1 Mass, 2.3ms\n",
      "image 493/763 /home/rshah133/bcd/dataset/test/images/a1e6ff1084b1af114814a95a83f5e744.jpg: 1024x1024 1 Mass, 2.3ms\n",
      "image 494/763 /home/rshah133/bcd/dataset/test/images/a2b207fbb38e7522dc318d2ca7a56d19.jpg: 1024x1024 1 Mass, 2.3ms\n",
      "image 495/763 /home/rshah133/bcd/dataset/test/images/a2ce545b7d7d400e6599dcba1fb0b5b6.jpg: 1024x1024 1 Mass, 2 Spiculations, 2.3ms\n",
      "image 496/763 /home/rshah133/bcd/dataset/test/images/a3214c506a005b639b4d720de9cea847.jpg: 1024x1024 (no detections), 2.3ms\n",
      "image 497/763 /home/rshah133/bcd/dataset/test/images/a321db55863a3c192f1b6ba790e62c07.jpg: 1024x1024 9 Masss, 5 Spiculations, 2.3ms\n",
      "image 498/763 /home/rshah133/bcd/dataset/test/images/a37e508fc994c1c7a846ec23edfb400f.jpg: 1024x1024 3 Masss, 11 Spiculations, 2.3ms\n",
      "image 499/763 /home/rshah133/bcd/dataset/test/images/a3abc78b80b104b171f2dd76c215f1a5.jpg: 1024x1024 1 Mass, 2.3ms\n",
      "image 500/763 /home/rshah133/bcd/dataset/test/images/a41a04883364dff4df3b28905809d335.jpg: 1024x1024 (no detections), 2.3ms\n",
      "image 501/763 /home/rshah133/bcd/dataset/test/images/a42275264e5c92ac2f49e6a858f9a6ee.jpg: 1024x1024 (no detections), 2.3ms\n",
      "image 502/763 /home/rshah133/bcd/dataset/test/images/a4d498287af7763bac9ccb7b596d4939.jpg: 1024x1024 2 Masss, 1 Spiculation, 2.3ms\n",
      "image 503/763 /home/rshah133/bcd/dataset/test/images/a5531d44882d34c7ce26fbfe79209812.jpg: 1024x1024 2 Masss, 2.3ms\n",
      "image 504/763 /home/rshah133/bcd/dataset/test/images/a5679dc25691dc85f0639be26b421195.jpg: 1024x1024 (no detections), 2.3ms\n",
      "image 505/763 /home/rshah133/bcd/dataset/test/images/a68ac084d4c324ce9376320a34362558.jpg: 1024x1024 (no detections), 2.3ms\n",
      "image 506/763 /home/rshah133/bcd/dataset/test/images/a697cd84b7b97518603b8fd39674dd01.jpg: 1024x1024 10 Masss, 19 Spiculations, 2.3ms\n",
      "image 507/763 /home/rshah133/bcd/dataset/test/images/a6bb433105ba47d9cdc9f368a8c261a9.jpg: 1024x1024 2 Masss, 1 Spiculation, 2.3ms\n",
      "image 508/763 /home/rshah133/bcd/dataset/test/images/a763d5dfd875b5575918bd8e97c651f6.jpg: 1024x1024 1 Mass, 1 Spiculation, 2.3ms\n",
      "image 509/763 /home/rshah133/bcd/dataset/test/images/a8472717fea3274901241416ac02349e.jpg: 1024x1024 1 Mass, 2.3ms\n",
      "image 510/763 /home/rshah133/bcd/dataset/test/images/a84bedfa211483078c78e5e4e9a4b3f0.jpg: 1024x1024 4 Masss, 5 Spiculations, 2.3ms\n",
      "image 511/763 /home/rshah133/bcd/dataset/test/images/a8f4c712717ecf44064c37cc841154f1.jpg: 1024x1024 1 Mass, 1 Spiculation, 2.3ms\n",
      "image 512/763 /home/rshah133/bcd/dataset/test/images/a8fbb157acfc2dc455049f6d91b8483d.jpg: 1024x1024 1 Mass, 2.3ms\n",
      "image 513/763 /home/rshah133/bcd/dataset/test/images/a93f1732181e8dc316aaa1dcb2625d37.jpg: 1024x1024 (no detections), 2.3ms\n",
      "image 514/763 /home/rshah133/bcd/dataset/test/images/a946022ece3bfd27edd0c9ec512caff8.jpg: 1024x1024 2 Masss, 2 Spiculations, 2.3ms\n",
      "image 515/763 /home/rshah133/bcd/dataset/test/images/a9c839293c5d12e8ccccd20281ffb692.jpg: 1024x1024 (no detections), 2.3ms\n",
      "image 516/763 /home/rshah133/bcd/dataset/test/images/aad09d3b49967b0e47f36138aa513b27.jpg: 1024x1024 (no detections), 2.3ms\n",
      "image 517/763 /home/rshah133/bcd/dataset/test/images/aaf180356247eebe6ede4eee979c47f2.jpg: 1024x1024 (no detections), 2.3ms\n",
      "image 518/763 /home/rshah133/bcd/dataset/test/images/ab972de519306ea9c1ce7629e8145cdf.jpg: 1024x1024 4 Masss, 6 Spiculations, 2.3ms\n",
      "image 519/763 /home/rshah133/bcd/dataset/test/images/ac315834dc489efe6d1e96d93ae8369d.jpg: 1024x1024 (no detections), 2.3ms\n",
      "image 520/763 /home/rshah133/bcd/dataset/test/images/ac546428a3bcaacc13ae92161932cc3d.jpg: 1024x1024 (no detections), 2.3ms\n",
      "image 521/763 /home/rshah133/bcd/dataset/test/images/aca3b43ea31f8a59d580742da52fc98f.jpg: 1024x1024 3 Masss, 2.3ms\n",
      "image 522/763 /home/rshah133/bcd/dataset/test/images/ad50a0920f06e7bf2ff5ea7e4eda123a.jpg: 1024x1024 1 Mass, 3 Spiculations, 2.3ms\n",
      "image 523/763 /home/rshah133/bcd/dataset/test/images/adb001c2aa189526561abc1ceb82810b.jpg: 1024x1024 1 Mass, 1 Spiculation, 2.3ms\n",
      "image 524/763 /home/rshah133/bcd/dataset/test/images/adceda15be6b2af50774ec5e223ef25b.jpg: 1024x1024 5 Masss, 3 Spiculations, 2.3ms\n",
      "image 525/763 /home/rshah133/bcd/dataset/test/images/ae11bc8148353ad7c7865b87c9c6c6a5.jpg: 1024x1024 (no detections), 2.3ms\n",
      "image 526/763 /home/rshah133/bcd/dataset/test/images/ae4055546b9d8de7c390e9a3fb5ecc69.jpg: 1024x1024 1 Mass, 2.3ms\n",
      "image 527/763 /home/rshah133/bcd/dataset/test/images/ae672f355541acfae894998dea1ec998.jpg: 1024x1024 3 Masss, 5 Spiculations, 2.3ms\n",
      "image 528/763 /home/rshah133/bcd/dataset/test/images/ae75f02b14b5582997856eacaf8aa995.jpg: 1024x1024 1 Mass, 2.3ms\n",
      "image 529/763 /home/rshah133/bcd/dataset/test/images/aea4ab1ac1914e39919b74de4d0d330b.jpg: 1024x1024 (no detections), 2.3ms\n",
      "image 530/763 /home/rshah133/bcd/dataset/test/images/af9ae4f3a9ca14aa12966567ee6c5ba7.jpg: 1024x1024 1 Mass, 2.3ms\n",
      "image 531/763 /home/rshah133/bcd/dataset/test/images/afa93965854c2094f476cc01f96435b0.jpg: 1024x1024 2 Masss, 6 Spiculations, 2.3ms\n",
      "image 532/763 /home/rshah133/bcd/dataset/test/images/b0251c254808b8d6de51d69952fb35d0.jpg: 1024x1024 2 Masss, 1 Spiculation, 2.3ms\n",
      "image 533/763 /home/rshah133/bcd/dataset/test/images/b034e7a53c1d9964d85c222267f663b9.jpg: 1024x1024 2 Masss, 2.3ms\n",
      "image 534/763 /home/rshah133/bcd/dataset/test/images/b04c7c85b42e5886fb1ddf86273f80b7.jpg: 1024x1024 1 Mass, 2.3ms\n",
      "image 535/763 /home/rshah133/bcd/dataset/test/images/b14d40b0221fc76cf05acbec7d89a223.jpg: 1024x1024 7 Masss, 8 Spiculations, 2.3ms\n",
      "image 536/763 /home/rshah133/bcd/dataset/test/images/b163d5081f17dcf491d3364762732154.jpg: 1024x1024 (no detections), 2.3ms\n",
      "image 537/763 /home/rshah133/bcd/dataset/test/images/b168a7d700de2e34518c2f186e9c86c4.jpg: 1024x1024 1 Mass, 1 Spiculation, 2.3ms\n",
      "image 538/763 /home/rshah133/bcd/dataset/test/images/b170cb834c8bccc382bc8a1b667e6100.jpg: 1024x1024 (no detections), 2.3ms\n",
      "image 539/763 /home/rshah133/bcd/dataset/test/images/b25780262123eea6faf63a3aa741d228.jpg: 1024x1024 4 Masss, 7 Spiculations, 2.3ms\n",
      "image 540/763 /home/rshah133/bcd/dataset/test/images/b38c4d76e10c004a7b779c01b3f66da0.jpg: 1024x1024 5 Masss, 1 Suspicious Calcification, 2.3ms\n",
      "image 541/763 /home/rshah133/bcd/dataset/test/images/b3e9bcccb175193705f4f94f06c0a9bb.jpg: 1024x1024 (no detections), 2.3ms\n",
      "image 542/763 /home/rshah133/bcd/dataset/test/images/b3faf86a872751ca591a20a46c68b7dc.jpg: 1024x1024 8 Masss, 33 Spiculations, 2.3ms\n",
      "image 543/763 /home/rshah133/bcd/dataset/test/images/b4199ebb8667d80b6884654b88c15a4e.jpg: 1024x1024 1 Mass, 2.3ms\n",
      "image 544/763 /home/rshah133/bcd/dataset/test/images/b4b83d6c6e16b93b623b9ac0943a665c.jpg: 1024x1024 (no detections), 2.3ms\n",
      "image 545/763 /home/rshah133/bcd/dataset/test/images/b50b5943e02004c10ac6de73d93cbe50.jpg: 1024x1024 4 Masss, 2.3ms\n",
      "image 546/763 /home/rshah133/bcd/dataset/test/images/b50e0e1100d4f3fb389534cee03a2b03.jpg: 1024x1024 7 Masss, 10 Spiculations, 2.3ms\n",
      "image 547/763 /home/rshah133/bcd/dataset/test/images/b5ae06a11207fe5bd03c4ff05dca25f9.jpg: 1024x1024 4 Masss, 7 Spiculations, 2.3ms\n",
      "image 548/763 /home/rshah133/bcd/dataset/test/images/b5b4758224e6a66a587182fcdc5f1f1d.jpg: 1024x1024 6 Masss, 15 Spiculations, 2.3ms\n",
      "image 549/763 /home/rshah133/bcd/dataset/test/images/b68769ba266c8a6ccfc95b649e14e23c.jpg: 1024x1024 (no detections), 2.3ms\n",
      "image 550/763 /home/rshah133/bcd/dataset/test/images/b6c7b7ecd66d7dba1fa601170b9b6ebf.jpg: 1024x1024 (no detections), 2.3ms\n",
      "image 551/763 /home/rshah133/bcd/dataset/test/images/b6db414be07dc1fb3cbf82a9e3a4966a.jpg: 1024x1024 (no detections), 2.3ms\n",
      "image 552/763 /home/rshah133/bcd/dataset/test/images/b72971acec10b39f4582a1f908224dba.jpg: 1024x1024 (no detections), 2.3ms\n",
      "image 553/763 /home/rshah133/bcd/dataset/test/images/b74f95f32636aff0b94540891c6b1f14.jpg: 1024x1024 (no detections), 2.3ms\n",
      "image 554/763 /home/rshah133/bcd/dataset/test/images/b821f26947d67932afed6e9bf64d23e1.jpg: 1024x1024 (no detections), 2.3ms\n",
      "image 555/763 /home/rshah133/bcd/dataset/test/images/b841c1e419eaa15e8510dbc178dd0e21.jpg: 1024x1024 2 Masss, 2.3ms\n",
      "image 556/763 /home/rshah133/bcd/dataset/test/images/b8a5dccad0d098308ff3296000716b52.jpg: 1024x1024 (no detections), 2.3ms\n",
      "image 557/763 /home/rshah133/bcd/dataset/test/images/b8ad72c3472c5490c59f664b2a6f6269.jpg: 1024x1024 2 Masss, 2 Spiculations, 2.3ms\n",
      "image 558/763 /home/rshah133/bcd/dataset/test/images/b90a0d1dcb980a1d0dd62562ae015305.jpg: 1024x1024 6 Masss, 8 Spiculations, 2.3ms\n",
      "image 559/763 /home/rshah133/bcd/dataset/test/images/b934cdb31aeabf5d6cbeb6caa32ab73b.jpg: 1024x1024 2 Masss, 2 Spiculations, 2.3ms\n",
      "image 560/763 /home/rshah133/bcd/dataset/test/images/b95641a993217e0ad74fe10d2304c3d9.jpg: 1024x1024 3 Masss, 16 Spiculations, 2.3ms\n",
      "image 561/763 /home/rshah133/bcd/dataset/test/images/b9df6f8a352a6986d91c0d9186059072.jpg: 1024x1024 (no detections), 2.3ms\n",
      "image 562/763 /home/rshah133/bcd/dataset/test/images/b9e991c85f3549a49b8f13f318f6f7d8.jpg: 1024x1024 2 Masss, 2.3ms\n",
      "image 563/763 /home/rshah133/bcd/dataset/test/images/b9f3c7402b190c39344e31c20797851c.jpg: 1024x1024 6 Masss, 13 Spiculations, 2.3ms\n",
      "image 564/763 /home/rshah133/bcd/dataset/test/images/ba14c8b4eb3eb84c202adc1454b05783.jpg: 1024x1024 3 Masss, 16 Spiculations, 2.3ms\n",
      "image 565/763 /home/rshah133/bcd/dataset/test/images/bad7f3502dbbe04dccafa396afe08f49.jpg: 1024x1024 4 Masss, 1 Spiculation, 2.3ms\n",
      "image 566/763 /home/rshah133/bcd/dataset/test/images/baf7c94a68bf95aea8bc26e1903c0ebe.jpg: 1024x1024 1 Mass, 2.3ms\n",
      "image 567/763 /home/rshah133/bcd/dataset/test/images/bb19a2e5438e9f93f4170dfa421cea65.jpg: 1024x1024 1 Mass, 2 Spiculations, 2.3ms\n",
      "image 568/763 /home/rshah133/bcd/dataset/test/images/bc44e100d187ad2eecc32236ec7c2b11.jpg: 1024x1024 1 Mass, 2.3ms\n",
      "image 569/763 /home/rshah133/bcd/dataset/test/images/bc58e54ec75acfc3acfb248f409ff2f4.jpg: 1024x1024 2 Masss, 2.3ms\n",
      "image 570/763 /home/rshah133/bcd/dataset/test/images/bce1addbe037d058ce2bb263acbf77ac.jpg: 1024x1024 4 Masss, 10 Spiculations, 2.3ms\n",
      "image 571/763 /home/rshah133/bcd/dataset/test/images/bd8c59601a3dfcde6c31d32aef7e8c93.jpg: 1024x1024 3 Masss, 1 Spiculation, 2.3ms\n",
      "image 572/763 /home/rshah133/bcd/dataset/test/images/bdd807672f4efedab5c5cb3f0e65e7b5.jpg: 1024x1024 (no detections), 2.3ms\n",
      "image 573/763 /home/rshah133/bcd/dataset/test/images/bdf1539e07e60cfcb5e7833f5b63fa86.jpg: 1024x1024 8 Masss, 33 Spiculations, 2.3ms\n",
      "image 574/763 /home/rshah133/bcd/dataset/test/images/be2e2073d9caf3b04b697846ecdcccb6.jpg: 1024x1024 1 Mass, 2.3ms\n",
      "image 575/763 /home/rshah133/bcd/dataset/test/images/be50a17b04aed1c7708217318ed8ba83.jpg: 1024x1024 1 Mass, 2.3ms\n",
      "image 576/763 /home/rshah133/bcd/dataset/test/images/bedd20549cf422130e41408d4e6afa1d.jpg: 1024x1024 (no detections), 2.3ms\n",
      "image 577/763 /home/rshah133/bcd/dataset/test/images/bef2aebeeee11a80478eb621fa6666d8.jpg: 1024x1024 (no detections), 2.3ms\n",
      "image 578/763 /home/rshah133/bcd/dataset/test/images/bef47f8667ef0dfb4f6deda2434da05d.jpg: 1024x1024 1 Mass, 2.3ms\n",
      "image 579/763 /home/rshah133/bcd/dataset/test/images/c07913233d9119af17fb07e09717aa30.jpg: 1024x1024 (no detections), 2.3ms\n",
      "image 580/763 /home/rshah133/bcd/dataset/test/images/c0cd071eeccaa65eeeb32ad9c62ee959.jpg: 1024x1024 1 Mass, 2.3ms\n",
      "image 581/763 /home/rshah133/bcd/dataset/test/images/c171898cd8cce888b5f8e198dda75546.jpg: 1024x1024 (no detections), 2.3ms\n",
      "image 582/763 /home/rshah133/bcd/dataset/test/images/c171fed7a869e9cb41c9a10e7ee6f4f9.jpg: 1024x1024 1 Mass, 2.3ms\n",
      "image 583/763 /home/rshah133/bcd/dataset/test/images/c1b626dbe028a9872412d7646892e446.jpg: 1024x1024 (no detections), 2.3ms\n",
      "image 584/763 /home/rshah133/bcd/dataset/test/images/c1edef455c1d305e6674fcf0d9c3c195.jpg: 1024x1024 (no detections), 2.3ms\n",
      "image 585/763 /home/rshah133/bcd/dataset/test/images/c2ec09aa673b9b830d2c2b781b1effa1.jpg: 1024x1024 3 Masss, 2 Spiculations, 2.3ms\n",
      "image 586/763 /home/rshah133/bcd/dataset/test/images/c368ddd11e70a207a8b86f543eb0b5cf.jpg: 1024x1024 1 Mass, 2 Spiculations, 2.3ms\n",
      "image 587/763 /home/rshah133/bcd/dataset/test/images/c3bd3b8fabb3405c74705b9bdaa90f6d.jpg: 1024x1024 (no detections), 2.3ms\n",
      "image 588/763 /home/rshah133/bcd/dataset/test/images/c440e178bb3f7874aa1d6a4b10e66105.jpg: 1024x1024 (no detections), 2.3ms\n",
      "image 589/763 /home/rshah133/bcd/dataset/test/images/c44f22812f3bc45f49498bded8056914.jpg: 1024x1024 1 Mass, 2.3ms\n",
      "image 590/763 /home/rshah133/bcd/dataset/test/images/c4a59146a1f5b9e2aca090815381c420.jpg: 1024x1024 1 Mass, 2.3ms\n",
      "image 591/763 /home/rshah133/bcd/dataset/test/images/c53418f3bc12b3173db174c86ca11355.jpg: 1024x1024 3 Masss, 7 Spiculations, 2.3ms\n",
      "image 592/763 /home/rshah133/bcd/dataset/test/images/c58233033d21865c0c1e8f9b353d60ba.jpg: 1024x1024 3 Masss, 1 Spiculation, 2.3ms\n",
      "image 593/763 /home/rshah133/bcd/dataset/test/images/c6d548ad2a3585ab49bcbb43f2ca9233.jpg: 1024x1024 1 Mass, 2.3ms\n",
      "image 594/763 /home/rshah133/bcd/dataset/test/images/c7c60c6a527a217dd3f4f508a6305556.jpg: 1024x1024 (no detections), 2.3ms\n",
      "image 595/763 /home/rshah133/bcd/dataset/test/images/c7ddaccc6c3fcc314d9e7b4f4eabfbc3.jpg: 1024x1024 1 Mass, 2.3ms\n",
      "image 596/763 /home/rshah133/bcd/dataset/test/images/c8039851546da1cee882dd8b016ba1cd.jpg: 1024x1024 5 Masss, 6 Spiculations, 2.3ms\n",
      "image 597/763 /home/rshah133/bcd/dataset/test/images/c8673267271111cc481f2793d94eb565.jpg: 1024x1024 (no detections), 2.3ms\n",
      "image 598/763 /home/rshah133/bcd/dataset/test/images/c8ea81f44f3b81ff5ea3c33bca2db296.jpg: 1024x1024 (no detections), 2.3ms\n",
      "image 599/763 /home/rshah133/bcd/dataset/test/images/c8fc55b240f0f3dd7c075b367160f289.jpg: 1024x1024 3 Masss, 3 Spiculations, 2.3ms\n",
      "image 600/763 /home/rshah133/bcd/dataset/test/images/c90b41cd28971bc7047c8b8637718a6e.jpg: 1024x1024 (no detections), 2.3ms\n",
      "image 601/763 /home/rshah133/bcd/dataset/test/images/c99575f6b786336b2c51991f2e84ec91.jpg: 1024x1024 1 Mass, 2.3ms\n",
      "image 602/763 /home/rshah133/bcd/dataset/test/images/ca0d26213dee21e7f9293cf24c5fd8e1.jpg: 1024x1024 (no detections), 2.3ms\n",
      "image 603/763 /home/rshah133/bcd/dataset/test/images/ca13a4909b0a95d4ba8a2030156f726d.jpg: 1024x1024 1 Mass, 2.3ms\n",
      "image 604/763 /home/rshah133/bcd/dataset/test/images/ca2371b9f2b974848dd0ca71b778f0ee.jpg: 1024x1024 6 Masss, 8 Spiculations, 2.3ms\n",
      "image 605/763 /home/rshah133/bcd/dataset/test/images/caaea8270feed9e68f0e972073b78fbe.jpg: 1024x1024 (no detections), 2.3ms\n",
      "image 606/763 /home/rshah133/bcd/dataset/test/images/cac15b7c21ed74ac4f86a1adc37cd40e.jpg: 1024x1024 2 Masss, 2.3ms\n",
      "image 607/763 /home/rshah133/bcd/dataset/test/images/cac4e653b793ea51e867f74bc056833f.jpg: 1024x1024 (no detections), 2.3ms\n",
      "image 608/763 /home/rshah133/bcd/dataset/test/images/cadb654c855b9f948a193219a21712f3.jpg: 1024x1024 1 Mass, 2.3ms\n",
      "image 609/763 /home/rshah133/bcd/dataset/test/images/cafb38b60a61619ad1bfa25b77ccb521.jpg: 1024x1024 1 Mass, 2.3ms\n",
      "image 610/763 /home/rshah133/bcd/dataset/test/images/cb02caed6492a9619e93a3bd265a9c7f.jpg: 1024x1024 1 Mass, 1 Spiculation, 2.3ms\n",
      "image 611/763 /home/rshah133/bcd/dataset/test/images/cb14b3265d736649686882aa860bcef0.jpg: 1024x1024 (no detections), 2.3ms\n",
      "image 612/763 /home/rshah133/bcd/dataset/test/images/cb74417a934644640d542388a336ad61.jpg: 1024x1024 (no detections), 2.3ms\n",
      "image 613/763 /home/rshah133/bcd/dataset/test/images/cbc70879a8dee060ae3c802b32726ef2.jpg: 1024x1024 3 Masss, 3 Spiculations, 2.3ms\n",
      "image 614/763 /home/rshah133/bcd/dataset/test/images/cbd30d8f2d8eb4dd4278a86381f38a3d.jpg: 1024x1024 3 Masss, 1 Spiculation, 2.3ms\n",
      "image 615/763 /home/rshah133/bcd/dataset/test/images/cc73fb4a62928a28d8cb94bbbb5b68b0.jpg: 1024x1024 3 Masss, 10 Spiculations, 2.3ms\n",
      "image 616/763 /home/rshah133/bcd/dataset/test/images/cc8d20fb54924dd5463407e1b53281d2.jpg: 1024x1024 5 Masss, 2 Spiculations, 2.3ms\n",
      "image 617/763 /home/rshah133/bcd/dataset/test/images/cca2fbb16f86b24546d998b64233247b.jpg: 1024x1024 1 Spiculation, 2.3ms\n",
      "image 618/763 /home/rshah133/bcd/dataset/test/images/cd3f65e401f72d414d3954a677d20c3f.jpg: 1024x1024 (no detections), 2.3ms\n",
      "image 619/763 /home/rshah133/bcd/dataset/test/images/ce00a3d09a67659c9ca5a3f6e7e3532f.jpg: 1024x1024 2 Masss, 3 Spiculations, 2.3ms\n",
      "image 620/763 /home/rshah133/bcd/dataset/test/images/ce334c03dad5d9784977301ab1a84965.jpg: 1024x1024 2 Masss, 2.3ms\n",
      "image 621/763 /home/rshah133/bcd/dataset/test/images/ceb58e034ec7b2856bad9b73c98fba74.jpg: 1024x1024 (no detections), 2.3ms\n",
      "image 622/763 /home/rshah133/bcd/dataset/test/images/cef78bc38a146cacf45b3538abc4b7e1.jpg: 1024x1024 3 Masss, 2.3ms\n",
      "image 623/763 /home/rshah133/bcd/dataset/test/images/cff199588870ff525fae37b52ff8db5c.jpg: 1024x1024 (no detections), 2.3ms\n",
      "image 624/763 /home/rshah133/bcd/dataset/test/images/d02f7fcc6f0b63b2e5f548c5d595aaba.jpg: 1024x1024 (no detections), 2.3ms\n",
      "image 625/763 /home/rshah133/bcd/dataset/test/images/d035c81f7e81c0a845b61e566bf7a4bb.jpg: 1024x1024 7 Masss, 27 Spiculations, 1 Suspicious Calcification, 2.3ms\n",
      "image 626/763 /home/rshah133/bcd/dataset/test/images/d0580fd717bf2fdac32a1cd63e91f99e.jpg: 1024x1024 3 Masss, 3 Spiculations, 2.3ms\n",
      "image 627/763 /home/rshah133/bcd/dataset/test/images/d126171c562499056287d1df68ec2879.jpg: 1024x1024 5 Masss, 31 Spiculations, 2.3ms\n",
      "image 628/763 /home/rshah133/bcd/dataset/test/images/d12617fc7bdc0bf6f8044e6f406f019b.jpg: 1024x1024 2 Masss, 9 Spiculations, 2.3ms\n",
      "image 629/763 /home/rshah133/bcd/dataset/test/images/d15dc650c9595e5ac5c1b5e253761905.jpg: 1024x1024 (no detections), 2.3ms\n",
      "image 630/763 /home/rshah133/bcd/dataset/test/images/d16e0674bc7cf9332590075d9aa2553a.jpg: 1024x1024 3 Masss, 5 Spiculations, 2.3ms\n",
      "image 631/763 /home/rshah133/bcd/dataset/test/images/d24c088be30f0d1b4b3346f45a4a9e78.jpg: 1024x1024 (no detections), 2.3ms\n",
      "image 632/763 /home/rshah133/bcd/dataset/test/images/d25ea7dce5e60b1e054044acb722096c.jpg: 1024x1024 (no detections), 2.3ms\n",
      "image 633/763 /home/rshah133/bcd/dataset/test/images/d360a682c40590bb09f819d127e0a11a.jpg: 1024x1024 (no detections), 2.3ms\n",
      "image 634/763 /home/rshah133/bcd/dataset/test/images/d38e3b02abd2b9db4fae89ef2927cdeb.jpg: 1024x1024 1 Mass, 2.3ms\n",
      "image 635/763 /home/rshah133/bcd/dataset/test/images/d3aced0c7e8fe9c1bd498eeb72cb6048.jpg: 1024x1024 3 Masss, 12 Spiculations, 2.3ms\n",
      "image 636/763 /home/rshah133/bcd/dataset/test/images/d3f2ec809eddcadb8d458ea80eeadc87.jpg: 1024x1024 2 Masss, 2.3ms\n",
      "image 637/763 /home/rshah133/bcd/dataset/test/images/d42c6aca1a6371d22407f73c67b07d65.jpg: 1024x1024 1 Mass, 1 Spiculation, 2.3ms\n",
      "image 638/763 /home/rshah133/bcd/dataset/test/images/d52161ca0d73ced5fde02dc6cb04918e.jpg: 1024x1024 1 Mass, 2 Spiculations, 2.3ms\n",
      "image 639/763 /home/rshah133/bcd/dataset/test/images/d55fe35cb1cac106c8b5f05967642991.jpg: 1024x1024 2 Masss, 2.3ms\n",
      "image 640/763 /home/rshah133/bcd/dataset/test/images/d5cba9addf76e1ab491d4c4d71e80477.jpg: 1024x1024 (no detections), 2.3ms\n",
      "image 641/763 /home/rshah133/bcd/dataset/test/images/d5edad56b415eaa6d6eaa10764952129.jpg: 1024x1024 2 Masss, 1 Spiculation, 2.3ms\n",
      "image 642/763 /home/rshah133/bcd/dataset/test/images/d5fbbd30a1d4a089716622b4303b1b58.jpg: 1024x1024 2 Masss, 2.3ms\n",
      "image 643/763 /home/rshah133/bcd/dataset/test/images/d60001fe06aa2ab1d11c65454cb866d7.jpg: 1024x1024 (no detections), 2.3ms\n",
      "image 644/763 /home/rshah133/bcd/dataset/test/images/d76b87c0f10d686ac89ee873c606fdf5.jpg: 1024x1024 1 Mass, 2.3ms\n",
      "image 645/763 /home/rshah133/bcd/dataset/test/images/d7e4f2a7ee93c5fc4d5b79989ce45210.jpg: 1024x1024 2 Masss, 9 Spiculations, 2.3ms\n",
      "image 646/763 /home/rshah133/bcd/dataset/test/images/d838dc1fa3b1c99fad6af99fef9f2b77.jpg: 1024x1024 1 Mass, 3 Spiculations, 2.3ms\n",
      "image 647/763 /home/rshah133/bcd/dataset/test/images/d885665d2c6b2c927686019781c131ce.jpg: 1024x1024 (no detections), 2.3ms\n",
      "image 648/763 /home/rshah133/bcd/dataset/test/images/d88d4b9103281220b9ac1a122364973b.jpg: 1024x1024 7 Masss, 21 Spiculations, 2.3ms\n",
      "image 649/763 /home/rshah133/bcd/dataset/test/images/d91825b15e444b4cab3a50b8927a7b6a.jpg: 1024x1024 (no detections), 2.3ms\n",
      "image 650/763 /home/rshah133/bcd/dataset/test/images/d9424eabb9d03c65cb7075c9b49b19a6.jpg: 1024x1024 2 Masss, 1 Spiculation, 2.3ms\n",
      "image 651/763 /home/rshah133/bcd/dataset/test/images/d987933458341d14ae716476acb53bc1.jpg: 1024x1024 (no detections), 2.3ms\n",
      "image 652/763 /home/rshah133/bcd/dataset/test/images/d9cccca5e3fad376f72cd2abeda14b28.jpg: 1024x1024 7 Masss, 4 Spiculations, 2.3ms\n",
      "image 653/763 /home/rshah133/bcd/dataset/test/images/da1a36405c16227ef13b0dbfffd8a3fd.jpg: 1024x1024 (no detections), 2.3ms\n",
      "image 654/763 /home/rshah133/bcd/dataset/test/images/da30be3e50b5820186b55d2533ca46fb.jpg: 1024x1024 2 Masss, 2 Spiculations, 2.3ms\n",
      "image 655/763 /home/rshah133/bcd/dataset/test/images/dab9cb0c72531563a2d5f819cd147717.jpg: 1024x1024 4 Masss, 8 Spiculations, 2.3ms\n",
      "image 656/763 /home/rshah133/bcd/dataset/test/images/dac39351b0f3a8c670b7f8dc88029364.jpg: 1024x1024 (no detections), 2.3ms\n",
      "image 657/763 /home/rshah133/bcd/dataset/test/images/db027e3a4df4857b0e389aa3663c7bae.jpg: 1024x1024 (no detections), 2.3ms\n",
      "image 658/763 /home/rshah133/bcd/dataset/test/images/db70c6572ab2f8633feb484aa6d7d38d.jpg: 1024x1024 5 Masss, 4 Spiculations, 2.3ms\n",
      "image 659/763 /home/rshah133/bcd/dataset/test/images/db72a9a3c5827c1982b9b6d953c3dc04.jpg: 1024x1024 2 Masss, 2.3ms\n",
      "image 660/763 /home/rshah133/bcd/dataset/test/images/dbe631b24f8759c7f7022513582c39ba.jpg: 1024x1024 2 Masss, 9 Spiculations, 2.3ms\n",
      "image 661/763 /home/rshah133/bcd/dataset/test/images/dbf35565190e3a285651bdc1ee4be51b.jpg: 1024x1024 2 Masss, 10 Spiculations, 2.3ms\n",
      "image 662/763 /home/rshah133/bcd/dataset/test/images/dbfffde4219dfb6aab1a5fe2d21a99d0.jpg: 1024x1024 3 Masss, 12 Spiculations, 2.3ms\n",
      "image 663/763 /home/rshah133/bcd/dataset/test/images/dc60a7e10efddef70dd265cb3b82c74b.jpg: 1024x1024 1 Mass, 2.3ms\n",
      "image 664/763 /home/rshah133/bcd/dataset/test/images/dce7898554efd8b922dd5425d828db8d.jpg: 1024x1024 2 Masss, 2.3ms\n",
      "image 665/763 /home/rshah133/bcd/dataset/test/images/dcedab9fff926c42215b3da835e9c9f8.jpg: 1024x1024 2 Masss, 2.3ms\n",
      "image 666/763 /home/rshah133/bcd/dataset/test/images/dd0b143a10f7dd0cedb9de5f146005aa.jpg: 1024x1024 1 Mass, 3 Spiculations, 2.3ms\n",
      "image 667/763 /home/rshah133/bcd/dataset/test/images/dd64701a05729fd607264eb3a6872111.jpg: 1024x1024 2 Masss, 2 Spiculations, 2.3ms\n",
      "image 668/763 /home/rshah133/bcd/dataset/test/images/ddf0592485d93d7084c29f1fa5e5c443.jpg: 1024x1024 3 Masss, 2.3ms\n",
      "image 669/763 /home/rshah133/bcd/dataset/test/images/de0938995163311b26eaee4155b8d111.jpg: 1024x1024 1 Mass, 1 Spiculation, 2.3ms\n",
      "image 670/763 /home/rshah133/bcd/dataset/test/images/de271f535b0d9c01a793d9ed2db5708d.jpg: 1024x1024 2 Masss, 2.3ms\n",
      "image 671/763 /home/rshah133/bcd/dataset/test/images/de3db479c679661e4e3c686ec1e0ced4.jpg: 1024x1024 (no detections), 2.3ms\n",
      "image 672/763 /home/rshah133/bcd/dataset/test/images/de5c2051b0c82f026f30b7556d0eb37b.jpg: 1024x1024 (no detections), 2.3ms\n",
      "image 673/763 /home/rshah133/bcd/dataset/test/images/de6622b3d5c5d01f65e594607562a975.jpg: 1024x1024 1 Mass, 2.3ms\n",
      "image 674/763 /home/rshah133/bcd/dataset/test/images/de8b49dee1cd6c3a7dfd404a1de4d266.jpg: 1024x1024 (no detections), 2.3ms\n",
      "image 675/763 /home/rshah133/bcd/dataset/test/images/deacf62d7ad07e061d0ab1d87f7d4be0.jpg: 1024x1024 (no detections), 2.3ms\n",
      "image 676/763 /home/rshah133/bcd/dataset/test/images/ded6d333fe65171adf1e6047dd29a7b8.jpg: 1024x1024 2 Masss, 2.3ms\n",
      "image 677/763 /home/rshah133/bcd/dataset/test/images/dedfb81e153d26380398a5fae3e9faad.jpg: 1024x1024 (no detections), 2.3ms\n",
      "image 678/763 /home/rshah133/bcd/dataset/test/images/deed2f0fda8f17fde773fe8087f5c5ae.jpg: 1024x1024 (no detections), 2.3ms\n",
      "image 679/763 /home/rshah133/bcd/dataset/test/images/df17a9f399b214cb863d754e376f8673.jpg: 1024x1024 1 Mass, 2.3ms\n",
      "image 680/763 /home/rshah133/bcd/dataset/test/images/df1a94aad76bd2e7beadcf00dfc715bb.jpg: 1024x1024 4 Masss, 14 Spiculations, 2.3ms\n",
      "image 681/763 /home/rshah133/bcd/dataset/test/images/df4b1cfb384dab76abc34cc4db0f5b30.jpg: 1024x1024 1 Mass, 2.3ms\n",
      "image 682/763 /home/rshah133/bcd/dataset/test/images/df5ffc387843a45e3c29f51f6d663317.jpg: 1024x1024 10 Masss, 31 Spiculations, 1 Suspicious Calcification, 2.3ms\n",
      "image 683/763 /home/rshah133/bcd/dataset/test/images/df8b9763dad465e61b23875932af4f7d.jpg: 1024x1024 (no detections), 2.3ms\n",
      "image 684/763 /home/rshah133/bcd/dataset/test/images/e07cf8ec5f1048ca51adfedb641aae47.jpg: 1024x1024 (no detections), 2.3ms\n",
      "image 685/763 /home/rshah133/bcd/dataset/test/images/e13c80239d7714e3d964b5f3e37bcff6.jpg: 1024x1024 (no detections), 2.3ms\n",
      "image 686/763 /home/rshah133/bcd/dataset/test/images/e1903db5e457961ff8bd95e77faa92c7.jpg: 1024x1024 (no detections), 2.3ms\n",
      "image 687/763 /home/rshah133/bcd/dataset/test/images/e1ad3882c48c3e953b037813ff8fbe3a.jpg: 1024x1024 6 Masss, 20 Spiculations, 1 Skin Retraction, 2.3ms\n",
      "image 688/763 /home/rshah133/bcd/dataset/test/images/e1ec4b67b6d6308177986ec74b412824.jpg: 1024x1024 1 Mass, 2.3ms\n",
      "image 689/763 /home/rshah133/bcd/dataset/test/images/e1f7f81388214e360ac989ff48e340d3.jpg: 1024x1024 (no detections), 2.3ms\n",
      "image 690/763 /home/rshah133/bcd/dataset/test/images/e27ed8c89c7da67e40a76b91c6eee419.jpg: 1024x1024 4 Masss, 1 Spiculation, 2.3ms\n",
      "image 691/763 /home/rshah133/bcd/dataset/test/images/e2914e693746bea51abebd1ebcb66195.jpg: 1024x1024 4 Masss, 3 Spiculations, 1 Suspicious Calcification, 2.3ms\n",
      "image 692/763 /home/rshah133/bcd/dataset/test/images/e2a9f68e5f57465acea8f2f585e5634e.jpg: 1024x1024 (no detections), 2.3ms\n",
      "image 693/763 /home/rshah133/bcd/dataset/test/images/e2dfa8e5c2b50091ffbdb20dff13cd01.jpg: 1024x1024 (no detections), 2.3ms\n",
      "image 694/763 /home/rshah133/bcd/dataset/test/images/e38002fcb59bdbe4d065eb2659026d35.jpg: 1024x1024 1 Mass, 1 Spiculation, 2.3ms\n",
      "image 695/763 /home/rshah133/bcd/dataset/test/images/e542f9387674418e51d71d44dd35a496.jpg: 1024x1024 (no detections), 2.3ms\n",
      "image 696/763 /home/rshah133/bcd/dataset/test/images/e579d7a7361e460066d86a92b169606d.jpg: 1024x1024 1 Mass, 2.3ms\n",
      "image 697/763 /home/rshah133/bcd/dataset/test/images/e5bc3f728fad5d69a6be168c04e6855b.jpg: 1024x1024 2 Masss, 4 Spiculations, 2.3ms\n",
      "image 698/763 /home/rshah133/bcd/dataset/test/images/e608d957bf2ecd894c524d0969b05868.jpg: 1024x1024 1 Mass, 2.3ms\n",
      "image 699/763 /home/rshah133/bcd/dataset/test/images/e7c534f3c4d99a2a017cd64191b73923.jpg: 1024x1024 7 Masss, 41 Spiculations, 1 Suspicious Calcification, 2.3ms\n",
      "image 700/763 /home/rshah133/bcd/dataset/test/images/e7ed852e596846ff61f0cea69d9f2ae6.jpg: 1024x1024 1 Mass, 2.3ms\n",
      "image 701/763 /home/rshah133/bcd/dataset/test/images/e8196dac677d9ac410215b47bfa38b06.jpg: 1024x1024 (no detections), 2.3ms\n",
      "image 702/763 /home/rshah133/bcd/dataset/test/images/e82b6324ff951df4158627cf430996b7.jpg: 1024x1024 (no detections), 2.3ms\n",
      "image 703/763 /home/rshah133/bcd/dataset/test/images/e86ee7c6d128444a1cd1307b158a7e67.jpg: 1024x1024 2 Masss, 1 Spiculation, 2.3ms\n",
      "image 704/763 /home/rshah133/bcd/dataset/test/images/e87781720c2771e22823701fcc0aaf44.jpg: 1024x1024 6 Masss, 13 Spiculations, 2.3ms\n",
      "image 705/763 /home/rshah133/bcd/dataset/test/images/e8ecea5b336770a426df5b8ae88a543e.jpg: 1024x1024 2 Masss, 2.3ms\n",
      "image 706/763 /home/rshah133/bcd/dataset/test/images/e9474b0f6b8fee9cf11dca4ac57b8959.jpg: 1024x1024 6 Masss, 6 Spiculations, 2.3ms\n",
      "image 707/763 /home/rshah133/bcd/dataset/test/images/e97550e9877faea678557c5e3d52438b.jpg: 1024x1024 2 Masss, 2.3ms\n",
      "image 708/763 /home/rshah133/bcd/dataset/test/images/e9f60c6702fa4dfe424362daa1b95e46.jpg: 1024x1024 1 Mass, 2.3ms\n",
      "image 709/763 /home/rshah133/bcd/dataset/test/images/ea48fbfce53b34c264ea92a318ba748f.jpg: 1024x1024 1 Mass, 2.3ms\n",
      "image 710/763 /home/rshah133/bcd/dataset/test/images/ea7ff5ee37aed485b8971ae440d555ac.jpg: 1024x1024 (no detections), 2.3ms\n",
      "image 711/763 /home/rshah133/bcd/dataset/test/images/ea8790b418b754139457d48e5228c077.jpg: 1024x1024 (no detections), 2.3ms\n",
      "image 712/763 /home/rshah133/bcd/dataset/test/images/ebe0d766cf25c8576d78d0e7a351e39a.jpg: 1024x1024 (no detections), 2.3ms\n",
      "image 713/763 /home/rshah133/bcd/dataset/test/images/ecc7ed202ac2b9a6dbedcf323e9c5673.jpg: 1024x1024 (no detections), 2.3ms\n",
      "image 714/763 /home/rshah133/bcd/dataset/test/images/ed15e2630a1d858c0e0fa9aa2348eceb.jpg: 1024x1024 3 Masss, 3 Spiculations, 2.3ms\n",
      "image 715/763 /home/rshah133/bcd/dataset/test/images/ed6643439c5e0ec39ec171b579188dca.jpg: 1024x1024 2 Masss, 3 Spiculations, 2.3ms\n",
      "image 716/763 /home/rshah133/bcd/dataset/test/images/f019726318cc1f7ab98ae646583d8895.jpg: 1024x1024 1 Mass, 2.3ms\n",
      "image 717/763 /home/rshah133/bcd/dataset/test/images/f0a27d3d6d8a31aa72efa9a54db6b23d.jpg: 1024x1024 3 Masss, 2.3ms\n",
      "image 718/763 /home/rshah133/bcd/dataset/test/images/f1097a8a50765e2261af176d00347cf0.jpg: 1024x1024 (no detections), 2.3ms\n",
      "image 719/763 /home/rshah133/bcd/dataset/test/images/f13af0df8b6fdeecca7e36affeb56988.jpg: 1024x1024 (no detections), 2.3ms\n",
      "image 720/763 /home/rshah133/bcd/dataset/test/images/f15e4d292b5423da9ba1c8c4de106689.jpg: 1024x1024 1 Mass, 2.3ms\n",
      "image 721/763 /home/rshah133/bcd/dataset/test/images/f17d87b660e35d32339d60cd3fb556b0.jpg: 1024x1024 2 Masss, 9 Spiculations, 2.3ms\n",
      "image 722/763 /home/rshah133/bcd/dataset/test/images/f1b0fbd4eebff392ed4b9886034c29ca.jpg: 1024x1024 1 Spiculation, 2.3ms\n",
      "image 723/763 /home/rshah133/bcd/dataset/test/images/f1f79501410a98782c0a03b48e66df83.jpg: 1024x1024 1 Mass, 2.3ms\n",
      "image 724/763 /home/rshah133/bcd/dataset/test/images/f2504628e2a4c5e04bb39655b4776f57.jpg: 1024x1024 2 Masss, 2 Spiculations, 2.3ms\n",
      "image 725/763 /home/rshah133/bcd/dataset/test/images/f2a755158e2f2f4af7d1f8b6257893f5.jpg: 1024x1024 5 Masss, 2 Spiculations, 2.3ms\n",
      "image 726/763 /home/rshah133/bcd/dataset/test/images/f2d214b69a7661d43e755f8921706206.jpg: 1024x1024 (no detections), 2.3ms\n",
      "image 727/763 /home/rshah133/bcd/dataset/test/images/f3b7da5f9ca3b14e89f6a66b7d1c2ef0.jpg: 1024x1024 (no detections), 2.3ms\n",
      "image 728/763 /home/rshah133/bcd/dataset/test/images/f3f7753468997b03b3d8707edd9bef37.jpg: 1024x1024 2 Masss, 4 Spiculations, 2.3ms\n",
      "image 729/763 /home/rshah133/bcd/dataset/test/images/f4148e1f2c31d89196e03761e4c23315.jpg: 1024x1024 2 Masss, 4 Spiculations, 2.3ms\n",
      "image 730/763 /home/rshah133/bcd/dataset/test/images/f48421c66df7a8d198f64022fbc6b5c8.jpg: 1024x1024 4 Masss, 12 Spiculations, 2.3ms\n",
      "image 731/763 /home/rshah133/bcd/dataset/test/images/f502474200958c14accc60cd2d319ccf.jpg: 1024x1024 (no detections), 2.3ms\n",
      "image 732/763 /home/rshah133/bcd/dataset/test/images/f50d531553d2958b575c4f5bb7141b17.jpg: 1024x1024 1 Mass, 15 Spiculations, 2.3ms\n",
      "image 733/763 /home/rshah133/bcd/dataset/test/images/f51e0c5db5201a2cf58b424437007197.jpg: 1024x1024 2 Masss, 2 Spiculations, 2.3ms\n",
      "image 734/763 /home/rshah133/bcd/dataset/test/images/f56a57a109aed21840b83c8453e06a6e.jpg: 1024x1024 4 Masss, 4 Spiculations, 2.3ms\n",
      "image 735/763 /home/rshah133/bcd/dataset/test/images/f581ef53bb7e61f4575db33eceac8ff8.jpg: 1024x1024 (no detections), 2.3ms\n",
      "image 736/763 /home/rshah133/bcd/dataset/test/images/f5f3ccc0b7e731df08c1768258aa1efd.jpg: 1024x1024 1 Mass, 2 Spiculations, 2.3ms\n",
      "image 737/763 /home/rshah133/bcd/dataset/test/images/f6b19e19ebc1302afc17c9a3140a4ae9.jpg: 1024x1024 2 Masss, 1 Spiculation, 2.3ms\n",
      "image 738/763 /home/rshah133/bcd/dataset/test/images/f7991e3050b979c13e12fde5d5634b28.jpg: 1024x1024 5 Masss, 8 Spiculations, 2.3ms\n",
      "image 739/763 /home/rshah133/bcd/dataset/test/images/f7d9acd8e1f576d801c24f90ad5a99d3.jpg: 1024x1024 2 Masss, 2.3ms\n",
      "image 740/763 /home/rshah133/bcd/dataset/test/images/f824ca07593cb971f4d2348de8def504.jpg: 1024x1024 (no detections), 2.3ms\n",
      "image 741/763 /home/rshah133/bcd/dataset/test/images/f8b75219cf050a795846c2772fad3e94.jpg: 1024x1024 (no detections), 2.3ms\n",
      "image 742/763 /home/rshah133/bcd/dataset/test/images/f8bbdcf948609aea0b384583364379e5.jpg: 1024x1024 3 Masss, 3 Spiculations, 2.3ms\n",
      "image 743/763 /home/rshah133/bcd/dataset/test/images/f9326c0d08afc3d402d21dd075feed3b.jpg: 1024x1024 2 Masss, 5 Spiculations, 2.3ms\n",
      "image 744/763 /home/rshah133/bcd/dataset/test/images/f97cd5b8d0049cbceda56350c01a66d5.jpg: 1024x1024 1 Mass, 2.3ms\n",
      "image 745/763 /home/rshah133/bcd/dataset/test/images/fa0104443e2e60effcb1e0222a9b015d.jpg: 1024x1024 1 Mass, 2 Spiculations, 2.3ms\n",
      "image 746/763 /home/rshah133/bcd/dataset/test/images/fa0d61ab7e2e1115fa871ff94d457d9b.jpg: 1024x1024 4 Masss, 2.3ms\n",
      "image 747/763 /home/rshah133/bcd/dataset/test/images/fa145776ca39abb6df42fc67e519bcf3.jpg: 1024x1024 10 Masss, 17 Spiculations, 2.3ms\n",
      "image 748/763 /home/rshah133/bcd/dataset/test/images/fa2f7816bf1b07f2104aa4edeff9b107.jpg: 1024x1024 7 Masss, 7 Spiculations, 2.3ms\n",
      "image 749/763 /home/rshah133/bcd/dataset/test/images/fa4f9cc52819bd2aa35c57ad8a83113a.jpg: 1024x1024 1 Mass, 1 Spiculation, 2.3ms\n",
      "image 750/763 /home/rshah133/bcd/dataset/test/images/fa81d6994805601937dd950bca2e61a0.jpg: 1024x1024 (no detections), 2.3ms\n",
      "image 751/763 /home/rshah133/bcd/dataset/test/images/fa8e8eee66d4b88a869e9ced96a2238f.jpg: 1024x1024 (no detections), 2.3ms\n",
      "image 752/763 /home/rshah133/bcd/dataset/test/images/fae5f8cf37f37b672454a67ff7b16ef0.jpg: 1024x1024 5 Masss, 8 Spiculations, 1 Suspicious Calcification, 2.3ms\n",
      "image 753/763 /home/rshah133/bcd/dataset/test/images/fb70bcb1b4be4e6942a47e775b497aec.jpg: 1024x1024 1 Mass, 2.3ms\n",
      "image 754/763 /home/rshah133/bcd/dataset/test/images/fc756aa345c85a94ce5e9d9066cd7247.jpg: 1024x1024 3 Masss, 9 Spiculations, 2.3ms\n",
      "image 755/763 /home/rshah133/bcd/dataset/test/images/fcfc75c0adef3f1491137de3f855d39c.jpg: 1024x1024 1 Mass, 2.3ms\n",
      "image 756/763 /home/rshah133/bcd/dataset/test/images/fd0c0b70adb9608b5b2dcf57f05668f3.jpg: 1024x1024 2 Masss, 9 Spiculations, 2.3ms\n",
      "image 757/763 /home/rshah133/bcd/dataset/test/images/fd2b28b5ca6c54c48ca547afad6855bd.jpg: 1024x1024 1 Mass, 4.6ms\n",
      "image 758/763 /home/rshah133/bcd/dataset/test/images/fdc97a4e0c7da3511cad7b0f8f3f71f3.jpg: 1024x1024 (no detections), 4.6ms\n",
      "image 759/763 /home/rshah133/bcd/dataset/test/images/fde50065b6d598d0bb62a08a0f0d97b7.jpg: 1024x1024 1 Mass, 7 Spiculations, 4.6ms\n",
      "image 760/763 /home/rshah133/bcd/dataset/test/images/ff1006f34fb13f42dff90aff81dc33ce.jpg: 1024x1024 1 Mass, 1 Spiculation, 4.6ms\n",
      "image 761/763 /home/rshah133/bcd/dataset/test/images/ff6716b4004598670fa72d8cefea454c.jpg: 1024x1024 5 Masss, 26 Spiculations, 1 Suspicious Calcification, 4.6ms\n",
      "image 762/763 /home/rshah133/bcd/dataset/test/images/ffac8bc2803630da2fb467c566d1f136.jpg: 1024x1024 3 Masss, 1 Spiculation, 4.6ms\n",
      "image 763/763 /home/rshah133/bcd/dataset/test/images/ffe25766ac37ab145ae7f0bd78665f81.jpg: 1024x1024 1 Mass, 4.6ms\n",
      "Speed: 7.0ms preprocess, 2.4ms inference, 0.5ms postprocess per image at shape (12, 3, 1024, 1024)\n",
      "Results saved to \u001b[1mruns/detect/predict\u001b[0m\n",
      "507 labels saved to runs/detect/predict/labels\n"
     ]
    }
   ],
   "source": [
    "progress_file = 'prediction_progress.json'\n",
    "\n",
    "def save_progress(current_index):\n",
    "    with open(progress_file, 'w') as f:\n",
    "        json.dump({'last_processed': current_index}, f)\n",
    "\n",
    "def load_progress():\n",
    "    if os.path.exists(progress_file):\n",
    "        with open(progress_file, 'r') as f:\n",
    "            return json.load(f)['last_processed']\n",
    "    return 0\n",
    "\n",
    "# Loading the best model\n",
    "best_model = YOLO('runs/detect/checkpoint/weights/best.pt')\n",
    "\n",
    "test_img_path = data_loaded['val']\n",
    "\n",
    "start_index = load_progress()\n",
    "\n",
    "chunk_size = 48  # Adjust based on your available memory\n",
    "for i in range(start_index, len(test_img_path), chunk_size):\n",
    "    chunk_end = min(i + chunk_size, len(test_img_path))\n",
    "    current_chunk = test_img_path[i:chunk_end]\n",
    "    \n",
    "    try:\n",
    "        results = best_model.predict(source = current_chunk, save = True, save_txt = True, conf = 0.10, batch = chunk_size//4, stream = True)\n",
    "        \n",
    "        # code for post - processing results for later\n",
    "        for r in results:\n",
    "            pass  \n",
    "            \n",
    "        save_progress(chunk_end)\n",
    "        \n",
    "    except Exception as e:\n",
    "        save_progress(i)\n",
    "        print(f\"Prediction stopped at image {i}. Progress saved.\")\n",
    "        raise e\n"
   ]
  },
  {
   "cell_type": "code",
   "execution_count": 6,
   "id": "92095830",
   "metadata": {},
   "outputs": [],
   "source": [
    "# best_model = YOLO('runs/detect/checkpoint/weights/best.pt')\n",
    "# test_img_path = data_loaded['val']\n",
    "# results = best_model.predict(source = test_img_path, save = True,  save_txt = True,  conf = 0.10, batch = 16)"
   ]
  },
  {
   "cell_type": "markdown",
   "id": "1150e326",
   "metadata": {},
   "source": [
    "Run this cell as it is and take screenshot of the output. This code is for calculating the metrics for test data\n",
    "\n",
    "u can play with conf keep between 0.05-0.2 (for our use case). lower value means it predicts more but with less accuracy. "
   ]
  },
  {
   "cell_type": "code",
   "execution_count": 13,
   "id": "e3ea33d9",
   "metadata": {},
   "outputs": [
    {
     "name": "stdout",
     "output_type": "stream",
     "text": [
      "Ultralytics 8.3.68 🚀 Python-3.11.6 torch-2.5.1+cu124 CUDA:0 (NVIDIA A100-SXM4-80GB, 81158MiB)\n"
     ]
    },
    {
     "name": "stderr",
     "output_type": "stream",
     "text": [
      "\u001b[34m\u001b[1mval: \u001b[0mScanning /home/rshah133/bcd/dataset/test/labels.cache... 763 images, 34 backgrounds, 0 corrupt: 100%|██████████| 763/763 [00:00<?, ?it/s]\n",
      "                 Class     Images  Instances      Box(P          R      mAP50  mAP50-95): 100%|██████████| 48/48 [00:08<00:00,  5.64it/s]\n"
     ]
    },
    {
     "name": "stdout",
     "output_type": "stream",
     "text": [
      "                   all        763       1860      0.124     0.0364     0.0252    0.00971\n",
      "                  Mass        388        451      0.216      0.333      0.217     0.0831\n",
      "           Spiculation        263        810     0.0923     0.0593     0.0406     0.0157\n",
      "Suspicious Calcification        280        358     0.0516    0.00806     0.0201    0.00799\n",
      "Architectural Distortion         59         59          0          0          0          0\n",
      "             Asymmetry          8          8          0          0          0          0\n",
      "       Focal Asymmetry         93         93          0          0          0          0\n",
      "       Skin Thickening         31         33          0          0          0          0\n",
      "      Global Asymmetry          2          2          0          0          0          0\n",
      " Suspicious Lymph Node         27         30          1          0          0          0\n",
      "       Skin Retraction          3          4          0          0          0          0\n",
      "     Nipple Retraction         12         12          0          0          0          0\n",
      "Speed: 0.3ms preprocess, 2.8ms inference, 0.0ms loss, 0.7ms postprocess per image\n",
      "Results saved to \u001b[1mruns/detect/val2\u001b[0m\n"
     ]
    }
   ],
   "source": [
    "metrics = best_model.val(data = test_path, conf = 0.10)"
   ]
  },
  {
   "cell_type": "code",
   "execution_count": 5,
   "id": "6d1198cd",
   "metadata": {},
   "outputs": [
    {
     "data": {
      "text/plain": [
       "'runs/detect/predict/labels'"
      ]
     },
     "execution_count": 5,
     "metadata": {},
     "output_type": "execute_result"
    }
   ],
   "source": [
    "def get_prediction_dirs():\n",
    "    base_dir = \"runs/detect\"\n",
    "    \n",
    "    predict_dirs = [d for d in os.listdir(base_dir) if d.startswith('predict')]\n",
    "    predict_dirs.sort(key=lambda x: int(x.replace('predict', '')) if x != 'predict' else 0)\n",
    "    \n",
    "    return f\"{base_dir}/{predict_dirs[-1]}/labels\"\n",
    "\n",
    "predictions_dir = get_prediction_dirs()\n",
    "predictions_dir"
   ]
  },
  {
   "cell_type": "code",
   "execution_count": 6,
   "id": "7415e871-b0d0-4b1a-a837-651b772103ca",
   "metadata": {},
   "outputs": [
    {
     "name": "stdout",
     "output_type": "stream",
     "text": [
      "Done saving the predictions\n"
     ]
    }
   ],
   "source": [
    "test_images_dir = data_loaded['val']\n",
    "test_labels_dir = os.path.join(os.path.dirname(data_loaded['val']), 'labels')\n",
    "\n",
    "output_labels_dir = \"results/labels\"  # Directory to save ground truth images\n",
    "output_pred_dir = \"results/predictions\"  # Directory to save predicted images\n",
    "\n",
    "# Create output directory if it doesn't exist\n",
    "os.makedirs(output_labels_dir, exist_ok=True)\n",
    "os.makedirs(output_pred_dir, exist_ok=True)\n",
    "\n",
    "# Function to read YOLO format labels\n",
    "def read_yolo_labels(label_file):\n",
    "    labels = []\n",
    "    with open(label_file, \"r\") as f:\n",
    "        for line in f:\n",
    "            parts = line.strip().split()\n",
    "            class_id, x_center, y_center, width, height = map(float, parts[:5])\n",
    "            confidence = float(parts[5]) if len(parts) > 5 else None\n",
    "            labels.append((int(class_id), x_center, y_center, width, height, confidence))\n",
    "    return labels\n",
    "\n",
    "# Function to draw bounding boxes on images\n",
    "def draw_boxes(image, boxes):\n",
    "    h, w, _ = image.shape\n",
    "    for box in boxes:\n",
    "        class_id, x_center, y_center, width, height, confidence = box\n",
    "        x_min = int((x_center - width / 2) * w)\n",
    "        y_min = int((y_center - height / 2) * h)\n",
    "        x_max = int((x_center + width / 2) * w)\n",
    "        y_max = int((y_center + height / 2) * h)\n",
    "        # Draw rectangle\n",
    "        cv2.rectangle(image, (x_min, y_min), (x_max, y_max), color_dict[class_id], 2)\n",
    "    return image\n",
    "\n",
    "# Loop through each image\n",
    "for image_file in os.listdir(test_images_dir):\n",
    "    if image_file.endswith((\".jpg\", \".png\", \".jpeg\")):\n",
    "        base_name = os.path.splitext(image_file)[0]\n",
    "        image_path = os.path.join(test_images_dir, image_file)\n",
    "\n",
    "        # Load the image\n",
    "        image = cv2.imread(image_path)\n",
    "        if image is None:\n",
    "            print(f\"Error loading {image_file}\")\n",
    "            continue\n",
    "\n",
    "        # Read ground truth labels\n",
    "        ground_truth_file = os.path.join(test_labels_dir, f\"{base_name}.txt\")\n",
    "        ground_truth_boxes = read_yolo_labels(ground_truth_file) if os.path.exists(ground_truth_file) else []\n",
    "\n",
    "        # Read prediction labels\n",
    "        prediction_file = os.path.join(predictions_dir, f\"{base_name}.txt\")\n",
    "        prediction_boxes = read_yolo_labels(prediction_file) if os.path.exists(prediction_file) else []\n",
    "\n",
    "        # Draw ground truth (green) and predictions (blue)\n",
    "        image_with_boxes_gt = draw_boxes(image.copy(), ground_truth_boxes)\n",
    "        image_with_boxes_pt = draw_boxes(image.copy(), prediction_boxes)\n",
    "\n",
    "        # Save annotated image\n",
    "        gt_output_path = os.path.join(output_labels_dir, image_file)\n",
    "        cv2.imwrite(gt_output_path, image_with_boxes_gt)\n",
    "\n",
    "        pt_output_path = os.path.join(output_pred_dir, image_file)\n",
    "        cv2.imwrite(pt_output_path, image_with_boxes_pt)\n",
    "\n",
    "print(\"Done saving the predictions\")"
   ]
  },
  {
   "cell_type": "markdown",
   "id": "e504c186",
   "metadata": {},
   "source": [
    "Code to combine images in a single pdf. This code take upto 20mins to execute"
   ]
  },
  {
   "cell_type": "code",
   "execution_count": 7,
   "id": "4f8b0274",
   "metadata": {},
   "outputs": [
    {
     "name": "stdout",
     "output_type": "stream",
     "text": [
      "5 prediction images saved in combined_images.pdf\n"
     ]
    }
   ],
   "source": [
    "c = 0\n",
    "\n",
    "output_labels_file_names = sorted(os.listdir(output_labels_dir))\n",
    "output_pred_file_names = sorted(os.listdir(output_pred_dir))\n",
    "\n",
    "pdf_file_path = \"combined_images.pdf\"\n",
    "with PdfPages(pdf_file_path) as pdf:\n",
    "    for label_file, pred_file in zip(output_labels_file_names[:5], output_pred_file_names[:5]):\n",
    "        label_img = cv2.imread(os.path.join(output_labels_dir, label_file))\n",
    "        pred_img = cv2.imread(os.path.join(output_pred_dir, pred_file))\n",
    "\n",
    "        fig, axs = plt.subplots(1, 2, figsize=(16, 6))\n",
    "        fig.suptitle(f\"Image: {label_file}\", fontsize=12)\n",
    "        axs[0].imshow(cv2.cvtColor(label_img, cv2.COLOR_BGR2RGB))\n",
    "        axs[0].set_title('Ground Truth')\n",
    "        axs[0].axis('off')\n",
    "        axs[1].imshow(cv2.cvtColor(pred_img, cv2.COLOR_BGR2RGB))\n",
    "        axs[1].set_title('Prediction')\n",
    "        axs[1].axis('off')\n",
    "        plt.tight_layout()\n",
    "        c += 1\n",
    "        \n",
    "        pdf.savefig(fig)\n",
    "        plt.close(fig)\n",
    "\n",
    "print(f\"{c} prediction images saved in {pdf_file_path}\")"
   ]
  },
  {
   "cell_type": "markdown",
   "id": "34838ae9",
   "metadata": {},
   "source": [
    "This code block will display ground truth and predictions one by one in the notebook itself. Not required if combining in the pdf"
   ]
  },
  {
   "cell_type": "code",
   "execution_count": null,
   "id": "635e61d1",
   "metadata": {},
   "outputs": [],
   "source": [
    "# %matplotlib inline\n",
    "\n",
    "# output_labels_file_names = sorted(os.listdir(output_labels_dir))\n",
    "# output_pred_file_names = sorted(os.listdir(output_pred_dir))\n",
    "\n",
    "# for label_file, pred_file in zip(output_labels_file_names, output_pred_file_names):\n",
    "#     label_img = cv2.imread(os.path.join(output_labels_dir, label_file))\n",
    "#     pred_img = cv2.imread(os.path.join(output_pred_dir, pred_file))\n",
    "    \n",
    "#     fig, axs = plt.subplots(1, 2, figsize=(16, 6))\n",
    "#     axs[0].imshow(cv2.cvtColor(label_img, cv2.COLOR_BGR2RGB))\n",
    "#     axs[0].set_title('Ground Truth')\n",
    "#     axs[0].axis('off')\n",
    "#     axs[1].imshow(cv2.cvtColor(pred_img, cv2.COLOR_BGR2RGB))\n",
    "#     axs[1].set_title('Prediction')\n",
    "#     axs[1].axis('off')\n",
    "#     plt.tight_layout()\n",
    "#     plt.show()"
   ]
  }
 ],
 "metadata": {
  "kernelspec": {
   "display_name": "pytorch-gpu-2.1.0-cuda-12.1",
   "language": "python",
   "name": "pytorch-gpu-2.1.0-cuda-12.1"
  },
  "language_info": {
   "codemirror_mode": {
    "name": "ipython",
    "version": 3
   },
   "file_extension": ".py",
   "mimetype": "text/x-python",
   "name": "python",
   "nbconvert_exporter": "python",
   "pygments_lexer": "ipython3",
   "version": "3.11.6"
  }
 },
 "nbformat": 4,
 "nbformat_minor": 5
}
